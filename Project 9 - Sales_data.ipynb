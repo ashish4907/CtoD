{
 "cells": [
  {
   "cell_type": "code",
   "execution_count": 1,
   "id": "analyzed-workshop",
   "metadata": {},
   "outputs": [],
   "source": [
    "import pandas as pd\n",
    "import os"
   ]
  },
  {
   "cell_type": "markdown",
   "id": "prime-williams",
   "metadata": {},
   "source": [
    "### Merge the 12 months of sales data into single CSV file"
   ]
  },
  {
   "cell_type": "code",
   "execution_count": 2,
   "id": "computational-particular",
   "metadata": {},
   "outputs": [],
   "source": [
    "files= [file for file in os.listdir('./Sales_Data')]\n",
    "\n",
    "all_months_data=pd.DataFrame()\n",
    "\n",
    "for file in files:\n",
    "    df=pd.read_csv('./Sales_Data/'+file)\n",
    "    all_months_data=pd.concat([all_months_data,df])\n"
   ]
  },
  {
   "cell_type": "code",
   "execution_count": 3,
   "id": "distinguished-vegetable",
   "metadata": {},
   "outputs": [],
   "source": [
    "all_months_data.to_csv(\"Sales_Data_2019.csv\",index=False)"
   ]
  },
  {
   "cell_type": "code",
   "execution_count": 4,
   "id": "intellectual-value",
   "metadata": {},
   "outputs": [],
   "source": [
    "sales= pd.read_csv('Sales_Data_2019.csv')"
   ]
  },
  {
   "cell_type": "code",
   "execution_count": 5,
   "id": "hundred-anderson",
   "metadata": {},
   "outputs": [
    {
     "data": {
      "text/plain": [
       "(186850, 6)"
      ]
     },
     "execution_count": 5,
     "metadata": {},
     "output_type": "execute_result"
    }
   ],
   "source": [
    "sales.shape"
   ]
  },
  {
   "cell_type": "code",
   "execution_count": 6,
   "id": "aggressive-belle",
   "metadata": {},
   "outputs": [
    {
     "name": "stdout",
     "output_type": "stream",
     "text": [
      "<class 'pandas.core.frame.DataFrame'>\n",
      "RangeIndex: 186850 entries, 0 to 186849\n",
      "Data columns (total 6 columns):\n",
      " #   Column            Non-Null Count   Dtype \n",
      "---  ------            --------------   ----- \n",
      " 0   Order ID          186305 non-null  object\n",
      " 1   Product           186305 non-null  object\n",
      " 2   Quantity Ordered  186305 non-null  object\n",
      " 3   Price Each        186305 non-null  object\n",
      " 4   Order Date        186305 non-null  object\n",
      " 5   Purchase Address  186305 non-null  object\n",
      "dtypes: object(6)\n",
      "memory usage: 8.6+ MB\n"
     ]
    }
   ],
   "source": [
    "sales.info()"
   ]
  },
  {
   "cell_type": "code",
   "execution_count": 7,
   "id": "satellite-celebrity",
   "metadata": {},
   "outputs": [
    {
     "data": {
      "text/html": [
       "<div>\n",
       "<style scoped>\n",
       "    .dataframe tbody tr th:only-of-type {\n",
       "        vertical-align: middle;\n",
       "    }\n",
       "\n",
       "    .dataframe tbody tr th {\n",
       "        vertical-align: top;\n",
       "    }\n",
       "\n",
       "    .dataframe thead th {\n",
       "        text-align: right;\n",
       "    }\n",
       "</style>\n",
       "<table border=\"1\" class=\"dataframe\">\n",
       "  <thead>\n",
       "    <tr style=\"text-align: right;\">\n",
       "      <th></th>\n",
       "      <th>Order ID</th>\n",
       "      <th>Product</th>\n",
       "      <th>Quantity Ordered</th>\n",
       "      <th>Price Each</th>\n",
       "      <th>Order Date</th>\n",
       "      <th>Purchase Address</th>\n",
       "    </tr>\n",
       "  </thead>\n",
       "  <tbody>\n",
       "    <tr>\n",
       "      <th>count</th>\n",
       "      <td>186305</td>\n",
       "      <td>186305</td>\n",
       "      <td>186305</td>\n",
       "      <td>186305</td>\n",
       "      <td>186305</td>\n",
       "      <td>186305</td>\n",
       "    </tr>\n",
       "    <tr>\n",
       "      <th>unique</th>\n",
       "      <td>178438</td>\n",
       "      <td>20</td>\n",
       "      <td>10</td>\n",
       "      <td>24</td>\n",
       "      <td>142396</td>\n",
       "      <td>140788</td>\n",
       "    </tr>\n",
       "    <tr>\n",
       "      <th>top</th>\n",
       "      <td>Order ID</td>\n",
       "      <td>USB-C Charging Cable</td>\n",
       "      <td>1</td>\n",
       "      <td>11.95</td>\n",
       "      <td>Order Date</td>\n",
       "      <td>Purchase Address</td>\n",
       "    </tr>\n",
       "    <tr>\n",
       "      <th>freq</th>\n",
       "      <td>355</td>\n",
       "      <td>21903</td>\n",
       "      <td>168552</td>\n",
       "      <td>21903</td>\n",
       "      <td>355</td>\n",
       "      <td>355</td>\n",
       "    </tr>\n",
       "  </tbody>\n",
       "</table>\n",
       "</div>"
      ],
      "text/plain": [
       "        Order ID               Product Quantity Ordered Price Each  \\\n",
       "count     186305                186305           186305     186305   \n",
       "unique    178438                    20               10         24   \n",
       "top     Order ID  USB-C Charging Cable                1      11.95   \n",
       "freq         355                 21903           168552      21903   \n",
       "\n",
       "        Order Date  Purchase Address  \n",
       "count       186305            186305  \n",
       "unique      142396            140788  \n",
       "top     Order Date  Purchase Address  \n",
       "freq           355               355  "
      ]
     },
     "execution_count": 7,
     "metadata": {},
     "output_type": "execute_result"
    }
   ],
   "source": [
    "sales.describe()"
   ]
  },
  {
   "cell_type": "code",
   "execution_count": 8,
   "id": "daily-plymouth",
   "metadata": {},
   "outputs": [
    {
     "data": {
      "text/plain": [
       "Order ID            545\n",
       "Product             545\n",
       "Quantity Ordered    545\n",
       "Price Each          545\n",
       "Order Date          545\n",
       "Purchase Address    545\n",
       "dtype: int64"
      ]
     },
     "execution_count": 8,
     "metadata": {},
     "output_type": "execute_result"
    }
   ],
   "source": [
    "sales.isnull().sum()"
   ]
  },
  {
   "cell_type": "markdown",
   "id": "incorporate-contents",
   "metadata": {},
   "source": [
    "### Order ID"
   ]
  },
  {
   "cell_type": "code",
   "execution_count": 9,
   "id": "coupled-islam",
   "metadata": {},
   "outputs": [],
   "source": [
    "sales.rename(columns={'Order ID':'order_id'},inplace=True)"
   ]
  },
  {
   "cell_type": "code",
   "execution_count": 10,
   "id": "considerable-southeast",
   "metadata": {},
   "outputs": [
    {
     "data": {
      "text/plain": [
       "NaN         545\n",
       "Order ID    355\n",
       "160873        5\n",
       "289117        4\n",
       "165665        4\n",
       "           ... \n",
       "289035        1\n",
       "182130        1\n",
       "276449        1\n",
       "297154        1\n",
       "234877        1\n",
       "Name: order_id, Length: 178439, dtype: int64"
      ]
     },
     "execution_count": 10,
     "metadata": {},
     "output_type": "execute_result"
    }
   ],
   "source": [
    "sales.order_id.value_counts(dropna=False)"
   ]
  },
  {
   "cell_type": "code",
   "execution_count": 11,
   "id": "primary-praise",
   "metadata": {},
   "outputs": [],
   "source": [
    "import numpy as np"
   ]
  },
  {
   "cell_type": "code",
   "execution_count": 12,
   "id": "mobile-chemical",
   "metadata": {},
   "outputs": [],
   "source": [
    "sales['order_id'].replace(to_replace='Order ID',value=np.nan,inplace=True)"
   ]
  },
  {
   "cell_type": "code",
   "execution_count": 13,
   "id": "congressional-hobby",
   "metadata": {},
   "outputs": [
    {
     "data": {
      "text/plain": [
       "NaN       900\n",
       "160873      5\n",
       "289117      4\n",
       "235798      4\n",
       "295681      4\n",
       "         ... \n",
       "289035      1\n",
       "182130      1\n",
       "276449      1\n",
       "297154      1\n",
       "234877      1\n",
       "Name: order_id, Length: 178438, dtype: int64"
      ]
     },
     "execution_count": 13,
     "metadata": {},
     "output_type": "execute_result"
    }
   ],
   "source": [
    "sales.order_id.value_counts(dropna=False)"
   ]
  },
  {
   "cell_type": "code",
   "execution_count": 14,
   "id": "upper-purple",
   "metadata": {},
   "outputs": [
    {
     "data": {
      "text/plain": [
       "178437"
      ]
     },
     "execution_count": 14,
     "metadata": {},
     "output_type": "execute_result"
    }
   ],
   "source": [
    "sales.iloc[:,0].nunique()"
   ]
  },
  {
   "cell_type": "code",
   "execution_count": 15,
   "id": "renewable-congo",
   "metadata": {},
   "outputs": [
    {
     "data": {
      "text/plain": [
       "900"
      ]
     },
     "execution_count": 15,
     "metadata": {},
     "output_type": "execute_result"
    }
   ],
   "source": [
    "sales.iloc[:,0].isnull().sum()"
   ]
  },
  {
   "cell_type": "code",
   "execution_count": 16,
   "id": "portuguese-pride",
   "metadata": {},
   "outputs": [],
   "source": [
    "sales.dropna(axis=0,inplace=True)"
   ]
  },
  {
   "cell_type": "code",
   "execution_count": 17,
   "id": "naughty-leone",
   "metadata": {},
   "outputs": [
    {
     "data": {
      "text/plain": [
       "0"
      ]
     },
     "execution_count": 17,
     "metadata": {},
     "output_type": "execute_result"
    }
   ],
   "source": [
    "sales.iloc[:,0].isnull().sum()"
   ]
  },
  {
   "cell_type": "code",
   "execution_count": 18,
   "id": "geographic-advantage",
   "metadata": {},
   "outputs": [
    {
     "name": "stdout",
     "output_type": "stream",
     "text": [
      "object\n"
     ]
    }
   ],
   "source": [
    "print(sales['order_id'].dtype)"
   ]
  },
  {
   "cell_type": "code",
   "execution_count": 19,
   "id": "fatal-juice",
   "metadata": {},
   "outputs": [],
   "source": [
    "sales['order_id'] = sales[\"order_id\"].astype('int')"
   ]
  },
  {
   "cell_type": "code",
   "execution_count": 20,
   "id": "municipal-boards",
   "metadata": {},
   "outputs": [
    {
     "name": "stdout",
     "output_type": "stream",
     "text": [
      "int32\n"
     ]
    }
   ],
   "source": [
    "print(sales['order_id'].dtype)"
   ]
  },
  {
   "cell_type": "code",
   "execution_count": 21,
   "id": "buried-cheat",
   "metadata": {},
   "outputs": [
    {
     "data": {
      "text/html": [
       "<div>\n",
       "<style scoped>\n",
       "    .dataframe tbody tr th:only-of-type {\n",
       "        vertical-align: middle;\n",
       "    }\n",
       "\n",
       "    .dataframe tbody tr th {\n",
       "        vertical-align: top;\n",
       "    }\n",
       "\n",
       "    .dataframe thead th {\n",
       "        text-align: right;\n",
       "    }\n",
       "</style>\n",
       "<table border=\"1\" class=\"dataframe\">\n",
       "  <thead>\n",
       "    <tr style=\"text-align: right;\">\n",
       "      <th></th>\n",
       "      <th>order_id</th>\n",
       "      <th>Product</th>\n",
       "      <th>Quantity Ordered</th>\n",
       "      <th>Price Each</th>\n",
       "      <th>Order Date</th>\n",
       "      <th>Purchase Address</th>\n",
       "    </tr>\n",
       "  </thead>\n",
       "  <tbody>\n",
       "    <tr>\n",
       "      <th>17767</th>\n",
       "      <td>193511</td>\n",
       "      <td>Google Phone</td>\n",
       "      <td>1</td>\n",
       "      <td>600</td>\n",
       "      <td>4/21/2019 11:14</td>\n",
       "      <td>821 Elm St, Austin, TX 73301</td>\n",
       "    </tr>\n",
       "    <tr>\n",
       "      <th>17768</th>\n",
       "      <td>193511</td>\n",
       "      <td>USB-C Charging Cable</td>\n",
       "      <td>2</td>\n",
       "      <td>11.95</td>\n",
       "      <td>4/21/2019 11:14</td>\n",
       "      <td>821 Elm St, Austin, TX 73301</td>\n",
       "    </tr>\n",
       "    <tr>\n",
       "      <th>17769</th>\n",
       "      <td>193511</td>\n",
       "      <td>Bose SoundSport Headphones</td>\n",
       "      <td>1</td>\n",
       "      <td>99.99</td>\n",
       "      <td>4/21/2019 11:14</td>\n",
       "      <td>821 Elm St, Austin, TX 73301</td>\n",
       "    </tr>\n",
       "    <tr>\n",
       "      <th>17770</th>\n",
       "      <td>193511</td>\n",
       "      <td>Wired Headphones</td>\n",
       "      <td>1</td>\n",
       "      <td>11.99</td>\n",
       "      <td>4/21/2019 11:14</td>\n",
       "      <td>821 Elm St, Austin, TX 73301</td>\n",
       "    </tr>\n",
       "  </tbody>\n",
       "</table>\n",
       "</div>"
      ],
      "text/plain": [
       "       order_id                     Product Quantity Ordered Price Each  \\\n",
       "17767    193511                Google Phone                1        600   \n",
       "17768    193511        USB-C Charging Cable                2      11.95   \n",
       "17769    193511  Bose SoundSport Headphones                1      99.99   \n",
       "17770    193511            Wired Headphones                1      11.99   \n",
       "\n",
       "            Order Date              Purchase Address  \n",
       "17767  4/21/2019 11:14  821 Elm St, Austin, TX 73301  \n",
       "17768  4/21/2019 11:14  821 Elm St, Austin, TX 73301  \n",
       "17769  4/21/2019 11:14  821 Elm St, Austin, TX 73301  \n",
       "17770  4/21/2019 11:14  821 Elm St, Austin, TX 73301  "
      ]
     },
     "execution_count": 21,
     "metadata": {},
     "output_type": "execute_result"
    }
   ],
   "source": [
    "sales[sales['order_id'] == 193511]"
   ]
  },
  {
   "cell_type": "code",
   "execution_count": 22,
   "id": "awful-detector",
   "metadata": {},
   "outputs": [
    {
     "data": {
      "text/html": [
       "<div>\n",
       "<style scoped>\n",
       "    .dataframe tbody tr th:only-of-type {\n",
       "        vertical-align: middle;\n",
       "    }\n",
       "\n",
       "    .dataframe tbody tr th {\n",
       "        vertical-align: top;\n",
       "    }\n",
       "\n",
       "    .dataframe thead th {\n",
       "        text-align: right;\n",
       "    }\n",
       "</style>\n",
       "<table border=\"1\" class=\"dataframe\">\n",
       "  <thead>\n",
       "    <tr style=\"text-align: right;\">\n",
       "      <th></th>\n",
       "      <th>order_id</th>\n",
       "      <th>Product</th>\n",
       "      <th>Quantity Ordered</th>\n",
       "      <th>Price Each</th>\n",
       "      <th>Order Date</th>\n",
       "      <th>Purchase Address</th>\n",
       "    </tr>\n",
       "  </thead>\n",
       "  <tbody>\n",
       "    <tr>\n",
       "      <th>0</th>\n",
       "      <td>176558</td>\n",
       "      <td>USB-C Charging Cable</td>\n",
       "      <td>2</td>\n",
       "      <td>11.95</td>\n",
       "      <td>4/19/2019 8:46</td>\n",
       "      <td>917 1st St, Dallas, TX 75001</td>\n",
       "    </tr>\n",
       "  </tbody>\n",
       "</table>\n",
       "</div>"
      ],
      "text/plain": [
       "   order_id               Product Quantity Ordered Price Each      Order Date  \\\n",
       "0    176558  USB-C Charging Cable                2      11.95  4/19/2019 8:46   \n",
       "\n",
       "               Purchase Address  \n",
       "0  917 1st St, Dallas, TX 75001  "
      ]
     },
     "execution_count": 22,
     "metadata": {},
     "output_type": "execute_result"
    }
   ],
   "source": [
    "sales.head(1)"
   ]
  },
  {
   "cell_type": "markdown",
   "id": "catholic-press",
   "metadata": {},
   "source": [
    "### Product"
   ]
  },
  {
   "cell_type": "code",
   "execution_count": 23,
   "id": "infrared-inquiry",
   "metadata": {},
   "outputs": [
    {
     "data": {
      "text/plain": [
       "USB-C Charging Cable          21903\n",
       "Lightning Charging Cable      21658\n",
       "AAA Batteries (4-pack)        20641\n",
       "AA Batteries (4-pack)         20577\n",
       "Wired Headphones              18882\n",
       "Apple Airpods Headphones      15549\n",
       "Bose SoundSport Headphones    13325\n",
       "27in FHD Monitor               7507\n",
       "iPhone                         6842\n",
       "27in 4K Gaming Monitor         6230\n",
       "34in Ultrawide Monitor         6181\n",
       "Google Phone                   5525\n",
       "Flatscreen TV                  4800\n",
       "Macbook Pro Laptop             4724\n",
       "ThinkPad Laptop                4128\n",
       "20in Monitor                   4101\n",
       "Vareebadd Phone                2065\n",
       "LG Washing Machine              666\n",
       "LG Dryer                        646\n",
       "Name: Product, dtype: int64"
      ]
     },
     "execution_count": 23,
     "metadata": {},
     "output_type": "execute_result"
    }
   ],
   "source": [
    "sales.Product.value_counts()"
   ]
  },
  {
   "cell_type": "code",
   "execution_count": 24,
   "id": "defensive-tunnel",
   "metadata": {},
   "outputs": [
    {
     "data": {
      "text/plain": [
       "19"
      ]
     },
     "execution_count": 24,
     "metadata": {},
     "output_type": "execute_result"
    }
   ],
   "source": [
    "sales.iloc[:,1].nunique()"
   ]
  },
  {
   "cell_type": "code",
   "execution_count": 25,
   "id": "serial-might",
   "metadata": {},
   "outputs": [
    {
     "name": "stdout",
     "output_type": "stream",
     "text": [
      "object\n"
     ]
    }
   ],
   "source": [
    "print(sales['Product'].dtype)"
   ]
  },
  {
   "cell_type": "code",
   "execution_count": 26,
   "id": "attached-ministry",
   "metadata": {},
   "outputs": [
    {
     "data": {
      "text/plain": [
       "False"
      ]
     },
     "execution_count": 26,
     "metadata": {},
     "output_type": "execute_result"
    }
   ],
   "source": [
    "sales.iloc[:,1].isnull().any()"
   ]
  },
  {
   "cell_type": "code",
   "execution_count": 27,
   "id": "composed-steel",
   "metadata": {},
   "outputs": [
    {
     "data": {
      "text/plain": [
       "(646, 6)"
      ]
     },
     "execution_count": 27,
     "metadata": {},
     "output_type": "execute_result"
    }
   ],
   "source": [
    "sales[sales['Product']=='LG Dryer'].shape"
   ]
  },
  {
   "cell_type": "code",
   "execution_count": 28,
   "id": "honey-applicant",
   "metadata": {},
   "outputs": [
    {
     "data": {
      "text/html": [
       "<div>\n",
       "<style scoped>\n",
       "    .dataframe tbody tr th:only-of-type {\n",
       "        vertical-align: middle;\n",
       "    }\n",
       "\n",
       "    .dataframe tbody tr th {\n",
       "        vertical-align: top;\n",
       "    }\n",
       "\n",
       "    .dataframe thead th {\n",
       "        text-align: right;\n",
       "    }\n",
       "</style>\n",
       "<table border=\"1\" class=\"dataframe\">\n",
       "  <thead>\n",
       "    <tr style=\"text-align: right;\">\n",
       "      <th></th>\n",
       "      <th>order_id</th>\n",
       "      <th>Product</th>\n",
       "      <th>Quantity Ordered</th>\n",
       "      <th>Price Each</th>\n",
       "      <th>Order Date</th>\n",
       "      <th>Purchase Address</th>\n",
       "    </tr>\n",
       "  </thead>\n",
       "  <tbody>\n",
       "    <tr>\n",
       "      <th>0</th>\n",
       "      <td>176558</td>\n",
       "      <td>USB-C Charging Cable</td>\n",
       "      <td>2</td>\n",
       "      <td>11.95</td>\n",
       "      <td>4/19/2019 8:46</td>\n",
       "      <td>917 1st St, Dallas, TX 75001</td>\n",
       "    </tr>\n",
       "  </tbody>\n",
       "</table>\n",
       "</div>"
      ],
      "text/plain": [
       "   order_id               Product Quantity Ordered Price Each      Order Date  \\\n",
       "0    176558  USB-C Charging Cable                2      11.95  4/19/2019 8:46   \n",
       "\n",
       "               Purchase Address  \n",
       "0  917 1st St, Dallas, TX 75001  "
      ]
     },
     "execution_count": 28,
     "metadata": {},
     "output_type": "execute_result"
    }
   ],
   "source": [
    "sales.head(1)"
   ]
  },
  {
   "cell_type": "markdown",
   "id": "satisfactory-chair",
   "metadata": {},
   "source": [
    "### Quantity Ordered"
   ]
  },
  {
   "cell_type": "code",
   "execution_count": 29,
   "id": "demographic-sherman",
   "metadata": {},
   "outputs": [],
   "source": [
    "sales.rename(columns={'Quantity Ordered':'quantity_ordered'},inplace=True)"
   ]
  },
  {
   "cell_type": "code",
   "execution_count": 30,
   "id": "documented-international",
   "metadata": {},
   "outputs": [
    {
     "data": {
      "text/plain": [
       "1    168552\n",
       "2     13324\n",
       "3      2920\n",
       "4       806\n",
       "5       236\n",
       "6        80\n",
       "7        24\n",
       "8         5\n",
       "9         3\n",
       "Name: quantity_ordered, dtype: int64"
      ]
     },
     "execution_count": 30,
     "metadata": {},
     "output_type": "execute_result"
    }
   ],
   "source": [
    "sales.quantity_ordered.value_counts()"
   ]
  },
  {
   "cell_type": "code",
   "execution_count": 31,
   "id": "injured-catch",
   "metadata": {},
   "outputs": [
    {
     "data": {
      "text/plain": [
       "9"
      ]
     },
     "execution_count": 31,
     "metadata": {},
     "output_type": "execute_result"
    }
   ],
   "source": [
    "sales.iloc[:,2].nunique()"
   ]
  },
  {
   "cell_type": "code",
   "execution_count": 32,
   "id": "quick-luxury",
   "metadata": {},
   "outputs": [
    {
     "data": {
      "text/plain": [
       "0"
      ]
     },
     "execution_count": 32,
     "metadata": {},
     "output_type": "execute_result"
    }
   ],
   "source": [
    "sales.iloc[:,2].isnull().sum()"
   ]
  },
  {
   "cell_type": "code",
   "execution_count": 33,
   "id": "nervous-montgomery",
   "metadata": {},
   "outputs": [
    {
     "name": "stdout",
     "output_type": "stream",
     "text": [
      "object\n"
     ]
    }
   ],
   "source": [
    "print(sales['quantity_ordered'].dtype)"
   ]
  },
  {
   "cell_type": "code",
   "execution_count": 34,
   "id": "arctic-trailer",
   "metadata": {},
   "outputs": [],
   "source": [
    "sales['quantity_ordered'] =sales['quantity_ordered'].astype('int')"
   ]
  },
  {
   "cell_type": "code",
   "execution_count": 35,
   "id": "sudden-dubai",
   "metadata": {},
   "outputs": [
    {
     "name": "stdout",
     "output_type": "stream",
     "text": [
      "int32\n"
     ]
    }
   ],
   "source": [
    "print(sales['quantity_ordered'].dtype)"
   ]
  },
  {
   "cell_type": "code",
   "execution_count": 36,
   "id": "loose-lyric",
   "metadata": {},
   "outputs": [
    {
     "data": {
      "text/html": [
       "<div>\n",
       "<style scoped>\n",
       "    .dataframe tbody tr th:only-of-type {\n",
       "        vertical-align: middle;\n",
       "    }\n",
       "\n",
       "    .dataframe tbody tr th {\n",
       "        vertical-align: top;\n",
       "    }\n",
       "\n",
       "    .dataframe thead th {\n",
       "        text-align: right;\n",
       "    }\n",
       "</style>\n",
       "<table border=\"1\" class=\"dataframe\">\n",
       "  <thead>\n",
       "    <tr style=\"text-align: right;\">\n",
       "      <th></th>\n",
       "      <th>order_id</th>\n",
       "      <th>Product</th>\n",
       "      <th>quantity_ordered</th>\n",
       "      <th>Price Each</th>\n",
       "      <th>Order Date</th>\n",
       "      <th>Purchase Address</th>\n",
       "    </tr>\n",
       "  </thead>\n",
       "  <tbody>\n",
       "    <tr>\n",
       "      <th>81010</th>\n",
       "      <td>226483</td>\n",
       "      <td>AAA Batteries (4-pack)</td>\n",
       "      <td>9</td>\n",
       "      <td>2.99</td>\n",
       "      <td>07/20/19 23:28</td>\n",
       "      <td>867 Sunset St, San Francisco, CA 94016</td>\n",
       "    </tr>\n",
       "    <tr>\n",
       "      <th>81646</th>\n",
       "      <td>227096</td>\n",
       "      <td>AAA Batteries (4-pack)</td>\n",
       "      <td>9</td>\n",
       "      <td>2.99</td>\n",
       "      <td>07/29/19 09:50</td>\n",
       "      <td>60 10th St, San Francisco, CA 94016</td>\n",
       "    </tr>\n",
       "    <tr>\n",
       "      <th>92877</th>\n",
       "      <td>211097</td>\n",
       "      <td>AAA Batteries (4-pack)</td>\n",
       "      <td>9</td>\n",
       "      <td>2.99</td>\n",
       "      <td>06/23/19 08:29</td>\n",
       "      <td>338 Hickory St, Los Angeles, CA 90001</td>\n",
       "    </tr>\n",
       "  </tbody>\n",
       "</table>\n",
       "</div>"
      ],
      "text/plain": [
       "       order_id                 Product  quantity_ordered Price Each  \\\n",
       "81010    226483  AAA Batteries (4-pack)                 9       2.99   \n",
       "81646    227096  AAA Batteries (4-pack)                 9       2.99   \n",
       "92877    211097  AAA Batteries (4-pack)                 9       2.99   \n",
       "\n",
       "           Order Date                        Purchase Address  \n",
       "81010  07/20/19 23:28  867 Sunset St, San Francisco, CA 94016  \n",
       "81646  07/29/19 09:50     60 10th St, San Francisco, CA 94016  \n",
       "92877  06/23/19 08:29   338 Hickory St, Los Angeles, CA 90001  "
      ]
     },
     "execution_count": 36,
     "metadata": {},
     "output_type": "execute_result"
    }
   ],
   "source": [
    "sales[sales['quantity_ordered'] == 9]"
   ]
  },
  {
   "cell_type": "code",
   "execution_count": 37,
   "id": "dedicated-compensation",
   "metadata": {},
   "outputs": [
    {
     "data": {
      "text/html": [
       "<div>\n",
       "<style scoped>\n",
       "    .dataframe tbody tr th:only-of-type {\n",
       "        vertical-align: middle;\n",
       "    }\n",
       "\n",
       "    .dataframe tbody tr th {\n",
       "        vertical-align: top;\n",
       "    }\n",
       "\n",
       "    .dataframe thead th {\n",
       "        text-align: right;\n",
       "    }\n",
       "</style>\n",
       "<table border=\"1\" class=\"dataframe\">\n",
       "  <thead>\n",
       "    <tr style=\"text-align: right;\">\n",
       "      <th></th>\n",
       "      <th>order_id</th>\n",
       "      <th>Product</th>\n",
       "      <th>quantity_ordered</th>\n",
       "      <th>Price Each</th>\n",
       "      <th>Order Date</th>\n",
       "      <th>Purchase Address</th>\n",
       "    </tr>\n",
       "  </thead>\n",
       "  <tbody>\n",
       "    <tr>\n",
       "      <th>0</th>\n",
       "      <td>176558</td>\n",
       "      <td>USB-C Charging Cable</td>\n",
       "      <td>2</td>\n",
       "      <td>11.95</td>\n",
       "      <td>4/19/2019 8:46</td>\n",
       "      <td>917 1st St, Dallas, TX 75001</td>\n",
       "    </tr>\n",
       "  </tbody>\n",
       "</table>\n",
       "</div>"
      ],
      "text/plain": [
       "   order_id               Product  quantity_ordered Price Each  \\\n",
       "0    176558  USB-C Charging Cable                 2      11.95   \n",
       "\n",
       "       Order Date              Purchase Address  \n",
       "0  4/19/2019 8:46  917 1st St, Dallas, TX 75001  "
      ]
     },
     "execution_count": 37,
     "metadata": {},
     "output_type": "execute_result"
    }
   ],
   "source": [
    "sales.head(1)"
   ]
  },
  {
   "cell_type": "markdown",
   "id": "lightweight-portugal",
   "metadata": {},
   "source": [
    "### Price Each"
   ]
  },
  {
   "cell_type": "code",
   "execution_count": 38,
   "id": "flexible-throw",
   "metadata": {},
   "outputs": [],
   "source": [
    "sales.rename(columns={\"Price Each\":'price_each'},inplace=True)"
   ]
  },
  {
   "cell_type": "code",
   "execution_count": 39,
   "id": "civilian-imaging",
   "metadata": {},
   "outputs": [
    {
     "data": {
      "text/plain": [
       "11.95     21903\n",
       "14.95     21658\n",
       "2.99      20641\n",
       "3.84      20577\n",
       "11.99     18882\n",
       "150       15450\n",
       "99.99     13325\n",
       "149.99     7507\n",
       "700        6804\n",
       "389.99     6230\n",
       "379.99     6181\n",
       "600        5628\n",
       "300        4780\n",
       "1700       4702\n",
       "999.99     4128\n",
       "109.99     4101\n",
       "400        2056\n",
       "600.0      1209\n",
       "150.0        99\n",
       "700.0        38\n",
       "1700.0       22\n",
       "300.0        20\n",
       "400.0         9\n",
       "Name: price_each, dtype: int64"
      ]
     },
     "execution_count": 39,
     "metadata": {},
     "output_type": "execute_result"
    }
   ],
   "source": [
    "sales.price_each.value_counts(dropna=False)"
   ]
  },
  {
   "cell_type": "code",
   "execution_count": 40,
   "id": "according-bruce",
   "metadata": {},
   "outputs": [
    {
     "data": {
      "text/plain": [
       "23"
      ]
     },
     "execution_count": 40,
     "metadata": {},
     "output_type": "execute_result"
    }
   ],
   "source": [
    "sales.iloc[:,3].nunique()"
   ]
  },
  {
   "cell_type": "code",
   "execution_count": 41,
   "id": "hazardous-click",
   "metadata": {},
   "outputs": [
    {
     "name": "stdout",
     "output_type": "stream",
     "text": [
      "object\n"
     ]
    }
   ],
   "source": [
    "print(sales['price_each'].dtype)"
   ]
  },
  {
   "cell_type": "code",
   "execution_count": 42,
   "id": "cooked-batch",
   "metadata": {},
   "outputs": [],
   "source": [
    "sales['price_each'] =sales['price_each'].astype('float')"
   ]
  },
  {
   "cell_type": "code",
   "execution_count": 43,
   "id": "headed-electron",
   "metadata": {},
   "outputs": [
    {
     "name": "stdout",
     "output_type": "stream",
     "text": [
      "float64\n"
     ]
    }
   ],
   "source": [
    "print(sales['price_each'].dtype)"
   ]
  },
  {
   "cell_type": "code",
   "execution_count": 44,
   "id": "removable-hardwood",
   "metadata": {},
   "outputs": [
    {
     "data": {
      "text/plain": [
       "0"
      ]
     },
     "execution_count": 44,
     "metadata": {},
     "output_type": "execute_result"
    }
   ],
   "source": [
    "sales.iloc[:,3].isnull().sum()"
   ]
  },
  {
   "cell_type": "code",
   "execution_count": 45,
   "id": "variable-scientist",
   "metadata": {},
   "outputs": [
    {
     "data": {
      "text/html": [
       "<div>\n",
       "<style scoped>\n",
       "    .dataframe tbody tr th:only-of-type {\n",
       "        vertical-align: middle;\n",
       "    }\n",
       "\n",
       "    .dataframe tbody tr th {\n",
       "        vertical-align: top;\n",
       "    }\n",
       "\n",
       "    .dataframe thead th {\n",
       "        text-align: right;\n",
       "    }\n",
       "</style>\n",
       "<table border=\"1\" class=\"dataframe\">\n",
       "  <thead>\n",
       "    <tr style=\"text-align: right;\">\n",
       "      <th></th>\n",
       "      <th>order_id</th>\n",
       "      <th>Product</th>\n",
       "      <th>quantity_ordered</th>\n",
       "      <th>price_each</th>\n",
       "      <th>Order Date</th>\n",
       "      <th>Purchase Address</th>\n",
       "    </tr>\n",
       "  </thead>\n",
       "  <tbody>\n",
       "    <tr>\n",
       "      <th>82</th>\n",
       "      <td>176635</td>\n",
       "      <td>Vareebadd Phone</td>\n",
       "      <td>1</td>\n",
       "      <td>400.0</td>\n",
       "      <td>4/26/2019 9:55</td>\n",
       "      <td>85 North St, San Francisco, CA 94016</td>\n",
       "    </tr>\n",
       "    <tr>\n",
       "      <th>256</th>\n",
       "      <td>176801</td>\n",
       "      <td>Vareebadd Phone</td>\n",
       "      <td>1</td>\n",
       "      <td>400.0</td>\n",
       "      <td>4/28/2019 18:52</td>\n",
       "      <td>125 North St, San Francisco, CA 94016</td>\n",
       "    </tr>\n",
       "    <tr>\n",
       "      <th>510</th>\n",
       "      <td>177046</td>\n",
       "      <td>Vareebadd Phone</td>\n",
       "      <td>1</td>\n",
       "      <td>400.0</td>\n",
       "      <td>4/29/2019 13:02</td>\n",
       "      <td>406 12th St, Los Angeles, CA 90001</td>\n",
       "    </tr>\n",
       "    <tr>\n",
       "      <th>562</th>\n",
       "      <td>177097</td>\n",
       "      <td>Vareebadd Phone</td>\n",
       "      <td>1</td>\n",
       "      <td>400.0</td>\n",
       "      <td>4/21/2019 18:04</td>\n",
       "      <td>35 Hickory St, Los Angeles, CA 90001</td>\n",
       "    </tr>\n",
       "    <tr>\n",
       "      <th>587</th>\n",
       "      <td>177119</td>\n",
       "      <td>Vareebadd Phone</td>\n",
       "      <td>1</td>\n",
       "      <td>400.0</td>\n",
       "      <td>4/6/2019 20:13</td>\n",
       "      <td>617 Highland St, Seattle, WA 98101</td>\n",
       "    </tr>\n",
       "    <tr>\n",
       "      <th>...</th>\n",
       "      <td>...</td>\n",
       "      <td>...</td>\n",
       "      <td>...</td>\n",
       "      <td>...</td>\n",
       "      <td>...</td>\n",
       "      <td>...</td>\n",
       "    </tr>\n",
       "    <tr>\n",
       "      <th>186311</th>\n",
       "      <td>258848</td>\n",
       "      <td>Vareebadd Phone</td>\n",
       "      <td>1</td>\n",
       "      <td>400.0</td>\n",
       "      <td>09/13/19 18:59</td>\n",
       "      <td>340 South St, Portland, OR 97035</td>\n",
       "    </tr>\n",
       "    <tr>\n",
       "      <th>186413</th>\n",
       "      <td>258945</td>\n",
       "      <td>Vareebadd Phone</td>\n",
       "      <td>1</td>\n",
       "      <td>400.0</td>\n",
       "      <td>09/29/19 12:23</td>\n",
       "      <td>80 Main St, Seattle, WA 98101</td>\n",
       "    </tr>\n",
       "    <tr>\n",
       "      <th>186684</th>\n",
       "      <td>259204</td>\n",
       "      <td>Vareebadd Phone</td>\n",
       "      <td>1</td>\n",
       "      <td>400.0</td>\n",
       "      <td>09/17/19 18:06</td>\n",
       "      <td>850 Meadow St, Boston, MA 02215</td>\n",
       "    </tr>\n",
       "    <tr>\n",
       "      <th>186702</th>\n",
       "      <td>259220</td>\n",
       "      <td>Vareebadd Phone</td>\n",
       "      <td>1</td>\n",
       "      <td>400.0</td>\n",
       "      <td>09/21/19 20:31</td>\n",
       "      <td>815 Jefferson St, San Francisco, CA 94016</td>\n",
       "    </tr>\n",
       "    <tr>\n",
       "      <th>186736</th>\n",
       "      <td>259254</td>\n",
       "      <td>Vareebadd Phone</td>\n",
       "      <td>1</td>\n",
       "      <td>400.0</td>\n",
       "      <td>09/06/19 14:02</td>\n",
       "      <td>853 5th St, Los Angeles, CA 90001</td>\n",
       "    </tr>\n",
       "  </tbody>\n",
       "</table>\n",
       "<p>2065 rows × 6 columns</p>\n",
       "</div>"
      ],
      "text/plain": [
       "        order_id          Product  quantity_ordered  price_each  \\\n",
       "82        176635  Vareebadd Phone                 1       400.0   \n",
       "256       176801  Vareebadd Phone                 1       400.0   \n",
       "510       177046  Vareebadd Phone                 1       400.0   \n",
       "562       177097  Vareebadd Phone                 1       400.0   \n",
       "587       177119  Vareebadd Phone                 1       400.0   \n",
       "...          ...              ...               ...         ...   \n",
       "186311    258848  Vareebadd Phone                 1       400.0   \n",
       "186413    258945  Vareebadd Phone                 1       400.0   \n",
       "186684    259204  Vareebadd Phone                 1       400.0   \n",
       "186702    259220  Vareebadd Phone                 1       400.0   \n",
       "186736    259254  Vareebadd Phone                 1       400.0   \n",
       "\n",
       "             Order Date                           Purchase Address  \n",
       "82       4/26/2019 9:55       85 North St, San Francisco, CA 94016  \n",
       "256     4/28/2019 18:52      125 North St, San Francisco, CA 94016  \n",
       "510     4/29/2019 13:02         406 12th St, Los Angeles, CA 90001  \n",
       "562     4/21/2019 18:04       35 Hickory St, Los Angeles, CA 90001  \n",
       "587      4/6/2019 20:13         617 Highland St, Seattle, WA 98101  \n",
       "...                 ...                                        ...  \n",
       "186311   09/13/19 18:59           340 South St, Portland, OR 97035  \n",
       "186413   09/29/19 12:23              80 Main St, Seattle, WA 98101  \n",
       "186684   09/17/19 18:06            850 Meadow St, Boston, MA 02215  \n",
       "186702   09/21/19 20:31  815 Jefferson St, San Francisco, CA 94016  \n",
       "186736   09/06/19 14:02          853 5th St, Los Angeles, CA 90001  \n",
       "\n",
       "[2065 rows x 6 columns]"
      ]
     },
     "execution_count": 45,
     "metadata": {},
     "output_type": "execute_result"
    }
   ],
   "source": [
    "sales[sales['price_each']==400]"
   ]
  },
  {
   "cell_type": "code",
   "execution_count": 46,
   "id": "urban-treatment",
   "metadata": {},
   "outputs": [
    {
     "data": {
      "text/html": [
       "<div>\n",
       "<style scoped>\n",
       "    .dataframe tbody tr th:only-of-type {\n",
       "        vertical-align: middle;\n",
       "    }\n",
       "\n",
       "    .dataframe tbody tr th {\n",
       "        vertical-align: top;\n",
       "    }\n",
       "\n",
       "    .dataframe thead th {\n",
       "        text-align: right;\n",
       "    }\n",
       "</style>\n",
       "<table border=\"1\" class=\"dataframe\">\n",
       "  <thead>\n",
       "    <tr style=\"text-align: right;\">\n",
       "      <th></th>\n",
       "      <th>order_id</th>\n",
       "      <th>Product</th>\n",
       "      <th>quantity_ordered</th>\n",
       "      <th>price_each</th>\n",
       "      <th>Order Date</th>\n",
       "      <th>Purchase Address</th>\n",
       "    </tr>\n",
       "  </thead>\n",
       "  <tbody>\n",
       "    <tr>\n",
       "      <th>0</th>\n",
       "      <td>176558</td>\n",
       "      <td>USB-C Charging Cable</td>\n",
       "      <td>2</td>\n",
       "      <td>11.95</td>\n",
       "      <td>4/19/2019 8:46</td>\n",
       "      <td>917 1st St, Dallas, TX 75001</td>\n",
       "    </tr>\n",
       "  </tbody>\n",
       "</table>\n",
       "</div>"
      ],
      "text/plain": [
       "   order_id               Product  quantity_ordered  price_each  \\\n",
       "0    176558  USB-C Charging Cable                 2       11.95   \n",
       "\n",
       "       Order Date              Purchase Address  \n",
       "0  4/19/2019 8:46  917 1st St, Dallas, TX 75001  "
      ]
     },
     "execution_count": 46,
     "metadata": {},
     "output_type": "execute_result"
    }
   ],
   "source": [
    "sales.head(1)"
   ]
  },
  {
   "cell_type": "markdown",
   "id": "careful-hacker",
   "metadata": {},
   "source": [
    "### Order Date"
   ]
  },
  {
   "cell_type": "code",
   "execution_count": 47,
   "id": "technological-accommodation",
   "metadata": {},
   "outputs": [],
   "source": [
    "sales.rename(columns={'Order Date':'order_date'},inplace=True)"
   ]
  },
  {
   "cell_type": "code",
   "execution_count": 48,
   "id": "moderate-sunset",
   "metadata": {},
   "outputs": [
    {
     "data": {
      "text/plain": [
       "12/15/19 20:16    8\n",
       "10/30/19 21:28    7\n",
       "12/11/19 13:24    7\n",
       "4/2/2019 13:24    7\n",
       "12/22/19 11:12    6\n",
       "                 ..\n",
       "05/05/19 12:02    1\n",
       "02/09/19 20:36    1\n",
       "08/09/19 01:01    1\n",
       "02/09/19 09:35    1\n",
       "03/10/19 16:35    1\n",
       "Name: order_date, Length: 142395, dtype: int64"
      ]
     },
     "execution_count": 48,
     "metadata": {},
     "output_type": "execute_result"
    }
   ],
   "source": [
    "sales.order_date.value_counts()"
   ]
  },
  {
   "cell_type": "code",
   "execution_count": 49,
   "id": "alpine-egyptian",
   "metadata": {},
   "outputs": [
    {
     "data": {
      "text/plain": [
       "142395"
      ]
     },
     "execution_count": 49,
     "metadata": {},
     "output_type": "execute_result"
    }
   ],
   "source": [
    "sales.order_date.nunique()"
   ]
  },
  {
   "cell_type": "code",
   "execution_count": 50,
   "id": "allied-horizontal",
   "metadata": {},
   "outputs": [
    {
     "name": "stdout",
     "output_type": "stream",
     "text": [
      "object\n"
     ]
    }
   ],
   "source": [
    "print(sales['order_date'].dtype)"
   ]
  },
  {
   "cell_type": "code",
   "execution_count": 51,
   "id": "infrared-cannon",
   "metadata": {},
   "outputs": [],
   "source": [
    "sales['order_date'] = pd.to_datetime(sales['order_date'])"
   ]
  },
  {
   "cell_type": "code",
   "execution_count": 52,
   "id": "annoying-gibraltar",
   "metadata": {},
   "outputs": [
    {
     "name": "stdout",
     "output_type": "stream",
     "text": [
      "datetime64[ns]\n"
     ]
    }
   ],
   "source": [
    "print(sales['order_date'].dtype)"
   ]
  },
  {
   "cell_type": "code",
   "execution_count": 53,
   "id": "informational-confidence",
   "metadata": {},
   "outputs": [
    {
     "data": {
      "text/plain": [
       "0"
      ]
     },
     "execution_count": 53,
     "metadata": {},
     "output_type": "execute_result"
    }
   ],
   "source": [
    "sales.iloc[:,4].isnull().sum()"
   ]
  },
  {
   "cell_type": "code",
   "execution_count": 54,
   "id": "italic-roberts",
   "metadata": {},
   "outputs": [
    {
     "data": {
      "text/html": [
       "<div>\n",
       "<style scoped>\n",
       "    .dataframe tbody tr th:only-of-type {\n",
       "        vertical-align: middle;\n",
       "    }\n",
       "\n",
       "    .dataframe tbody tr th {\n",
       "        vertical-align: top;\n",
       "    }\n",
       "\n",
       "    .dataframe thead th {\n",
       "        text-align: right;\n",
       "    }\n",
       "</style>\n",
       "<table border=\"1\" class=\"dataframe\">\n",
       "  <thead>\n",
       "    <tr style=\"text-align: right;\">\n",
       "      <th></th>\n",
       "      <th>order_id</th>\n",
       "      <th>Product</th>\n",
       "      <th>quantity_ordered</th>\n",
       "      <th>price_each</th>\n",
       "      <th>order_date</th>\n",
       "      <th>Purchase Address</th>\n",
       "    </tr>\n",
       "  </thead>\n",
       "  <tbody>\n",
       "    <tr>\n",
       "      <th>0</th>\n",
       "      <td>176558</td>\n",
       "      <td>USB-C Charging Cable</td>\n",
       "      <td>2</td>\n",
       "      <td>11.95</td>\n",
       "      <td>2019-04-19 08:46:00</td>\n",
       "      <td>917 1st St, Dallas, TX 75001</td>\n",
       "    </tr>\n",
       "    <tr>\n",
       "      <th>4475</th>\n",
       "      <td>180841</td>\n",
       "      <td>Wired Headphones</td>\n",
       "      <td>1</td>\n",
       "      <td>11.99</td>\n",
       "      <td>2019-04-19 08:46:00</td>\n",
       "      <td>812 Main St, Seattle, WA 98101</td>\n",
       "    </tr>\n",
       "  </tbody>\n",
       "</table>\n",
       "</div>"
      ],
      "text/plain": [
       "      order_id               Product  quantity_ordered  price_each  \\\n",
       "0       176558  USB-C Charging Cable                 2       11.95   \n",
       "4475    180841      Wired Headphones                 1       11.99   \n",
       "\n",
       "              order_date                Purchase Address  \n",
       "0    2019-04-19 08:46:00    917 1st St, Dallas, TX 75001  \n",
       "4475 2019-04-19 08:46:00  812 Main St, Seattle, WA 98101  "
      ]
     },
     "execution_count": 54,
     "metadata": {},
     "output_type": "execute_result"
    }
   ],
   "source": [
    "sales[sales['order_date']=='2019-04-19 08:46:00']"
   ]
  },
  {
   "cell_type": "code",
   "execution_count": 55,
   "id": "optical-healthcare",
   "metadata": {},
   "outputs": [
    {
     "data": {
      "text/html": [
       "<div>\n",
       "<style scoped>\n",
       "    .dataframe tbody tr th:only-of-type {\n",
       "        vertical-align: middle;\n",
       "    }\n",
       "\n",
       "    .dataframe tbody tr th {\n",
       "        vertical-align: top;\n",
       "    }\n",
       "\n",
       "    .dataframe thead th {\n",
       "        text-align: right;\n",
       "    }\n",
       "</style>\n",
       "<table border=\"1\" class=\"dataframe\">\n",
       "  <thead>\n",
       "    <tr style=\"text-align: right;\">\n",
       "      <th></th>\n",
       "      <th>order_id</th>\n",
       "      <th>Product</th>\n",
       "      <th>quantity_ordered</th>\n",
       "      <th>price_each</th>\n",
       "      <th>order_date</th>\n",
       "      <th>Purchase Address</th>\n",
       "    </tr>\n",
       "  </thead>\n",
       "  <tbody>\n",
       "    <tr>\n",
       "      <th>0</th>\n",
       "      <td>176558</td>\n",
       "      <td>USB-C Charging Cable</td>\n",
       "      <td>2</td>\n",
       "      <td>11.95</td>\n",
       "      <td>2019-04-19 08:46:00</td>\n",
       "      <td>917 1st St, Dallas, TX 75001</td>\n",
       "    </tr>\n",
       "  </tbody>\n",
       "</table>\n",
       "</div>"
      ],
      "text/plain": [
       "   order_id               Product  quantity_ordered  price_each  \\\n",
       "0    176558  USB-C Charging Cable                 2       11.95   \n",
       "\n",
       "           order_date              Purchase Address  \n",
       "0 2019-04-19 08:46:00  917 1st St, Dallas, TX 75001  "
      ]
     },
     "execution_count": 55,
     "metadata": {},
     "output_type": "execute_result"
    }
   ],
   "source": [
    "sales.head(1)"
   ]
  },
  {
   "cell_type": "markdown",
   "id": "removable-amber",
   "metadata": {},
   "source": [
    "### Purchase Address"
   ]
  },
  {
   "cell_type": "code",
   "execution_count": 56,
   "id": "loaded-intranet",
   "metadata": {},
   "outputs": [],
   "source": [
    "sales.rename(columns={'Purchase Address':'purchase_address'},inplace=True)"
   ]
  },
  {
   "cell_type": "code",
   "execution_count": 57,
   "id": "pointed-filing",
   "metadata": {},
   "outputs": [
    {
     "data": {
      "text/plain": [
       "193 Forest St, San Francisco, CA 94016        9\n",
       "223 Elm St, Los Angeles, CA 90001             8\n",
       "279 Sunset St, San Francisco, CA 94016        8\n",
       "197 Center St, San Francisco, CA 94016        7\n",
       "292 Washington St, San Francisco, CA 94016    7\n",
       "                                             ..\n",
       "309 Lakeview St, San Francisco, CA 94016      1\n",
       "271 Chestnut St, Boston, MA 02215             1\n",
       "981 Spruce St, Seattle, WA 98101              1\n",
       "581 Pine St, Portland, OR 97035               1\n",
       "761 River St, Atlanta, GA 30301               1\n",
       "Name: purchase_address, Length: 140787, dtype: int64"
      ]
     },
     "execution_count": 57,
     "metadata": {},
     "output_type": "execute_result"
    }
   ],
   "source": [
    "sales.purchase_address.value_counts()"
   ]
  },
  {
   "cell_type": "code",
   "execution_count": 58,
   "id": "postal-force",
   "metadata": {},
   "outputs": [
    {
     "name": "stdout",
     "output_type": "stream",
     "text": [
      "object\n"
     ]
    }
   ],
   "source": [
    "print(sales['purchase_address'].dtype)"
   ]
  },
  {
   "cell_type": "code",
   "execution_count": 59,
   "id": "comparable-guidance",
   "metadata": {},
   "outputs": [
    {
     "data": {
      "text/plain": [
       "0"
      ]
     },
     "execution_count": 59,
     "metadata": {},
     "output_type": "execute_result"
    }
   ],
   "source": [
    "sales.iloc[:,5].isnull().sum()"
   ]
  },
  {
   "cell_type": "code",
   "execution_count": 60,
   "id": "statutory-respect",
   "metadata": {},
   "outputs": [
    {
     "data": {
      "text/plain": [
       "140787"
      ]
     },
     "execution_count": 60,
     "metadata": {},
     "output_type": "execute_result"
    }
   ],
   "source": [
    "sales.iloc[:,5].nunique()"
   ]
  },
  {
   "cell_type": "code",
   "execution_count": 61,
   "id": "mexican-teacher",
   "metadata": {},
   "outputs": [
    {
     "data": {
      "text/html": [
       "<div>\n",
       "<style scoped>\n",
       "    .dataframe tbody tr th:only-of-type {\n",
       "        vertical-align: middle;\n",
       "    }\n",
       "\n",
       "    .dataframe tbody tr th {\n",
       "        vertical-align: top;\n",
       "    }\n",
       "\n",
       "    .dataframe thead th {\n",
       "        text-align: right;\n",
       "    }\n",
       "</style>\n",
       "<table border=\"1\" class=\"dataframe\">\n",
       "  <thead>\n",
       "    <tr style=\"text-align: right;\">\n",
       "      <th></th>\n",
       "      <th>order_id</th>\n",
       "      <th>Product</th>\n",
       "      <th>quantity_ordered</th>\n",
       "      <th>price_each</th>\n",
       "      <th>order_date</th>\n",
       "      <th>purchase_address</th>\n",
       "    </tr>\n",
       "  </thead>\n",
       "  <tbody>\n",
       "    <tr>\n",
       "      <th>16728</th>\n",
       "      <td>192522</td>\n",
       "      <td>USB-C Charging Cable</td>\n",
       "      <td>1</td>\n",
       "      <td>11.95</td>\n",
       "      <td>2019-04-22 06:41:00</td>\n",
       "      <td>930 4th St, Seattle, WA 98101</td>\n",
       "    </tr>\n",
       "  </tbody>\n",
       "</table>\n",
       "</div>"
      ],
      "text/plain": [
       "       order_id               Product  quantity_ordered  price_each  \\\n",
       "16728    192522  USB-C Charging Cable                 1       11.95   \n",
       "\n",
       "               order_date               purchase_address  \n",
       "16728 2019-04-22 06:41:00  930 4th St, Seattle, WA 98101  "
      ]
     },
     "execution_count": 61,
     "metadata": {},
     "output_type": "execute_result"
    }
   ],
   "source": [
    "sales[sales['purchase_address']=='930 4th St, Seattle, WA 98101']"
   ]
  },
  {
   "cell_type": "code",
   "execution_count": 62,
   "id": "informal-independence",
   "metadata": {},
   "outputs": [
    {
     "data": {
      "text/html": [
       "<div>\n",
       "<style scoped>\n",
       "    .dataframe tbody tr th:only-of-type {\n",
       "        vertical-align: middle;\n",
       "    }\n",
       "\n",
       "    .dataframe tbody tr th {\n",
       "        vertical-align: top;\n",
       "    }\n",
       "\n",
       "    .dataframe thead th {\n",
       "        text-align: right;\n",
       "    }\n",
       "</style>\n",
       "<table border=\"1\" class=\"dataframe\">\n",
       "  <thead>\n",
       "    <tr style=\"text-align: right;\">\n",
       "      <th></th>\n",
       "      <th>order_id</th>\n",
       "      <th>Product</th>\n",
       "      <th>quantity_ordered</th>\n",
       "      <th>price_each</th>\n",
       "      <th>order_date</th>\n",
       "      <th>purchase_address</th>\n",
       "    </tr>\n",
       "  </thead>\n",
       "  <tbody>\n",
       "    <tr>\n",
       "      <th>0</th>\n",
       "      <td>176558</td>\n",
       "      <td>USB-C Charging Cable</td>\n",
       "      <td>2</td>\n",
       "      <td>11.95</td>\n",
       "      <td>2019-04-19 08:46:00</td>\n",
       "      <td>917 1st St, Dallas, TX 75001</td>\n",
       "    </tr>\n",
       "  </tbody>\n",
       "</table>\n",
       "</div>"
      ],
      "text/plain": [
       "   order_id               Product  quantity_ordered  price_each  \\\n",
       "0    176558  USB-C Charging Cable                 2       11.95   \n",
       "\n",
       "           order_date              purchase_address  \n",
       "0 2019-04-19 08:46:00  917 1st St, Dallas, TX 75001  "
      ]
     },
     "execution_count": 62,
     "metadata": {},
     "output_type": "execute_result"
    }
   ],
   "source": [
    "sales.head(1)"
   ]
  },
  {
   "cell_type": "markdown",
   "id": "honest-member",
   "metadata": {},
   "source": [
    "### Duplicate Values"
   ]
  },
  {
   "cell_type": "code",
   "execution_count": 63,
   "id": "postal-vegetarian",
   "metadata": {},
   "outputs": [
    {
     "data": {
      "text/plain": [
       "(185950, 6)"
      ]
     },
     "execution_count": 63,
     "metadata": {},
     "output_type": "execute_result"
    }
   ],
   "source": [
    "sales.shape"
   ]
  },
  {
   "cell_type": "code",
   "execution_count": 64,
   "id": "south-certification",
   "metadata": {},
   "outputs": [
    {
     "data": {
      "text/html": [
       "<div>\n",
       "<style scoped>\n",
       "    .dataframe tbody tr th:only-of-type {\n",
       "        vertical-align: middle;\n",
       "    }\n",
       "\n",
       "    .dataframe tbody tr th {\n",
       "        vertical-align: top;\n",
       "    }\n",
       "\n",
       "    .dataframe thead th {\n",
       "        text-align: right;\n",
       "    }\n",
       "</style>\n",
       "<table border=\"1\" class=\"dataframe\">\n",
       "  <thead>\n",
       "    <tr style=\"text-align: right;\">\n",
       "      <th></th>\n",
       "      <th>order_id</th>\n",
       "      <th>Product</th>\n",
       "      <th>quantity_ordered</th>\n",
       "      <th>price_each</th>\n",
       "      <th>order_date</th>\n",
       "      <th>purchase_address</th>\n",
       "    </tr>\n",
       "  </thead>\n",
       "  <tbody>\n",
       "    <tr>\n",
       "      <th>30</th>\n",
       "      <td>176585</td>\n",
       "      <td>Bose SoundSport Headphones</td>\n",
       "      <td>1</td>\n",
       "      <td>99.99</td>\n",
       "      <td>2019-04-07 11:31:00</td>\n",
       "      <td>823 Highland St, Boston, MA 02215</td>\n",
       "    </tr>\n",
       "    <tr>\n",
       "      <th>31</th>\n",
       "      <td>176585</td>\n",
       "      <td>Bose SoundSport Headphones</td>\n",
       "      <td>1</td>\n",
       "      <td>99.99</td>\n",
       "      <td>2019-04-07 11:31:00</td>\n",
       "      <td>823 Highland St, Boston, MA 02215</td>\n",
       "    </tr>\n",
       "    <tr>\n",
       "      <th>1301</th>\n",
       "      <td>177795</td>\n",
       "      <td>Apple Airpods Headphones</td>\n",
       "      <td>1</td>\n",
       "      <td>150.00</td>\n",
       "      <td>2019-04-27 19:45:00</td>\n",
       "      <td>740 14th St, Seattle, WA 98101</td>\n",
       "    </tr>\n",
       "    <tr>\n",
       "      <th>1302</th>\n",
       "      <td>177795</td>\n",
       "      <td>Apple Airpods Headphones</td>\n",
       "      <td>1</td>\n",
       "      <td>150.00</td>\n",
       "      <td>2019-04-27 19:45:00</td>\n",
       "      <td>740 14th St, Seattle, WA 98101</td>\n",
       "    </tr>\n",
       "    <tr>\n",
       "      <th>1682</th>\n",
       "      <td>178158</td>\n",
       "      <td>USB-C Charging Cable</td>\n",
       "      <td>1</td>\n",
       "      <td>11.95</td>\n",
       "      <td>2019-04-28 21:13:00</td>\n",
       "      <td>197 Center St, San Francisco, CA 94016</td>\n",
       "    </tr>\n",
       "    <tr>\n",
       "      <th>...</th>\n",
       "      <td>...</td>\n",
       "      <td>...</td>\n",
       "      <td>...</td>\n",
       "      <td>...</td>\n",
       "      <td>...</td>\n",
       "      <td>...</td>\n",
       "    </tr>\n",
       "    <tr>\n",
       "      <th>186508</th>\n",
       "      <td>259035</td>\n",
       "      <td>27in FHD Monitor</td>\n",
       "      <td>1</td>\n",
       "      <td>149.99</td>\n",
       "      <td>2019-09-29 13:52:00</td>\n",
       "      <td>327 Lake St, San Francisco, CA 94016</td>\n",
       "    </tr>\n",
       "    <tr>\n",
       "      <th>186781</th>\n",
       "      <td>259296</td>\n",
       "      <td>Apple Airpods Headphones</td>\n",
       "      <td>1</td>\n",
       "      <td>150.00</td>\n",
       "      <td>2019-09-28 16:48:00</td>\n",
       "      <td>894 6th St, Dallas, TX 75001</td>\n",
       "    </tr>\n",
       "    <tr>\n",
       "      <th>186782</th>\n",
       "      <td>259296</td>\n",
       "      <td>Apple Airpods Headphones</td>\n",
       "      <td>1</td>\n",
       "      <td>150.00</td>\n",
       "      <td>2019-09-28 16:48:00</td>\n",
       "      <td>894 6th St, Dallas, TX 75001</td>\n",
       "    </tr>\n",
       "    <tr>\n",
       "      <th>186784</th>\n",
       "      <td>259297</td>\n",
       "      <td>Lightning Charging Cable</td>\n",
       "      <td>1</td>\n",
       "      <td>14.95</td>\n",
       "      <td>2019-09-15 18:54:00</td>\n",
       "      <td>138 Main St, Boston, MA 02215</td>\n",
       "    </tr>\n",
       "    <tr>\n",
       "      <th>186785</th>\n",
       "      <td>259297</td>\n",
       "      <td>Lightning Charging Cable</td>\n",
       "      <td>1</td>\n",
       "      <td>14.95</td>\n",
       "      <td>2019-09-15 18:54:00</td>\n",
       "      <td>138 Main St, Boston, MA 02215</td>\n",
       "    </tr>\n",
       "  </tbody>\n",
       "</table>\n",
       "<p>528 rows × 6 columns</p>\n",
       "</div>"
      ],
      "text/plain": [
       "        order_id                     Product  quantity_ordered  price_each  \\\n",
       "30        176585  Bose SoundSport Headphones                 1       99.99   \n",
       "31        176585  Bose SoundSport Headphones                 1       99.99   \n",
       "1301      177795    Apple Airpods Headphones                 1      150.00   \n",
       "1302      177795    Apple Airpods Headphones                 1      150.00   \n",
       "1682      178158        USB-C Charging Cable                 1       11.95   \n",
       "...          ...                         ...               ...         ...   \n",
       "186508    259035            27in FHD Monitor                 1      149.99   \n",
       "186781    259296    Apple Airpods Headphones                 1      150.00   \n",
       "186782    259296    Apple Airpods Headphones                 1      150.00   \n",
       "186784    259297    Lightning Charging Cable                 1       14.95   \n",
       "186785    259297    Lightning Charging Cable                 1       14.95   \n",
       "\n",
       "                order_date                        purchase_address  \n",
       "30     2019-04-07 11:31:00       823 Highland St, Boston, MA 02215  \n",
       "31     2019-04-07 11:31:00       823 Highland St, Boston, MA 02215  \n",
       "1301   2019-04-27 19:45:00          740 14th St, Seattle, WA 98101  \n",
       "1302   2019-04-27 19:45:00          740 14th St, Seattle, WA 98101  \n",
       "1682   2019-04-28 21:13:00  197 Center St, San Francisco, CA 94016  \n",
       "...                    ...                                     ...  \n",
       "186508 2019-09-29 13:52:00    327 Lake St, San Francisco, CA 94016  \n",
       "186781 2019-09-28 16:48:00            894 6th St, Dallas, TX 75001  \n",
       "186782 2019-09-28 16:48:00            894 6th St, Dallas, TX 75001  \n",
       "186784 2019-09-15 18:54:00           138 Main St, Boston, MA 02215  \n",
       "186785 2019-09-15 18:54:00           138 Main St, Boston, MA 02215  \n",
       "\n",
       "[528 rows x 6 columns]"
      ]
     },
     "execution_count": 64,
     "metadata": {},
     "output_type": "execute_result"
    }
   ],
   "source": [
    "sales[sales.duplicated(keep=False)]"
   ]
  },
  {
   "cell_type": "code",
   "execution_count": 65,
   "id": "lonely-equilibrium",
   "metadata": {},
   "outputs": [],
   "source": [
    "sales.drop_duplicates(keep='first',inplace=True)"
   ]
  },
  {
   "cell_type": "code",
   "execution_count": 66,
   "id": "color-combination",
   "metadata": {},
   "outputs": [
    {
     "data": {
      "text/plain": [
       "(185686, 6)"
      ]
     },
     "execution_count": 66,
     "metadata": {},
     "output_type": "execute_result"
    }
   ],
   "source": [
    "sales.shape"
   ]
  },
  {
   "cell_type": "code",
   "execution_count": 67,
   "id": "challenging-scroll",
   "metadata": {},
   "outputs": [
    {
     "data": {
      "text/html": [
       "<div>\n",
       "<style scoped>\n",
       "    .dataframe tbody tr th:only-of-type {\n",
       "        vertical-align: middle;\n",
       "    }\n",
       "\n",
       "    .dataframe tbody tr th {\n",
       "        vertical-align: top;\n",
       "    }\n",
       "\n",
       "    .dataframe thead th {\n",
       "        text-align: right;\n",
       "    }\n",
       "</style>\n",
       "<table border=\"1\" class=\"dataframe\">\n",
       "  <thead>\n",
       "    <tr style=\"text-align: right;\">\n",
       "      <th></th>\n",
       "      <th>order_id</th>\n",
       "      <th>Product</th>\n",
       "      <th>quantity_ordered</th>\n",
       "      <th>price_each</th>\n",
       "      <th>order_date</th>\n",
       "      <th>purchase_address</th>\n",
       "    </tr>\n",
       "  </thead>\n",
       "  <tbody>\n",
       "  </tbody>\n",
       "</table>\n",
       "</div>"
      ],
      "text/plain": [
       "Empty DataFrame\n",
       "Columns: [order_id, Product, quantity_ordered, price_each, order_date, purchase_address]\n",
       "Index: []"
      ]
     },
     "execution_count": 67,
     "metadata": {},
     "output_type": "execute_result"
    }
   ],
   "source": [
    "sales[sales.duplicated(keep=False)]"
   ]
  },
  {
   "cell_type": "code",
   "execution_count": 68,
   "id": "flexible-deficit",
   "metadata": {},
   "outputs": [
    {
     "data": {
      "text/html": [
       "<div>\n",
       "<style scoped>\n",
       "    .dataframe tbody tr th:only-of-type {\n",
       "        vertical-align: middle;\n",
       "    }\n",
       "\n",
       "    .dataframe tbody tr th {\n",
       "        vertical-align: top;\n",
       "    }\n",
       "\n",
       "    .dataframe thead th {\n",
       "        text-align: right;\n",
       "    }\n",
       "</style>\n",
       "<table border=\"1\" class=\"dataframe\">\n",
       "  <thead>\n",
       "    <tr style=\"text-align: right;\">\n",
       "      <th></th>\n",
       "      <th>order_id</th>\n",
       "      <th>Product</th>\n",
       "      <th>quantity_ordered</th>\n",
       "      <th>price_each</th>\n",
       "      <th>order_date</th>\n",
       "      <th>purchase_address</th>\n",
       "    </tr>\n",
       "  </thead>\n",
       "  <tbody>\n",
       "    <tr>\n",
       "      <th>0</th>\n",
       "      <td>176558</td>\n",
       "      <td>USB-C Charging Cable</td>\n",
       "      <td>2</td>\n",
       "      <td>11.95</td>\n",
       "      <td>2019-04-19 08:46:00</td>\n",
       "      <td>917 1st St, Dallas, TX 75001</td>\n",
       "    </tr>\n",
       "  </tbody>\n",
       "</table>\n",
       "</div>"
      ],
      "text/plain": [
       "   order_id               Product  quantity_ordered  price_each  \\\n",
       "0    176558  USB-C Charging Cable                 2       11.95   \n",
       "\n",
       "           order_date              purchase_address  \n",
       "0 2019-04-19 08:46:00  917 1st St, Dallas, TX 75001  "
      ]
     },
     "execution_count": 68,
     "metadata": {},
     "output_type": "execute_result"
    }
   ],
   "source": [
    "sales.head(1)"
   ]
  },
  {
   "cell_type": "markdown",
   "id": "secure-chester",
   "metadata": {},
   "source": [
    "### Extract Year from order_date"
   ]
  },
  {
   "cell_type": "code",
   "execution_count": 69,
   "id": "fifth-consistency",
   "metadata": {},
   "outputs": [],
   "source": [
    "sales['Month'] = sales['order_date'].dt.month"
   ]
  },
  {
   "cell_type": "code",
   "execution_count": 70,
   "id": "given-reform",
   "metadata": {},
   "outputs": [
    {
     "data": {
      "text/html": [
       "<div>\n",
       "<style scoped>\n",
       "    .dataframe tbody tr th:only-of-type {\n",
       "        vertical-align: middle;\n",
       "    }\n",
       "\n",
       "    .dataframe tbody tr th {\n",
       "        vertical-align: top;\n",
       "    }\n",
       "\n",
       "    .dataframe thead th {\n",
       "        text-align: right;\n",
       "    }\n",
       "</style>\n",
       "<table border=\"1\" class=\"dataframe\">\n",
       "  <thead>\n",
       "    <tr style=\"text-align: right;\">\n",
       "      <th></th>\n",
       "      <th>order_id</th>\n",
       "      <th>Product</th>\n",
       "      <th>quantity_ordered</th>\n",
       "      <th>price_each</th>\n",
       "      <th>order_date</th>\n",
       "      <th>purchase_address</th>\n",
       "      <th>Month</th>\n",
       "    </tr>\n",
       "  </thead>\n",
       "  <tbody>\n",
       "    <tr>\n",
       "      <th>0</th>\n",
       "      <td>176558</td>\n",
       "      <td>USB-C Charging Cable</td>\n",
       "      <td>2</td>\n",
       "      <td>11.95</td>\n",
       "      <td>2019-04-19 08:46:00</td>\n",
       "      <td>917 1st St, Dallas, TX 75001</td>\n",
       "      <td>4</td>\n",
       "    </tr>\n",
       "    <tr>\n",
       "      <th>2</th>\n",
       "      <td>176559</td>\n",
       "      <td>Bose SoundSport Headphones</td>\n",
       "      <td>1</td>\n",
       "      <td>99.99</td>\n",
       "      <td>2019-04-07 22:30:00</td>\n",
       "      <td>682 Chestnut St, Boston, MA 02215</td>\n",
       "      <td>4</td>\n",
       "    </tr>\n",
       "    <tr>\n",
       "      <th>3</th>\n",
       "      <td>176560</td>\n",
       "      <td>Google Phone</td>\n",
       "      <td>1</td>\n",
       "      <td>600.00</td>\n",
       "      <td>2019-04-12 14:38:00</td>\n",
       "      <td>669 Spruce St, Los Angeles, CA 90001</td>\n",
       "      <td>4</td>\n",
       "    </tr>\n",
       "    <tr>\n",
       "      <th>4</th>\n",
       "      <td>176560</td>\n",
       "      <td>Wired Headphones</td>\n",
       "      <td>1</td>\n",
       "      <td>11.99</td>\n",
       "      <td>2019-04-12 14:38:00</td>\n",
       "      <td>669 Spruce St, Los Angeles, CA 90001</td>\n",
       "      <td>4</td>\n",
       "    </tr>\n",
       "    <tr>\n",
       "      <th>5</th>\n",
       "      <td>176561</td>\n",
       "      <td>Wired Headphones</td>\n",
       "      <td>1</td>\n",
       "      <td>11.99</td>\n",
       "      <td>2019-04-30 09:27:00</td>\n",
       "      <td>333 8th St, Los Angeles, CA 90001</td>\n",
       "      <td>4</td>\n",
       "    </tr>\n",
       "    <tr>\n",
       "      <th>...</th>\n",
       "      <td>...</td>\n",
       "      <td>...</td>\n",
       "      <td>...</td>\n",
       "      <td>...</td>\n",
       "      <td>...</td>\n",
       "      <td>...</td>\n",
       "      <td>...</td>\n",
       "    </tr>\n",
       "    <tr>\n",
       "      <th>186845</th>\n",
       "      <td>259353</td>\n",
       "      <td>AAA Batteries (4-pack)</td>\n",
       "      <td>3</td>\n",
       "      <td>2.99</td>\n",
       "      <td>2019-09-17 20:56:00</td>\n",
       "      <td>840 Highland St, Los Angeles, CA 90001</td>\n",
       "      <td>9</td>\n",
       "    </tr>\n",
       "    <tr>\n",
       "      <th>186846</th>\n",
       "      <td>259354</td>\n",
       "      <td>iPhone</td>\n",
       "      <td>1</td>\n",
       "      <td>700.00</td>\n",
       "      <td>2019-09-01 16:00:00</td>\n",
       "      <td>216 Dogwood St, San Francisco, CA 94016</td>\n",
       "      <td>9</td>\n",
       "    </tr>\n",
       "    <tr>\n",
       "      <th>186847</th>\n",
       "      <td>259355</td>\n",
       "      <td>iPhone</td>\n",
       "      <td>1</td>\n",
       "      <td>700.00</td>\n",
       "      <td>2019-09-23 07:39:00</td>\n",
       "      <td>220 12th St, San Francisco, CA 94016</td>\n",
       "      <td>9</td>\n",
       "    </tr>\n",
       "    <tr>\n",
       "      <th>186848</th>\n",
       "      <td>259356</td>\n",
       "      <td>34in Ultrawide Monitor</td>\n",
       "      <td>1</td>\n",
       "      <td>379.99</td>\n",
       "      <td>2019-09-19 17:30:00</td>\n",
       "      <td>511 Forest St, San Francisco, CA 94016</td>\n",
       "      <td>9</td>\n",
       "    </tr>\n",
       "    <tr>\n",
       "      <th>186849</th>\n",
       "      <td>259357</td>\n",
       "      <td>USB-C Charging Cable</td>\n",
       "      <td>1</td>\n",
       "      <td>11.95</td>\n",
       "      <td>2019-09-30 00:18:00</td>\n",
       "      <td>250 Meadow St, San Francisco, CA 94016</td>\n",
       "      <td>9</td>\n",
       "    </tr>\n",
       "  </tbody>\n",
       "</table>\n",
       "<p>185686 rows × 7 columns</p>\n",
       "</div>"
      ],
      "text/plain": [
       "        order_id                     Product  quantity_ordered  price_each  \\\n",
       "0         176558        USB-C Charging Cable                 2       11.95   \n",
       "2         176559  Bose SoundSport Headphones                 1       99.99   \n",
       "3         176560                Google Phone                 1      600.00   \n",
       "4         176560            Wired Headphones                 1       11.99   \n",
       "5         176561            Wired Headphones                 1       11.99   \n",
       "...          ...                         ...               ...         ...   \n",
       "186845    259353      AAA Batteries (4-pack)                 3        2.99   \n",
       "186846    259354                      iPhone                 1      700.00   \n",
       "186847    259355                      iPhone                 1      700.00   \n",
       "186848    259356      34in Ultrawide Monitor                 1      379.99   \n",
       "186849    259357        USB-C Charging Cable                 1       11.95   \n",
       "\n",
       "                order_date                         purchase_address  Month  \n",
       "0      2019-04-19 08:46:00             917 1st St, Dallas, TX 75001      4  \n",
       "2      2019-04-07 22:30:00        682 Chestnut St, Boston, MA 02215      4  \n",
       "3      2019-04-12 14:38:00     669 Spruce St, Los Angeles, CA 90001      4  \n",
       "4      2019-04-12 14:38:00     669 Spruce St, Los Angeles, CA 90001      4  \n",
       "5      2019-04-30 09:27:00        333 8th St, Los Angeles, CA 90001      4  \n",
       "...                    ...                                      ...    ...  \n",
       "186845 2019-09-17 20:56:00   840 Highland St, Los Angeles, CA 90001      9  \n",
       "186846 2019-09-01 16:00:00  216 Dogwood St, San Francisco, CA 94016      9  \n",
       "186847 2019-09-23 07:39:00     220 12th St, San Francisco, CA 94016      9  \n",
       "186848 2019-09-19 17:30:00   511 Forest St, San Francisco, CA 94016      9  \n",
       "186849 2019-09-30 00:18:00   250 Meadow St, San Francisco, CA 94016      9  \n",
       "\n",
       "[185686 rows x 7 columns]"
      ]
     },
     "execution_count": 70,
     "metadata": {},
     "output_type": "execute_result"
    }
   ],
   "source": [
    "sales"
   ]
  },
  {
   "cell_type": "code",
   "execution_count": 71,
   "id": "radical-information",
   "metadata": {},
   "outputs": [
    {
     "data": {
      "text/html": [
       "<div>\n",
       "<style scoped>\n",
       "    .dataframe tbody tr th:only-of-type {\n",
       "        vertical-align: middle;\n",
       "    }\n",
       "\n",
       "    .dataframe tbody tr th {\n",
       "        vertical-align: top;\n",
       "    }\n",
       "\n",
       "    .dataframe thead th {\n",
       "        text-align: right;\n",
       "    }\n",
       "</style>\n",
       "<table border=\"1\" class=\"dataframe\">\n",
       "  <thead>\n",
       "    <tr style=\"text-align: right;\">\n",
       "      <th></th>\n",
       "      <th>order_id</th>\n",
       "      <th>Product</th>\n",
       "      <th>quantity_ordered</th>\n",
       "      <th>price_each</th>\n",
       "      <th>order_date</th>\n",
       "      <th>purchase_address</th>\n",
       "      <th>Month</th>\n",
       "    </tr>\n",
       "  </thead>\n",
       "  <tbody>\n",
       "    <tr>\n",
       "      <th>20634</th>\n",
       "      <td>238834</td>\n",
       "      <td>Apple Airpods Headphones</td>\n",
       "      <td>1</td>\n",
       "      <td>150.00</td>\n",
       "      <td>2019-09-01 04:13:00</td>\n",
       "      <td>761 Forest St, San Francisco, CA 94016</td>\n",
       "      <td>9</td>\n",
       "    </tr>\n",
       "    <tr>\n",
       "      <th>21114</th>\n",
       "      <td>239285</td>\n",
       "      <td>34in Ultrawide Monitor</td>\n",
       "      <td>1</td>\n",
       "      <td>379.99</td>\n",
       "      <td>2019-09-01 01:09:00</td>\n",
       "      <td>373 1st St, San Francisco, CA 94016</td>\n",
       "      <td>9</td>\n",
       "    </tr>\n",
       "    <tr>\n",
       "      <th>22507</th>\n",
       "      <td>240636</td>\n",
       "      <td>Lightning Charging Cable</td>\n",
       "      <td>1</td>\n",
       "      <td>14.95</td>\n",
       "      <td>2019-09-01 02:07:00</td>\n",
       "      <td>63 1st St, Seattle, WA 98101</td>\n",
       "      <td>9</td>\n",
       "    </tr>\n",
       "    <tr>\n",
       "      <th>22952</th>\n",
       "      <td>241054</td>\n",
       "      <td>AAA Batteries (4-pack)</td>\n",
       "      <td>1</td>\n",
       "      <td>2.99</td>\n",
       "      <td>2019-09-01 00:25:00</td>\n",
       "      <td>175 South St, San Francisco, CA 94016</td>\n",
       "      <td>9</td>\n",
       "    </tr>\n",
       "    <tr>\n",
       "      <th>24297</th>\n",
       "      <td>242343</td>\n",
       "      <td>ThinkPad Laptop</td>\n",
       "      <td>1</td>\n",
       "      <td>999.99</td>\n",
       "      <td>2019-09-01 02:44:00</td>\n",
       "      <td>510 Park St, Boston, MA 02215</td>\n",
       "      <td>9</td>\n",
       "    </tr>\n",
       "    <tr>\n",
       "      <th>...</th>\n",
       "      <td>...</td>\n",
       "      <td>...</td>\n",
       "      <td>...</td>\n",
       "      <td>...</td>\n",
       "      <td>...</td>\n",
       "      <td>...</td>\n",
       "      <td>...</td>\n",
       "    </tr>\n",
       "    <tr>\n",
       "      <th>186845</th>\n",
       "      <td>259353</td>\n",
       "      <td>AAA Batteries (4-pack)</td>\n",
       "      <td>3</td>\n",
       "      <td>2.99</td>\n",
       "      <td>2019-09-17 20:56:00</td>\n",
       "      <td>840 Highland St, Los Angeles, CA 90001</td>\n",
       "      <td>9</td>\n",
       "    </tr>\n",
       "    <tr>\n",
       "      <th>186846</th>\n",
       "      <td>259354</td>\n",
       "      <td>iPhone</td>\n",
       "      <td>1</td>\n",
       "      <td>700.00</td>\n",
       "      <td>2019-09-01 16:00:00</td>\n",
       "      <td>216 Dogwood St, San Francisco, CA 94016</td>\n",
       "      <td>9</td>\n",
       "    </tr>\n",
       "    <tr>\n",
       "      <th>186847</th>\n",
       "      <td>259355</td>\n",
       "      <td>iPhone</td>\n",
       "      <td>1</td>\n",
       "      <td>700.00</td>\n",
       "      <td>2019-09-23 07:39:00</td>\n",
       "      <td>220 12th St, San Francisco, CA 94016</td>\n",
       "      <td>9</td>\n",
       "    </tr>\n",
       "    <tr>\n",
       "      <th>186848</th>\n",
       "      <td>259356</td>\n",
       "      <td>34in Ultrawide Monitor</td>\n",
       "      <td>1</td>\n",
       "      <td>379.99</td>\n",
       "      <td>2019-09-19 17:30:00</td>\n",
       "      <td>511 Forest St, San Francisco, CA 94016</td>\n",
       "      <td>9</td>\n",
       "    </tr>\n",
       "    <tr>\n",
       "      <th>186849</th>\n",
       "      <td>259357</td>\n",
       "      <td>USB-C Charging Cable</td>\n",
       "      <td>1</td>\n",
       "      <td>11.95</td>\n",
       "      <td>2019-09-30 00:18:00</td>\n",
       "      <td>250 Meadow St, San Francisco, CA 94016</td>\n",
       "      <td>9</td>\n",
       "    </tr>\n",
       "  </tbody>\n",
       "</table>\n",
       "<p>11603 rows × 7 columns</p>\n",
       "</div>"
      ],
      "text/plain": [
       "        order_id                   Product  quantity_ordered  price_each  \\\n",
       "20634     238834  Apple Airpods Headphones                 1      150.00   \n",
       "21114     239285    34in Ultrawide Monitor                 1      379.99   \n",
       "22507     240636  Lightning Charging Cable                 1       14.95   \n",
       "22952     241054    AAA Batteries (4-pack)                 1        2.99   \n",
       "24297     242343           ThinkPad Laptop                 1      999.99   \n",
       "...          ...                       ...               ...         ...   \n",
       "186845    259353    AAA Batteries (4-pack)                 3        2.99   \n",
       "186846    259354                    iPhone                 1      700.00   \n",
       "186847    259355                    iPhone                 1      700.00   \n",
       "186848    259356    34in Ultrawide Monitor                 1      379.99   \n",
       "186849    259357      USB-C Charging Cable                 1       11.95   \n",
       "\n",
       "                order_date                         purchase_address  Month  \n",
       "20634  2019-09-01 04:13:00   761 Forest St, San Francisco, CA 94016      9  \n",
       "21114  2019-09-01 01:09:00      373 1st St, San Francisco, CA 94016      9  \n",
       "22507  2019-09-01 02:07:00             63 1st St, Seattle, WA 98101      9  \n",
       "22952  2019-09-01 00:25:00    175 South St, San Francisco, CA 94016      9  \n",
       "24297  2019-09-01 02:44:00            510 Park St, Boston, MA 02215      9  \n",
       "...                    ...                                      ...    ...  \n",
       "186845 2019-09-17 20:56:00   840 Highland St, Los Angeles, CA 90001      9  \n",
       "186846 2019-09-01 16:00:00  216 Dogwood St, San Francisco, CA 94016      9  \n",
       "186847 2019-09-23 07:39:00     220 12th St, San Francisco, CA 94016      9  \n",
       "186848 2019-09-19 17:30:00   511 Forest St, San Francisco, CA 94016      9  \n",
       "186849 2019-09-30 00:18:00   250 Meadow St, San Francisco, CA 94016      9  \n",
       "\n",
       "[11603 rows x 7 columns]"
      ]
     },
     "execution_count": 71,
     "metadata": {},
     "output_type": "execute_result"
    }
   ],
   "source": [
    "sales[sales['Month']==9]"
   ]
  },
  {
   "cell_type": "markdown",
   "id": "powerful-defensive",
   "metadata": {},
   "source": [
    "### Extract City from purchase_address"
   ]
  },
  {
   "cell_type": "code",
   "execution_count": 72,
   "id": "continuing-swaziland",
   "metadata": {},
   "outputs": [],
   "source": [
    "def get_city(address):\n",
    "    return address.split(',')[1]\n",
    "\n",
    "sales['City']=sales['purchase_address'].apply(lambda x:get_city(x))"
   ]
  },
  {
   "cell_type": "code",
   "execution_count": 73,
   "id": "fourth-verse",
   "metadata": {},
   "outputs": [
    {
     "data": {
      "text/html": [
       "<div>\n",
       "<style scoped>\n",
       "    .dataframe tbody tr th:only-of-type {\n",
       "        vertical-align: middle;\n",
       "    }\n",
       "\n",
       "    .dataframe tbody tr th {\n",
       "        vertical-align: top;\n",
       "    }\n",
       "\n",
       "    .dataframe thead th {\n",
       "        text-align: right;\n",
       "    }\n",
       "</style>\n",
       "<table border=\"1\" class=\"dataframe\">\n",
       "  <thead>\n",
       "    <tr style=\"text-align: right;\">\n",
       "      <th></th>\n",
       "      <th>order_id</th>\n",
       "      <th>Product</th>\n",
       "      <th>quantity_ordered</th>\n",
       "      <th>price_each</th>\n",
       "      <th>order_date</th>\n",
       "      <th>purchase_address</th>\n",
       "      <th>Month</th>\n",
       "      <th>City</th>\n",
       "    </tr>\n",
       "  </thead>\n",
       "  <tbody>\n",
       "    <tr>\n",
       "      <th>0</th>\n",
       "      <td>176558</td>\n",
       "      <td>USB-C Charging Cable</td>\n",
       "      <td>2</td>\n",
       "      <td>11.95</td>\n",
       "      <td>2019-04-19 08:46:00</td>\n",
       "      <td>917 1st St, Dallas, TX 75001</td>\n",
       "      <td>4</td>\n",
       "      <td>Dallas</td>\n",
       "    </tr>\n",
       "    <tr>\n",
       "      <th>2</th>\n",
       "      <td>176559</td>\n",
       "      <td>Bose SoundSport Headphones</td>\n",
       "      <td>1</td>\n",
       "      <td>99.99</td>\n",
       "      <td>2019-04-07 22:30:00</td>\n",
       "      <td>682 Chestnut St, Boston, MA 02215</td>\n",
       "      <td>4</td>\n",
       "      <td>Boston</td>\n",
       "    </tr>\n",
       "    <tr>\n",
       "      <th>3</th>\n",
       "      <td>176560</td>\n",
       "      <td>Google Phone</td>\n",
       "      <td>1</td>\n",
       "      <td>600.00</td>\n",
       "      <td>2019-04-12 14:38:00</td>\n",
       "      <td>669 Spruce St, Los Angeles, CA 90001</td>\n",
       "      <td>4</td>\n",
       "      <td>Los Angeles</td>\n",
       "    </tr>\n",
       "    <tr>\n",
       "      <th>4</th>\n",
       "      <td>176560</td>\n",
       "      <td>Wired Headphones</td>\n",
       "      <td>1</td>\n",
       "      <td>11.99</td>\n",
       "      <td>2019-04-12 14:38:00</td>\n",
       "      <td>669 Spruce St, Los Angeles, CA 90001</td>\n",
       "      <td>4</td>\n",
       "      <td>Los Angeles</td>\n",
       "    </tr>\n",
       "    <tr>\n",
       "      <th>5</th>\n",
       "      <td>176561</td>\n",
       "      <td>Wired Headphones</td>\n",
       "      <td>1</td>\n",
       "      <td>11.99</td>\n",
       "      <td>2019-04-30 09:27:00</td>\n",
       "      <td>333 8th St, Los Angeles, CA 90001</td>\n",
       "      <td>4</td>\n",
       "      <td>Los Angeles</td>\n",
       "    </tr>\n",
       "    <tr>\n",
       "      <th>...</th>\n",
       "      <td>...</td>\n",
       "      <td>...</td>\n",
       "      <td>...</td>\n",
       "      <td>...</td>\n",
       "      <td>...</td>\n",
       "      <td>...</td>\n",
       "      <td>...</td>\n",
       "      <td>...</td>\n",
       "    </tr>\n",
       "    <tr>\n",
       "      <th>186845</th>\n",
       "      <td>259353</td>\n",
       "      <td>AAA Batteries (4-pack)</td>\n",
       "      <td>3</td>\n",
       "      <td>2.99</td>\n",
       "      <td>2019-09-17 20:56:00</td>\n",
       "      <td>840 Highland St, Los Angeles, CA 90001</td>\n",
       "      <td>9</td>\n",
       "      <td>Los Angeles</td>\n",
       "    </tr>\n",
       "    <tr>\n",
       "      <th>186846</th>\n",
       "      <td>259354</td>\n",
       "      <td>iPhone</td>\n",
       "      <td>1</td>\n",
       "      <td>700.00</td>\n",
       "      <td>2019-09-01 16:00:00</td>\n",
       "      <td>216 Dogwood St, San Francisco, CA 94016</td>\n",
       "      <td>9</td>\n",
       "      <td>San Francisco</td>\n",
       "    </tr>\n",
       "    <tr>\n",
       "      <th>186847</th>\n",
       "      <td>259355</td>\n",
       "      <td>iPhone</td>\n",
       "      <td>1</td>\n",
       "      <td>700.00</td>\n",
       "      <td>2019-09-23 07:39:00</td>\n",
       "      <td>220 12th St, San Francisco, CA 94016</td>\n",
       "      <td>9</td>\n",
       "      <td>San Francisco</td>\n",
       "    </tr>\n",
       "    <tr>\n",
       "      <th>186848</th>\n",
       "      <td>259356</td>\n",
       "      <td>34in Ultrawide Monitor</td>\n",
       "      <td>1</td>\n",
       "      <td>379.99</td>\n",
       "      <td>2019-09-19 17:30:00</td>\n",
       "      <td>511 Forest St, San Francisco, CA 94016</td>\n",
       "      <td>9</td>\n",
       "      <td>San Francisco</td>\n",
       "    </tr>\n",
       "    <tr>\n",
       "      <th>186849</th>\n",
       "      <td>259357</td>\n",
       "      <td>USB-C Charging Cable</td>\n",
       "      <td>1</td>\n",
       "      <td>11.95</td>\n",
       "      <td>2019-09-30 00:18:00</td>\n",
       "      <td>250 Meadow St, San Francisco, CA 94016</td>\n",
       "      <td>9</td>\n",
       "      <td>San Francisco</td>\n",
       "    </tr>\n",
       "  </tbody>\n",
       "</table>\n",
       "<p>185686 rows × 8 columns</p>\n",
       "</div>"
      ],
      "text/plain": [
       "        order_id                     Product  quantity_ordered  price_each  \\\n",
       "0         176558        USB-C Charging Cable                 2       11.95   \n",
       "2         176559  Bose SoundSport Headphones                 1       99.99   \n",
       "3         176560                Google Phone                 1      600.00   \n",
       "4         176560            Wired Headphones                 1       11.99   \n",
       "5         176561            Wired Headphones                 1       11.99   \n",
       "...          ...                         ...               ...         ...   \n",
       "186845    259353      AAA Batteries (4-pack)                 3        2.99   \n",
       "186846    259354                      iPhone                 1      700.00   \n",
       "186847    259355                      iPhone                 1      700.00   \n",
       "186848    259356      34in Ultrawide Monitor                 1      379.99   \n",
       "186849    259357        USB-C Charging Cable                 1       11.95   \n",
       "\n",
       "                order_date                         purchase_address  Month  \\\n",
       "0      2019-04-19 08:46:00             917 1st St, Dallas, TX 75001      4   \n",
       "2      2019-04-07 22:30:00        682 Chestnut St, Boston, MA 02215      4   \n",
       "3      2019-04-12 14:38:00     669 Spruce St, Los Angeles, CA 90001      4   \n",
       "4      2019-04-12 14:38:00     669 Spruce St, Los Angeles, CA 90001      4   \n",
       "5      2019-04-30 09:27:00        333 8th St, Los Angeles, CA 90001      4   \n",
       "...                    ...                                      ...    ...   \n",
       "186845 2019-09-17 20:56:00   840 Highland St, Los Angeles, CA 90001      9   \n",
       "186846 2019-09-01 16:00:00  216 Dogwood St, San Francisco, CA 94016      9   \n",
       "186847 2019-09-23 07:39:00     220 12th St, San Francisco, CA 94016      9   \n",
       "186848 2019-09-19 17:30:00   511 Forest St, San Francisco, CA 94016      9   \n",
       "186849 2019-09-30 00:18:00   250 Meadow St, San Francisco, CA 94016      9   \n",
       "\n",
       "                  City  \n",
       "0               Dallas  \n",
       "2               Boston  \n",
       "3          Los Angeles  \n",
       "4          Los Angeles  \n",
       "5          Los Angeles  \n",
       "...                ...  \n",
       "186845     Los Angeles  \n",
       "186846   San Francisco  \n",
       "186847   San Francisco  \n",
       "186848   San Francisco  \n",
       "186849   San Francisco  \n",
       "\n",
       "[185686 rows x 8 columns]"
      ]
     },
     "execution_count": 73,
     "metadata": {},
     "output_type": "execute_result"
    }
   ],
   "source": [
    "sales"
   ]
  },
  {
   "cell_type": "code",
   "execution_count": 74,
   "id": "handled-celtic",
   "metadata": {},
   "outputs": [
    {
     "data": {
      "text/html": [
       "<div>\n",
       "<style scoped>\n",
       "    .dataframe tbody tr th:only-of-type {\n",
       "        vertical-align: middle;\n",
       "    }\n",
       "\n",
       "    .dataframe tbody tr th {\n",
       "        vertical-align: top;\n",
       "    }\n",
       "\n",
       "    .dataframe thead th {\n",
       "        text-align: right;\n",
       "    }\n",
       "</style>\n",
       "<table border=\"1\" class=\"dataframe\">\n",
       "  <thead>\n",
       "    <tr style=\"text-align: right;\">\n",
       "      <th></th>\n",
       "      <th>order_id</th>\n",
       "      <th>Product</th>\n",
       "      <th>quantity_ordered</th>\n",
       "      <th>price_each</th>\n",
       "      <th>order_date</th>\n",
       "      <th>purchase_address</th>\n",
       "      <th>Month</th>\n",
       "      <th>City</th>\n",
       "    </tr>\n",
       "  </thead>\n",
       "  <tbody>\n",
       "  </tbody>\n",
       "</table>\n",
       "</div>"
      ],
      "text/plain": [
       "Empty DataFrame\n",
       "Columns: [order_id, Product, quantity_ordered, price_each, order_date, purchase_address, Month, City]\n",
       "Index: []"
      ]
     },
     "execution_count": 74,
     "metadata": {},
     "output_type": "execute_result"
    }
   ],
   "source": [
    "sales[sales['City'] == 'Boston']"
   ]
  },
  {
   "cell_type": "code",
   "execution_count": 75,
   "id": "varying-classic",
   "metadata": {},
   "outputs": [],
   "source": [
    "sales['City']= sales['City'].str.strip()"
   ]
  },
  {
   "cell_type": "code",
   "execution_count": 76,
   "id": "electoral-taiwan",
   "metadata": {},
   "outputs": [
    {
     "data": {
      "text/html": [
       "<div>\n",
       "<style scoped>\n",
       "    .dataframe tbody tr th:only-of-type {\n",
       "        vertical-align: middle;\n",
       "    }\n",
       "\n",
       "    .dataframe tbody tr th {\n",
       "        vertical-align: top;\n",
       "    }\n",
       "\n",
       "    .dataframe thead th {\n",
       "        text-align: right;\n",
       "    }\n",
       "</style>\n",
       "<table border=\"1\" class=\"dataframe\">\n",
       "  <thead>\n",
       "    <tr style=\"text-align: right;\">\n",
       "      <th></th>\n",
       "      <th>order_id</th>\n",
       "      <th>Product</th>\n",
       "      <th>quantity_ordered</th>\n",
       "      <th>price_each</th>\n",
       "      <th>order_date</th>\n",
       "      <th>purchase_address</th>\n",
       "      <th>Month</th>\n",
       "      <th>City</th>\n",
       "    </tr>\n",
       "  </thead>\n",
       "  <tbody>\n",
       "    <tr>\n",
       "      <th>2</th>\n",
       "      <td>176559</td>\n",
       "      <td>Bose SoundSport Headphones</td>\n",
       "      <td>1</td>\n",
       "      <td>99.99</td>\n",
       "      <td>2019-04-07 22:30:00</td>\n",
       "      <td>682 Chestnut St, Boston, MA 02215</td>\n",
       "      <td>4</td>\n",
       "      <td>Boston</td>\n",
       "    </tr>\n",
       "    <tr>\n",
       "      <th>10</th>\n",
       "      <td>176566</td>\n",
       "      <td>Wired Headphones</td>\n",
       "      <td>1</td>\n",
       "      <td>11.99</td>\n",
       "      <td>2019-04-08 14:05:00</td>\n",
       "      <td>83 7th St, Boston, MA 02215</td>\n",
       "      <td>4</td>\n",
       "      <td>Boston</td>\n",
       "    </tr>\n",
       "    <tr>\n",
       "      <th>23</th>\n",
       "      <td>176578</td>\n",
       "      <td>Apple Airpods Headphones</td>\n",
       "      <td>1</td>\n",
       "      <td>150.00</td>\n",
       "      <td>2019-04-09 23:35:00</td>\n",
       "      <td>513 Church St, Boston, MA 02215</td>\n",
       "      <td>4</td>\n",
       "      <td>Boston</td>\n",
       "    </tr>\n",
       "    <tr>\n",
       "      <th>26</th>\n",
       "      <td>176581</td>\n",
       "      <td>iPhone</td>\n",
       "      <td>1</td>\n",
       "      <td>700.00</td>\n",
       "      <td>2019-04-09 21:38:00</td>\n",
       "      <td>84 Jackson St, Boston, MA 02215</td>\n",
       "      <td>4</td>\n",
       "      <td>Boston</td>\n",
       "    </tr>\n",
       "    <tr>\n",
       "      <th>30</th>\n",
       "      <td>176585</td>\n",
       "      <td>Bose SoundSport Headphones</td>\n",
       "      <td>1</td>\n",
       "      <td>99.99</td>\n",
       "      <td>2019-04-07 11:31:00</td>\n",
       "      <td>823 Highland St, Boston, MA 02215</td>\n",
       "      <td>4</td>\n",
       "      <td>Boston</td>\n",
       "    </tr>\n",
       "    <tr>\n",
       "      <th>...</th>\n",
       "      <td>...</td>\n",
       "      <td>...</td>\n",
       "      <td>...</td>\n",
       "      <td>...</td>\n",
       "      <td>...</td>\n",
       "      <td>...</td>\n",
       "      <td>...</td>\n",
       "      <td>...</td>\n",
       "    </tr>\n",
       "    <tr>\n",
       "      <th>186827</th>\n",
       "      <td>259336</td>\n",
       "      <td>AAA Batteries (4-pack)</td>\n",
       "      <td>3</td>\n",
       "      <td>2.99</td>\n",
       "      <td>2019-09-25 00:13:00</td>\n",
       "      <td>753 14th St, Boston, MA 02215</td>\n",
       "      <td>9</td>\n",
       "      <td>Boston</td>\n",
       "    </tr>\n",
       "    <tr>\n",
       "      <th>186828</th>\n",
       "      <td>259337</td>\n",
       "      <td>USB-C Charging Cable</td>\n",
       "      <td>1</td>\n",
       "      <td>11.95</td>\n",
       "      <td>2019-09-19 17:34:00</td>\n",
       "      <td>495 Park St, Boston, MA 02215</td>\n",
       "      <td>9</td>\n",
       "      <td>Boston</td>\n",
       "    </tr>\n",
       "    <tr>\n",
       "      <th>186829</th>\n",
       "      <td>259338</td>\n",
       "      <td>AAA Batteries (4-pack)</td>\n",
       "      <td>2</td>\n",
       "      <td>2.99</td>\n",
       "      <td>2019-09-02 21:29:00</td>\n",
       "      <td>666 Lakeview St, Boston, MA 02215</td>\n",
       "      <td>9</td>\n",
       "      <td>Boston</td>\n",
       "    </tr>\n",
       "    <tr>\n",
       "      <th>186833</th>\n",
       "      <td>259342</td>\n",
       "      <td>AA Batteries (4-pack)</td>\n",
       "      <td>1</td>\n",
       "      <td>3.84</td>\n",
       "      <td>2019-09-07 20:09:00</td>\n",
       "      <td>579 South St, Boston, MA 02215</td>\n",
       "      <td>9</td>\n",
       "      <td>Boston</td>\n",
       "    </tr>\n",
       "    <tr>\n",
       "      <th>186839</th>\n",
       "      <td>259348</td>\n",
       "      <td>Lightning Charging Cable</td>\n",
       "      <td>1</td>\n",
       "      <td>14.95</td>\n",
       "      <td>2019-09-30 21:03:00</td>\n",
       "      <td>260 Spruce St, Boston, MA 02215</td>\n",
       "      <td>9</td>\n",
       "      <td>Boston</td>\n",
       "    </tr>\n",
       "  </tbody>\n",
       "</table>\n",
       "<p>19901 rows × 8 columns</p>\n",
       "</div>"
      ],
      "text/plain": [
       "        order_id                     Product  quantity_ordered  price_each  \\\n",
       "2         176559  Bose SoundSport Headphones                 1       99.99   \n",
       "10        176566            Wired Headphones                 1       11.99   \n",
       "23        176578    Apple Airpods Headphones                 1      150.00   \n",
       "26        176581                      iPhone                 1      700.00   \n",
       "30        176585  Bose SoundSport Headphones                 1       99.99   \n",
       "...          ...                         ...               ...         ...   \n",
       "186827    259336      AAA Batteries (4-pack)                 3        2.99   \n",
       "186828    259337        USB-C Charging Cable                 1       11.95   \n",
       "186829    259338      AAA Batteries (4-pack)                 2        2.99   \n",
       "186833    259342       AA Batteries (4-pack)                 1        3.84   \n",
       "186839    259348    Lightning Charging Cable                 1       14.95   \n",
       "\n",
       "                order_date                   purchase_address  Month    City  \n",
       "2      2019-04-07 22:30:00  682 Chestnut St, Boston, MA 02215      4  Boston  \n",
       "10     2019-04-08 14:05:00        83 7th St, Boston, MA 02215      4  Boston  \n",
       "23     2019-04-09 23:35:00    513 Church St, Boston, MA 02215      4  Boston  \n",
       "26     2019-04-09 21:38:00    84 Jackson St, Boston, MA 02215      4  Boston  \n",
       "30     2019-04-07 11:31:00  823 Highland St, Boston, MA 02215      4  Boston  \n",
       "...                    ...                                ...    ...     ...  \n",
       "186827 2019-09-25 00:13:00      753 14th St, Boston, MA 02215      9  Boston  \n",
       "186828 2019-09-19 17:34:00      495 Park St, Boston, MA 02215      9  Boston  \n",
       "186829 2019-09-02 21:29:00  666 Lakeview St, Boston, MA 02215      9  Boston  \n",
       "186833 2019-09-07 20:09:00     579 South St, Boston, MA 02215      9  Boston  \n",
       "186839 2019-09-30 21:03:00    260 Spruce St, Boston, MA 02215      9  Boston  \n",
       "\n",
       "[19901 rows x 8 columns]"
      ]
     },
     "execution_count": 76,
     "metadata": {},
     "output_type": "execute_result"
    }
   ],
   "source": [
    "sales[sales['City'] == 'Boston']"
   ]
  },
  {
   "cell_type": "code",
   "execution_count": 77,
   "id": "imposed-camel",
   "metadata": {},
   "outputs": [
    {
     "data": {
      "text/plain": [
       "(185686, 8)"
      ]
     },
     "execution_count": 77,
     "metadata": {},
     "output_type": "execute_result"
    }
   ],
   "source": [
    "sales.shape"
   ]
  },
  {
   "cell_type": "code",
   "execution_count": 78,
   "id": "violent-network",
   "metadata": {},
   "outputs": [
    {
     "data": {
      "text/plain": [
       "order_id            185686\n",
       "Product             185686\n",
       "quantity_ordered    185686\n",
       "price_each          185686\n",
       "order_date          185686\n",
       "purchase_address    185686\n",
       "Month               185686\n",
       "City                185686\n",
       "dtype: int64"
      ]
     },
     "execution_count": 78,
     "metadata": {},
     "output_type": "execute_result"
    }
   ],
   "source": [
    "sales.count()"
   ]
  },
  {
   "cell_type": "code",
   "execution_count": 79,
   "id": "professional-yorkshire",
   "metadata": {},
   "outputs": [
    {
     "name": "stdout",
     "output_type": "stream",
     "text": [
      "<class 'pandas.core.frame.DataFrame'>\n",
      "Int64Index: 185686 entries, 0 to 186849\n",
      "Data columns (total 8 columns):\n",
      " #   Column            Non-Null Count   Dtype         \n",
      "---  ------            --------------   -----         \n",
      " 0   order_id          185686 non-null  int32         \n",
      " 1   Product           185686 non-null  object        \n",
      " 2   quantity_ordered  185686 non-null  int32         \n",
      " 3   price_each        185686 non-null  float64       \n",
      " 4   order_date        185686 non-null  datetime64[ns]\n",
      " 5   purchase_address  185686 non-null  object        \n",
      " 6   Month             185686 non-null  int64         \n",
      " 7   City              185686 non-null  object        \n",
      "dtypes: datetime64[ns](1), float64(1), int32(2), int64(1), object(3)\n",
      "memory usage: 11.3+ MB\n"
     ]
    }
   ],
   "source": [
    "sales.info()"
   ]
  },
  {
   "cell_type": "code",
   "execution_count": 80,
   "id": "transparent-south",
   "metadata": {},
   "outputs": [
    {
     "data": {
      "text/html": [
       "<div>\n",
       "<style scoped>\n",
       "    .dataframe tbody tr th:only-of-type {\n",
       "        vertical-align: middle;\n",
       "    }\n",
       "\n",
       "    .dataframe tbody tr th {\n",
       "        vertical-align: top;\n",
       "    }\n",
       "\n",
       "    .dataframe thead th {\n",
       "        text-align: right;\n",
       "    }\n",
       "</style>\n",
       "<table border=\"1\" class=\"dataframe\">\n",
       "  <thead>\n",
       "    <tr style=\"text-align: right;\">\n",
       "      <th></th>\n",
       "      <th>order_id</th>\n",
       "      <th>quantity_ordered</th>\n",
       "      <th>price_each</th>\n",
       "      <th>Month</th>\n",
       "    </tr>\n",
       "  </thead>\n",
       "  <tbody>\n",
       "    <tr>\n",
       "      <th>count</th>\n",
       "      <td>185686.000000</td>\n",
       "      <td>185686.000000</td>\n",
       "      <td>185686.000000</td>\n",
       "      <td>185686.000000</td>\n",
       "    </tr>\n",
       "    <tr>\n",
       "      <th>mean</th>\n",
       "      <td>230411.376227</td>\n",
       "      <td>1.124544</td>\n",
       "      <td>184.519255</td>\n",
       "      <td>7.058653</td>\n",
       "    </tr>\n",
       "    <tr>\n",
       "      <th>std</th>\n",
       "      <td>51511.717183</td>\n",
       "      <td>0.443069</td>\n",
       "      <td>332.843838</td>\n",
       "      <td>3.502932</td>\n",
       "    </tr>\n",
       "    <tr>\n",
       "      <th>min</th>\n",
       "      <td>141234.000000</td>\n",
       "      <td>1.000000</td>\n",
       "      <td>2.990000</td>\n",
       "      <td>1.000000</td>\n",
       "    </tr>\n",
       "    <tr>\n",
       "      <th>25%</th>\n",
       "      <td>185833.250000</td>\n",
       "      <td>1.000000</td>\n",
       "      <td>11.950000</td>\n",
       "      <td>4.000000</td>\n",
       "    </tr>\n",
       "    <tr>\n",
       "      <th>50%</th>\n",
       "      <td>230354.500000</td>\n",
       "      <td>1.000000</td>\n",
       "      <td>14.950000</td>\n",
       "      <td>7.000000</td>\n",
       "    </tr>\n",
       "    <tr>\n",
       "      <th>75%</th>\n",
       "      <td>275028.750000</td>\n",
       "      <td>1.000000</td>\n",
       "      <td>150.000000</td>\n",
       "      <td>10.000000</td>\n",
       "    </tr>\n",
       "    <tr>\n",
       "      <th>max</th>\n",
       "      <td>319670.000000</td>\n",
       "      <td>9.000000</td>\n",
       "      <td>1700.000000</td>\n",
       "      <td>12.000000</td>\n",
       "    </tr>\n",
       "  </tbody>\n",
       "</table>\n",
       "</div>"
      ],
      "text/plain": [
       "            order_id  quantity_ordered     price_each          Month\n",
       "count  185686.000000     185686.000000  185686.000000  185686.000000\n",
       "mean   230411.376227          1.124544     184.519255       7.058653\n",
       "std     51511.717183          0.443069     332.843838       3.502932\n",
       "min    141234.000000          1.000000       2.990000       1.000000\n",
       "25%    185833.250000          1.000000      11.950000       4.000000\n",
       "50%    230354.500000          1.000000      14.950000       7.000000\n",
       "75%    275028.750000          1.000000     150.000000      10.000000\n",
       "max    319670.000000          9.000000    1700.000000      12.000000"
      ]
     },
     "execution_count": 80,
     "metadata": {},
     "output_type": "execute_result"
    }
   ],
   "source": [
    "sales.describe()"
   ]
  },
  {
   "cell_type": "code",
   "execution_count": 81,
   "id": "lined-cliff",
   "metadata": {},
   "outputs": [
    {
     "data": {
      "text/html": [
       "<div>\n",
       "<style scoped>\n",
       "    .dataframe tbody tr th:only-of-type {\n",
       "        vertical-align: middle;\n",
       "    }\n",
       "\n",
       "    .dataframe tbody tr th {\n",
       "        vertical-align: top;\n",
       "    }\n",
       "\n",
       "    .dataframe thead th {\n",
       "        text-align: right;\n",
       "    }\n",
       "</style>\n",
       "<table border=\"1\" class=\"dataframe\">\n",
       "  <thead>\n",
       "    <tr style=\"text-align: right;\">\n",
       "      <th></th>\n",
       "      <th>order_id</th>\n",
       "      <th>Product</th>\n",
       "      <th>quantity_ordered</th>\n",
       "      <th>price_each</th>\n",
       "      <th>order_date</th>\n",
       "      <th>purchase_address</th>\n",
       "      <th>Month</th>\n",
       "      <th>City</th>\n",
       "    </tr>\n",
       "  </thead>\n",
       "  <tbody>\n",
       "    <tr>\n",
       "      <th>0</th>\n",
       "      <td>176558</td>\n",
       "      <td>USB-C Charging Cable</td>\n",
       "      <td>2</td>\n",
       "      <td>11.95</td>\n",
       "      <td>2019-04-19 08:46:00</td>\n",
       "      <td>917 1st St, Dallas, TX 75001</td>\n",
       "      <td>4</td>\n",
       "      <td>Dallas</td>\n",
       "    </tr>\n",
       "  </tbody>\n",
       "</table>\n",
       "</div>"
      ],
      "text/plain": [
       "   order_id               Product  quantity_ordered  price_each  \\\n",
       "0    176558  USB-C Charging Cable                 2       11.95   \n",
       "\n",
       "           order_date              purchase_address  Month    City  \n",
       "0 2019-04-19 08:46:00  917 1st St, Dallas, TX 75001      4  Dallas  "
      ]
     },
     "execution_count": 81,
     "metadata": {},
     "output_type": "execute_result"
    }
   ],
   "source": [
    "sales.head(1)"
   ]
  },
  {
   "cell_type": "markdown",
   "id": "invisible-metallic",
   "metadata": {},
   "source": [
    "### Data Analytics"
   ]
  },
  {
   "cell_type": "code",
   "execution_count": 82,
   "id": "inappropriate-discovery",
   "metadata": {},
   "outputs": [],
   "source": [
    "Month=sales.groupby('Product').quantity_ordered.count()"
   ]
  },
  {
   "cell_type": "code",
   "execution_count": 83,
   "id": "focused-sweden",
   "metadata": {},
   "outputs": [
    {
     "data": {
      "text/plain": [
       "Product\n",
       "20in Monitor                   4098\n",
       "27in 4K Gaming Monitor         6225\n",
       "27in FHD Monitor               7498\n",
       "34in Ultrawide Monitor         6174\n",
       "AA Batteries (4-pack)         20558\n",
       "AAA Batteries (4-pack)        20612\n",
       "Apple Airpods Headphones      15525\n",
       "Bose SoundSport Headphones    13298\n",
       "Flatscreen TV                  4794\n",
       "Google Phone                   5522\n",
       "LG Dryer                        646\n",
       "LG Washing Machine              666\n",
       "Lightning Charging Cable      21610\n",
       "Macbook Pro Laptop             4721\n",
       "ThinkPad Laptop                4126\n",
       "USB-C Charging Cable          21859\n",
       "Vareebadd Phone                2065\n",
       "Wired Headphones              18849\n",
       "iPhone                         6840\n",
       "Name: quantity_ordered, dtype: int64"
      ]
     },
     "execution_count": 83,
     "metadata": {},
     "output_type": "execute_result"
    }
   ],
   "source": [
    "Month"
   ]
  },
  {
   "cell_type": "code",
   "execution_count": 84,
   "id": "raising-disposal",
   "metadata": {},
   "outputs": [
    {
     "data": {
      "image/png": "[encoded data removed]",
      "text/plain": [
       "<Figure size 1008x576 with 1 Axes>"
      ]
     },
     "metadata": {},
     "output_type": "display_data"
    }
   ],
   "source": [
    "%matplotlib  inline\n",
    "import matplotlib.pyplot as plt\n",
    "plt.style.use('seaborn')\n",
    "Month.plot(kind='bar',figsize=(14,8),fontsize=14,color='Orange')\n",
    "plt.xlabel('Product')\n",
    "plt.ylabel('Quantity Ordered')\n",
    "plt.legend()\n",
    "plt.show()"
   ]
  },
  {
   "cell_type": "code",
   "execution_count": 85,
   "id": "destroyed-noise",
   "metadata": {},
   "outputs": [
    {
     "data": {
      "text/html": [
       "<div>\n",
       "<style scoped>\n",
       "    .dataframe tbody tr th:only-of-type {\n",
       "        vertical-align: middle;\n",
       "    }\n",
       "\n",
       "    .dataframe tbody tr th {\n",
       "        vertical-align: top;\n",
       "    }\n",
       "\n",
       "    .dataframe thead th {\n",
       "        text-align: right;\n",
       "    }\n",
       "</style>\n",
       "<table border=\"1\" class=\"dataframe\">\n",
       "  <thead>\n",
       "    <tr style=\"text-align: right;\">\n",
       "      <th></th>\n",
       "      <th>order_id</th>\n",
       "      <th>Product</th>\n",
       "      <th>quantity_ordered</th>\n",
       "      <th>price_each</th>\n",
       "      <th>order_date</th>\n",
       "      <th>purchase_address</th>\n",
       "      <th>Month</th>\n",
       "      <th>City</th>\n",
       "    </tr>\n",
       "  </thead>\n",
       "  <tbody>\n",
       "    <tr>\n",
       "      <th>0</th>\n",
       "      <td>176558</td>\n",
       "      <td>USB-C Charging Cable</td>\n",
       "      <td>2</td>\n",
       "      <td>11.95</td>\n",
       "      <td>2019-04-19 08:46:00</td>\n",
       "      <td>917 1st St, Dallas, TX 75001</td>\n",
       "      <td>4</td>\n",
       "      <td>Dallas</td>\n",
       "    </tr>\n",
       "  </tbody>\n",
       "</table>\n",
       "</div>"
      ],
      "text/plain": [
       "   order_id               Product  quantity_ordered  price_each  \\\n",
       "0    176558  USB-C Charging Cable                 2       11.95   \n",
       "\n",
       "           order_date              purchase_address  Month    City  \n",
       "0 2019-04-19 08:46:00  917 1st St, Dallas, TX 75001      4  Dallas  "
      ]
     },
     "execution_count": 85,
     "metadata": {},
     "output_type": "execute_result"
    }
   ],
   "source": [
    "sales.head(1)"
   ]
  },
  {
   "cell_type": "code",
   "execution_count": 86,
   "id": "romantic-timeline",
   "metadata": {},
   "outputs": [],
   "source": [
    "City= sales.groupby('City').quantity_ordered.count()"
   ]
  },
  {
   "cell_type": "code",
   "execution_count": 87,
   "id": "unique-metabolism",
   "metadata": {},
   "outputs": [
    {
     "data": {
      "text/plain": [
       "City\n",
       "Atlanta          14863\n",
       "Austin            9890\n",
       "Boston           19901\n",
       "Dallas           14797\n",
       "Los Angeles      29564\n",
       "New York City    24847\n",
       "Portland         12449\n",
       "San Francisco    44662\n",
       "Seattle          14713\n",
       "Name: quantity_ordered, dtype: int64"
      ]
     },
     "execution_count": 87,
     "metadata": {},
     "output_type": "execute_result"
    }
   ],
   "source": [
    "City"
   ]
  },
  {
   "cell_type": "code",
   "execution_count": 88,
   "id": "another-restaurant",
   "metadata": {},
   "outputs": [
    {
     "data": {
      "image/png": "[encoded data removed]",
      "text/plain": [
       "<Figure size 1008x576 with 1 Axes>"
      ]
     },
     "metadata": {},
     "output_type": "display_data"
    }
   ],
   "source": [
    "%matplotlib  inline\n",
    "import matplotlib.pyplot as plt\n",
    "plt.style.use('fivethirtyeight')\n",
    "explode=[0,0,0,0,0.1,0,0,0.11,0]\n",
    "City.plot(kind='pie',figsize=(14,8),fontsize=14,explode=explode,wedgeprops={\"edgecolor\":\"black\"},shadow=True,autopct= \"%2.1f%%\")\n",
    "plt.title(\"My awesome Pie Chart\")\n",
    "plt.tight_layout()\n",
    "plt.show()"
   ]
  },
  {
   "cell_type": "code",
   "execution_count": 89,
   "id": "strange-branch",
   "metadata": {},
   "outputs": [
    {
     "data": {
      "text/html": [
       "<div>\n",
       "<style scoped>\n",
       "    .dataframe tbody tr th:only-of-type {\n",
       "        vertical-align: middle;\n",
       "    }\n",
       "\n",
       "    .dataframe tbody tr th {\n",
       "        vertical-align: top;\n",
       "    }\n",
       "\n",
       "    .dataframe thead th {\n",
       "        text-align: right;\n",
       "    }\n",
       "</style>\n",
       "<table border=\"1\" class=\"dataframe\">\n",
       "  <thead>\n",
       "    <tr style=\"text-align: right;\">\n",
       "      <th></th>\n",
       "      <th>order_id</th>\n",
       "      <th>Product</th>\n",
       "      <th>quantity_ordered</th>\n",
       "      <th>price_each</th>\n",
       "      <th>order_date</th>\n",
       "      <th>purchase_address</th>\n",
       "      <th>Month</th>\n",
       "      <th>City</th>\n",
       "    </tr>\n",
       "  </thead>\n",
       "  <tbody>\n",
       "    <tr>\n",
       "      <th>0</th>\n",
       "      <td>176558</td>\n",
       "      <td>USB-C Charging Cable</td>\n",
       "      <td>2</td>\n",
       "      <td>11.95</td>\n",
       "      <td>2019-04-19 08:46:00</td>\n",
       "      <td>917 1st St, Dallas, TX 75001</td>\n",
       "      <td>4</td>\n",
       "      <td>Dallas</td>\n",
       "    </tr>\n",
       "  </tbody>\n",
       "</table>\n",
       "</div>"
      ],
      "text/plain": [
       "   order_id               Product  quantity_ordered  price_each  \\\n",
       "0    176558  USB-C Charging Cable                 2       11.95   \n",
       "\n",
       "           order_date              purchase_address  Month    City  \n",
       "0 2019-04-19 08:46:00  917 1st St, Dallas, TX 75001      4  Dallas  "
      ]
     },
     "execution_count": 89,
     "metadata": {},
     "output_type": "execute_result"
    }
   ],
   "source": [
    "sales.head(1)"
   ]
  },
  {
   "cell_type": "code",
   "execution_count": 90,
   "id": "detected-eating",
   "metadata": {},
   "outputs": [],
   "source": [
    "sales['Sum'] = sales['quantity_ordered'] * sales['price_each']"
   ]
  },
  {
   "cell_type": "code",
   "execution_count": 91,
   "id": "disabled-recommendation",
   "metadata": {},
   "outputs": [
    {
     "data": {
      "text/html": [
       "<div>\n",
       "<style scoped>\n",
       "    .dataframe tbody tr th:only-of-type {\n",
       "        vertical-align: middle;\n",
       "    }\n",
       "\n",
       "    .dataframe tbody tr th {\n",
       "        vertical-align: top;\n",
       "    }\n",
       "\n",
       "    .dataframe thead th {\n",
       "        text-align: right;\n",
       "    }\n",
       "</style>\n",
       "<table border=\"1\" class=\"dataframe\">\n",
       "  <thead>\n",
       "    <tr style=\"text-align: right;\">\n",
       "      <th></th>\n",
       "      <th>order_id</th>\n",
       "      <th>Product</th>\n",
       "      <th>quantity_ordered</th>\n",
       "      <th>price_each</th>\n",
       "      <th>order_date</th>\n",
       "      <th>purchase_address</th>\n",
       "      <th>Month</th>\n",
       "      <th>City</th>\n",
       "      <th>Sum</th>\n",
       "    </tr>\n",
       "  </thead>\n",
       "  <tbody>\n",
       "    <tr>\n",
       "      <th>0</th>\n",
       "      <td>176558</td>\n",
       "      <td>USB-C Charging Cable</td>\n",
       "      <td>2</td>\n",
       "      <td>11.95</td>\n",
       "      <td>2019-04-19 08:46:00</td>\n",
       "      <td>917 1st St, Dallas, TX 75001</td>\n",
       "      <td>4</td>\n",
       "      <td>Dallas</td>\n",
       "      <td>23.9</td>\n",
       "    </tr>\n",
       "  </tbody>\n",
       "</table>\n",
       "</div>"
      ],
      "text/plain": [
       "   order_id               Product  quantity_ordered  price_each  \\\n",
       "0    176558  USB-C Charging Cable                 2       11.95   \n",
       "\n",
       "           order_date              purchase_address  Month    City   Sum  \n",
       "0 2019-04-19 08:46:00  917 1st St, Dallas, TX 75001      4  Dallas  23.9  "
      ]
     },
     "execution_count": 91,
     "metadata": {},
     "output_type": "execute_result"
    }
   ],
   "source": [
    "sales.head(1)"
   ]
  },
  {
   "cell_type": "code",
   "execution_count": 92,
   "id": "committed-preservation",
   "metadata": {},
   "outputs": [
    {
     "data": {
      "text/html": [
       "<div>\n",
       "<style scoped>\n",
       "    .dataframe tbody tr th:only-of-type {\n",
       "        vertical-align: middle;\n",
       "    }\n",
       "\n",
       "    .dataframe tbody tr th {\n",
       "        vertical-align: top;\n",
       "    }\n",
       "\n",
       "    .dataframe thead th {\n",
       "        text-align: right;\n",
       "    }\n",
       "</style>\n",
       "<table border=\"1\" class=\"dataframe\">\n",
       "  <thead>\n",
       "    <tr style=\"text-align: right;\">\n",
       "      <th></th>\n",
       "      <th>order_id</th>\n",
       "      <th>Product</th>\n",
       "      <th>quantity_ordered</th>\n",
       "      <th>price_each</th>\n",
       "      <th>order_date</th>\n",
       "      <th>purchase_address</th>\n",
       "      <th>Month</th>\n",
       "      <th>City</th>\n",
       "      <th>Sum</th>\n",
       "    </tr>\n",
       "  </thead>\n",
       "  <tbody>\n",
       "    <tr>\n",
       "      <th>0</th>\n",
       "      <td>176558</td>\n",
       "      <td>USB-C Charging Cable</td>\n",
       "      <td>2</td>\n",
       "      <td>11.95</td>\n",
       "      <td>2019-04-19 08:46:00</td>\n",
       "      <td>917 1st St, Dallas, TX 75001</td>\n",
       "      <td>4</td>\n",
       "      <td>Dallas</td>\n",
       "      <td>23.9</td>\n",
       "    </tr>\n",
       "  </tbody>\n",
       "</table>\n",
       "</div>"
      ],
      "text/plain": [
       "   order_id               Product  quantity_ordered  price_each  \\\n",
       "0    176558  USB-C Charging Cable                 2       11.95   \n",
       "\n",
       "           order_date              purchase_address  Month    City   Sum  \n",
       "0 2019-04-19 08:46:00  917 1st St, Dallas, TX 75001      4  Dallas  23.9  "
      ]
     },
     "execution_count": 92,
     "metadata": {},
     "output_type": "execute_result"
    }
   ],
   "source": [
    "sales[sales['Sum'] == 23.9].head(1)"
   ]
  },
  {
   "cell_type": "code",
   "execution_count": 93,
   "id": "sudden-worthy",
   "metadata": {},
   "outputs": [],
   "source": [
    "Sum= sales.groupby('City').Sum.sum()"
   ]
  },
  {
   "cell_type": "code",
   "execution_count": 94,
   "id": "specialized-franchise",
   "metadata": {},
   "outputs": [
    {
     "data": {
      "text/plain": [
       "City\n",
       "Atlanta          2.794199e+06\n",
       "Austin           1.818044e+06\n",
       "Boston           3.658628e+06\n",
       "Dallas           2.765374e+06\n",
       "Los Angeles      5.448304e+06\n",
       "New York City    4.661867e+06\n",
       "Portland         2.319332e+06\n",
       "San Francisco    8.254744e+06\n",
       "Seattle          2.745046e+06\n",
       "Name: Sum, dtype: float64"
      ]
     },
     "execution_count": 94,
     "metadata": {},
     "output_type": "execute_result"
    }
   ],
   "source": [
    "Sum"
   ]
  },
  {
   "cell_type": "code",
   "execution_count": 95,
   "id": "perfect-indonesian",
   "metadata": {},
   "outputs": [
    {
     "data": {
      "image/png": "[encoded data removed]",
      "text/plain": [
       "<Figure size 1008x432 with 1 Axes>"
      ]
     },
     "metadata": {},
     "output_type": "display_data"
    }
   ],
   "source": [
    "%matplotlib  inline\n",
    "import matplotlib.pyplot as plt\n",
    "plt.style.use('seaborn')\n",
    "Sum.plot(kind='line',figsize=(14,6),fontsize=14,color='Orange')\n",
    "plt.xlabel('City')\n",
    "plt.ylabel('Sum')\n",
    "plt.legend()\n",
    "plt.show()"
   ]
  },
  {
   "cell_type": "code",
   "execution_count": 96,
   "id": "ranging-commander",
   "metadata": {},
   "outputs": [
    {
     "data": {
      "text/html": [
       "<div>\n",
       "<style scoped>\n",
       "    .dataframe tbody tr th:only-of-type {\n",
       "        vertical-align: middle;\n",
       "    }\n",
       "\n",
       "    .dataframe tbody tr th {\n",
       "        vertical-align: top;\n",
       "    }\n",
       "\n",
       "    .dataframe thead th {\n",
       "        text-align: right;\n",
       "    }\n",
       "</style>\n",
       "<table border=\"1\" class=\"dataframe\">\n",
       "  <thead>\n",
       "    <tr style=\"text-align: right;\">\n",
       "      <th></th>\n",
       "      <th>order_id</th>\n",
       "      <th>Product</th>\n",
       "      <th>quantity_ordered</th>\n",
       "      <th>price_each</th>\n",
       "      <th>order_date</th>\n",
       "      <th>purchase_address</th>\n",
       "      <th>Month</th>\n",
       "      <th>City</th>\n",
       "      <th>Sum</th>\n",
       "    </tr>\n",
       "  </thead>\n",
       "  <tbody>\n",
       "    <tr>\n",
       "      <th>0</th>\n",
       "      <td>176558</td>\n",
       "      <td>USB-C Charging Cable</td>\n",
       "      <td>2</td>\n",
       "      <td>11.95</td>\n",
       "      <td>2019-04-19 08:46:00</td>\n",
       "      <td>917 1st St, Dallas, TX 75001</td>\n",
       "      <td>4</td>\n",
       "      <td>Dallas</td>\n",
       "      <td>23.9</td>\n",
       "    </tr>\n",
       "  </tbody>\n",
       "</table>\n",
       "</div>"
      ],
      "text/plain": [
       "   order_id               Product  quantity_ordered  price_each  \\\n",
       "0    176558  USB-C Charging Cable                 2       11.95   \n",
       "\n",
       "           order_date              purchase_address  Month    City   Sum  \n",
       "0 2019-04-19 08:46:00  917 1st St, Dallas, TX 75001      4  Dallas  23.9  "
      ]
     },
     "execution_count": 96,
     "metadata": {},
     "output_type": "execute_result"
    }
   ],
   "source": [
    "sales.head(1)"
   ]
  },
  {
   "cell_type": "code",
   "execution_count": 97,
   "id": "prompt-avenue",
   "metadata": {},
   "outputs": [],
   "source": [
    "eleventh_month=sales[(sales['City'] == 'Dallas')& (sales['Month'] == 11) & (sales['quantity_ordered'] == 3)]"
   ]
  },
  {
   "cell_type": "code",
   "execution_count": 98,
   "id": "tired-organic",
   "metadata": {},
   "outputs": [
    {
     "data": {
      "text/plain": [
       "8.97     11\n",
       "11.52     8\n",
       "35.97     1\n",
       "44.85     1\n",
       "Name: Sum, dtype: int64"
      ]
     },
     "execution_count": 98,
     "metadata": {},
     "output_type": "execute_result"
    }
   ],
   "source": [
    "eleventh_month.Sum.value_counts()"
   ]
  },
  {
   "cell_type": "code",
   "execution_count": 99,
   "id": "million-signature",
   "metadata": {},
   "outputs": [
    {
     "data": {
      "text/plain": [
       "21"
      ]
     },
     "execution_count": 99,
     "metadata": {},
     "output_type": "execute_result"
    }
   ],
   "source": [
    "eleventh_month.order_id.nunique()"
   ]
  },
  {
   "cell_type": "code",
   "execution_count": 100,
   "id": "failing-separation",
   "metadata": {},
   "outputs": [],
   "source": [
    "month=eleventh_month.groupby('Product').quantity_ordered.sum()"
   ]
  },
  {
   "cell_type": "code",
   "execution_count": 101,
   "id": "facial-softball",
   "metadata": {},
   "outputs": [
    {
     "data": {
      "image/png": "[encoded data removed]",
      "text/plain": [
       "<Figure size 1008x576 with 1 Axes>"
      ]
     },
     "metadata": {},
     "output_type": "display_data"
    }
   ],
   "source": [
    "%matplotlib  inline\n",
    "import matplotlib.pyplot as plt\n",
    "plt.style.use('seaborn')\n",
    "month.plot(kind='bar',figsize=(14,8),fontsize=14,color='SkyBlue')\n",
    "plt.xlabel('Product')\n",
    "plt.ylabel('Quantity Ordered')\n",
    "plt.legend()\n",
    "plt.show()"
   ]
  },
  {
   "cell_type": "code",
   "execution_count": 102,
   "id": "desirable-charleston",
   "metadata": {},
   "outputs": [
    {
     "data": {
      "text/html": [
       "<div>\n",
       "<style scoped>\n",
       "    .dataframe tbody tr th:only-of-type {\n",
       "        vertical-align: middle;\n",
       "    }\n",
       "\n",
       "    .dataframe tbody tr th {\n",
       "        vertical-align: top;\n",
       "    }\n",
       "\n",
       "    .dataframe thead th {\n",
       "        text-align: right;\n",
       "    }\n",
       "</style>\n",
       "<table border=\"1\" class=\"dataframe\">\n",
       "  <thead>\n",
       "    <tr style=\"text-align: right;\">\n",
       "      <th></th>\n",
       "      <th>order_id</th>\n",
       "      <th>Product</th>\n",
       "      <th>quantity_ordered</th>\n",
       "      <th>price_each</th>\n",
       "      <th>order_date</th>\n",
       "      <th>purchase_address</th>\n",
       "      <th>Month</th>\n",
       "      <th>City</th>\n",
       "      <th>Sum</th>\n",
       "    </tr>\n",
       "  </thead>\n",
       "  <tbody>\n",
       "    <tr>\n",
       "      <th>0</th>\n",
       "      <td>176558</td>\n",
       "      <td>USB-C Charging Cable</td>\n",
       "      <td>2</td>\n",
       "      <td>11.95</td>\n",
       "      <td>2019-04-19 08:46:00</td>\n",
       "      <td>917 1st St, Dallas, TX 75001</td>\n",
       "      <td>4</td>\n",
       "      <td>Dallas</td>\n",
       "      <td>23.9</td>\n",
       "    </tr>\n",
       "  </tbody>\n",
       "</table>\n",
       "</div>"
      ],
      "text/plain": [
       "   order_id               Product  quantity_ordered  price_each  \\\n",
       "0    176558  USB-C Charging Cable                 2       11.95   \n",
       "\n",
       "           order_date              purchase_address  Month    City   Sum  \n",
       "0 2019-04-19 08:46:00  917 1st St, Dallas, TX 75001      4  Dallas  23.9  "
      ]
     },
     "execution_count": 102,
     "metadata": {},
     "output_type": "execute_result"
    }
   ],
   "source": [
    "sales.head(1)"
   ]
  },
  {
   "cell_type": "code",
   "execution_count": 103,
   "id": "expired-mason",
   "metadata": {},
   "outputs": [],
   "source": [
    "Sum_City=sales[(sales['price_each'] > 500) & (sales['Sum']  > 1000)& (sales['City'] == 'New York City')]"
   ]
  },
  {
   "cell_type": "code",
   "execution_count": 104,
   "id": "measured-petite",
   "metadata": {},
   "outputs": [
    {
     "data": {
      "text/html": [
       "<div>\n",
       "<style scoped>\n",
       "    .dataframe tbody tr th:only-of-type {\n",
       "        vertical-align: middle;\n",
       "    }\n",
       "\n",
       "    .dataframe tbody tr th {\n",
       "        vertical-align: top;\n",
       "    }\n",
       "\n",
       "    .dataframe thead th {\n",
       "        text-align: right;\n",
       "    }\n",
       "</style>\n",
       "<table border=\"1\" class=\"dataframe\">\n",
       "  <thead>\n",
       "    <tr style=\"text-align: right;\">\n",
       "      <th></th>\n",
       "      <th>order_id</th>\n",
       "      <th>Product</th>\n",
       "      <th>quantity_ordered</th>\n",
       "      <th>price_each</th>\n",
       "      <th>order_date</th>\n",
       "      <th>purchase_address</th>\n",
       "      <th>Month</th>\n",
       "      <th>City</th>\n",
       "      <th>Sum</th>\n",
       "    </tr>\n",
       "  </thead>\n",
       "  <tbody>\n",
       "    <tr>\n",
       "      <th>588</th>\n",
       "      <td>177120</td>\n",
       "      <td>Macbook Pro Laptop</td>\n",
       "      <td>1</td>\n",
       "      <td>1700.0</td>\n",
       "      <td>2019-04-03 09:46:00</td>\n",
       "      <td>371 Church St, New York City, NY 10001</td>\n",
       "      <td>4</td>\n",
       "      <td>New York City</td>\n",
       "      <td>1700.0</td>\n",
       "    </tr>\n",
       "    <tr>\n",
       "      <th>694</th>\n",
       "      <td>177217</td>\n",
       "      <td>Macbook Pro Laptop</td>\n",
       "      <td>1</td>\n",
       "      <td>1700.0</td>\n",
       "      <td>2019-04-15 16:13:00</td>\n",
       "      <td>262 Willow St, New York City, NY 10001</td>\n",
       "      <td>4</td>\n",
       "      <td>New York City</td>\n",
       "      <td>1700.0</td>\n",
       "    </tr>\n",
       "    <tr>\n",
       "      <th>962</th>\n",
       "      <td>177473</td>\n",
       "      <td>Macbook Pro Laptop</td>\n",
       "      <td>1</td>\n",
       "      <td>1700.0</td>\n",
       "      <td>2019-04-02 18:24:00</td>\n",
       "      <td>844 12th St, New York City, NY 10001</td>\n",
       "      <td>4</td>\n",
       "      <td>New York City</td>\n",
       "      <td>1700.0</td>\n",
       "    </tr>\n",
       "    <tr>\n",
       "      <th>1402</th>\n",
       "      <td>177890</td>\n",
       "      <td>Macbook Pro Laptop</td>\n",
       "      <td>1</td>\n",
       "      <td>1700.0</td>\n",
       "      <td>2019-04-08 15:47:00</td>\n",
       "      <td>486 Park St, New York City, NY 10001</td>\n",
       "      <td>4</td>\n",
       "      <td>New York City</td>\n",
       "      <td>1700.0</td>\n",
       "    </tr>\n",
       "    <tr>\n",
       "      <th>1696</th>\n",
       "      <td>178168</td>\n",
       "      <td>Macbook Pro Laptop</td>\n",
       "      <td>1</td>\n",
       "      <td>1700.0</td>\n",
       "      <td>2019-04-21 14:48:00</td>\n",
       "      <td>583 Washington St, New York City, NY 10001</td>\n",
       "      <td>4</td>\n",
       "      <td>New York City</td>\n",
       "      <td>1700.0</td>\n",
       "    </tr>\n",
       "    <tr>\n",
       "      <th>...</th>\n",
       "      <td>...</td>\n",
       "      <td>...</td>\n",
       "      <td>...</td>\n",
       "      <td>...</td>\n",
       "      <td>...</td>\n",
       "      <td>...</td>\n",
       "      <td>...</td>\n",
       "      <td>...</td>\n",
       "      <td>...</td>\n",
       "    </tr>\n",
       "    <tr>\n",
       "      <th>186149</th>\n",
       "      <td>258694</td>\n",
       "      <td>Macbook Pro Laptop</td>\n",
       "      <td>1</td>\n",
       "      <td>1700.0</td>\n",
       "      <td>2019-09-18 17:44:00</td>\n",
       "      <td>684 Meadow St, New York City, NY 10001</td>\n",
       "      <td>9</td>\n",
       "      <td>New York City</td>\n",
       "      <td>1700.0</td>\n",
       "    </tr>\n",
       "    <tr>\n",
       "      <th>186406</th>\n",
       "      <td>258938</td>\n",
       "      <td>Macbook Pro Laptop</td>\n",
       "      <td>1</td>\n",
       "      <td>1700.0</td>\n",
       "      <td>2019-09-04 13:06:00</td>\n",
       "      <td>155 Madison St, New York City, NY 10001</td>\n",
       "      <td>9</td>\n",
       "      <td>New York City</td>\n",
       "      <td>1700.0</td>\n",
       "    </tr>\n",
       "    <tr>\n",
       "      <th>186416</th>\n",
       "      <td>258948</td>\n",
       "      <td>Macbook Pro Laptop</td>\n",
       "      <td>1</td>\n",
       "      <td>1700.0</td>\n",
       "      <td>2019-09-12 09:19:00</td>\n",
       "      <td>440 South St, New York City, NY 10001</td>\n",
       "      <td>9</td>\n",
       "      <td>New York City</td>\n",
       "      <td>1700.0</td>\n",
       "    </tr>\n",
       "    <tr>\n",
       "      <th>186493</th>\n",
       "      <td>259021</td>\n",
       "      <td>Macbook Pro Laptop</td>\n",
       "      <td>1</td>\n",
       "      <td>1700.0</td>\n",
       "      <td>2019-09-23 18:58:00</td>\n",
       "      <td>427 Willow St, New York City, NY 10001</td>\n",
       "      <td>9</td>\n",
       "      <td>New York City</td>\n",
       "      <td>1700.0</td>\n",
       "    </tr>\n",
       "    <tr>\n",
       "      <th>186514</th>\n",
       "      <td>259041</td>\n",
       "      <td>Macbook Pro Laptop</td>\n",
       "      <td>1</td>\n",
       "      <td>1700.0</td>\n",
       "      <td>2019-09-13 23:14:00</td>\n",
       "      <td>220 Sunset St, New York City, NY 10001</td>\n",
       "      <td>9</td>\n",
       "      <td>New York City</td>\n",
       "      <td>1700.0</td>\n",
       "    </tr>\n",
       "  </tbody>\n",
       "</table>\n",
       "<p>657 rows × 9 columns</p>\n",
       "</div>"
      ],
      "text/plain": [
       "        order_id             Product  quantity_ordered  price_each  \\\n",
       "588       177120  Macbook Pro Laptop                 1      1700.0   \n",
       "694       177217  Macbook Pro Laptop                 1      1700.0   \n",
       "962       177473  Macbook Pro Laptop                 1      1700.0   \n",
       "1402      177890  Macbook Pro Laptop                 1      1700.0   \n",
       "1696      178168  Macbook Pro Laptop                 1      1700.0   \n",
       "...          ...                 ...               ...         ...   \n",
       "186149    258694  Macbook Pro Laptop                 1      1700.0   \n",
       "186406    258938  Macbook Pro Laptop                 1      1700.0   \n",
       "186416    258948  Macbook Pro Laptop                 1      1700.0   \n",
       "186493    259021  Macbook Pro Laptop                 1      1700.0   \n",
       "186514    259041  Macbook Pro Laptop                 1      1700.0   \n",
       "\n",
       "                order_date                            purchase_address  Month  \\\n",
       "588    2019-04-03 09:46:00      371 Church St, New York City, NY 10001      4   \n",
       "694    2019-04-15 16:13:00      262 Willow St, New York City, NY 10001      4   \n",
       "962    2019-04-02 18:24:00        844 12th St, New York City, NY 10001      4   \n",
       "1402   2019-04-08 15:47:00        486 Park St, New York City, NY 10001      4   \n",
       "1696   2019-04-21 14:48:00  583 Washington St, New York City, NY 10001      4   \n",
       "...                    ...                                         ...    ...   \n",
       "186149 2019-09-18 17:44:00      684 Meadow St, New York City, NY 10001      9   \n",
       "186406 2019-09-04 13:06:00     155 Madison St, New York City, NY 10001      9   \n",
       "186416 2019-09-12 09:19:00       440 South St, New York City, NY 10001      9   \n",
       "186493 2019-09-23 18:58:00      427 Willow St, New York City, NY 10001      9   \n",
       "186514 2019-09-13 23:14:00      220 Sunset St, New York City, NY 10001      9   \n",
       "\n",
       "                 City     Sum  \n",
       "588     New York City  1700.0  \n",
       "694     New York City  1700.0  \n",
       "962     New York City  1700.0  \n",
       "1402    New York City  1700.0  \n",
       "1696    New York City  1700.0  \n",
       "...               ...     ...  \n",
       "186149  New York City  1700.0  \n",
       "186406  New York City  1700.0  \n",
       "186416  New York City  1700.0  \n",
       "186493  New York City  1700.0  \n",
       "186514  New York City  1700.0  \n",
       "\n",
       "[657 rows x 9 columns]"
      ]
     },
     "execution_count": 104,
     "metadata": {},
     "output_type": "execute_result"
    }
   ],
   "source": [
    "Sum_City"
   ]
  },
  {
   "cell_type": "code",
   "execution_count": 105,
   "id": "reasonable-thousand",
   "metadata": {},
   "outputs": [
    {
     "data": {
      "text/plain": [
       "Macbook Pro Laptop    656\n",
       "ThinkPad Laptop         1\n",
       "Name: Product, dtype: int64"
      ]
     },
     "execution_count": 105,
     "metadata": {},
     "output_type": "execute_result"
    }
   ],
   "source": [
    "Sum_City.Product.value_counts()"
   ]
  },
  {
   "cell_type": "code",
   "execution_count": 106,
   "id": "impressive-australian",
   "metadata": {},
   "outputs": [
    {
     "data": {
      "text/html": [
       "<div>\n",
       "<style scoped>\n",
       "    .dataframe tbody tr th:only-of-type {\n",
       "        vertical-align: middle;\n",
       "    }\n",
       "\n",
       "    .dataframe tbody tr th {\n",
       "        vertical-align: top;\n",
       "    }\n",
       "\n",
       "    .dataframe thead th {\n",
       "        text-align: right;\n",
       "    }\n",
       "</style>\n",
       "<table border=\"1\" class=\"dataframe\">\n",
       "  <thead>\n",
       "    <tr style=\"text-align: right;\">\n",
       "      <th></th>\n",
       "      <th>order_id</th>\n",
       "      <th>Product</th>\n",
       "      <th>quantity_ordered</th>\n",
       "      <th>price_each</th>\n",
       "      <th>order_date</th>\n",
       "      <th>purchase_address</th>\n",
       "      <th>Month</th>\n",
       "      <th>City</th>\n",
       "      <th>Sum</th>\n",
       "    </tr>\n",
       "  </thead>\n",
       "  <tbody>\n",
       "    <tr>\n",
       "      <th>0</th>\n",
       "      <td>176558</td>\n",
       "      <td>USB-C Charging Cable</td>\n",
       "      <td>2</td>\n",
       "      <td>11.95</td>\n",
       "      <td>2019-04-19 08:46:00</td>\n",
       "      <td>917 1st St, Dallas, TX 75001</td>\n",
       "      <td>4</td>\n",
       "      <td>Dallas</td>\n",
       "      <td>23.9</td>\n",
       "    </tr>\n",
       "  </tbody>\n",
       "</table>\n",
       "</div>"
      ],
      "text/plain": [
       "   order_id               Product  quantity_ordered  price_each  \\\n",
       "0    176558  USB-C Charging Cable                 2       11.95   \n",
       "\n",
       "           order_date              purchase_address  Month    City   Sum  \n",
       "0 2019-04-19 08:46:00  917 1st St, Dallas, TX 75001      4  Dallas  23.9  "
      ]
     },
     "execution_count": 106,
     "metadata": {},
     "output_type": "execute_result"
    }
   ],
   "source": [
    "sales.head(1)"
   ]
  },
  {
   "cell_type": "code",
   "execution_count": 107,
   "id": "linear-attack",
   "metadata": {},
   "outputs": [
    {
     "data": {
      "text/plain": [
       "San Francisco    44662\n",
       "Los Angeles      29564\n",
       "New York City    24847\n",
       "Boston           19901\n",
       "Atlanta          14863\n",
       "Dallas           14797\n",
       "Seattle          14713\n",
       "Portland         12449\n",
       "Austin            9890\n",
       "Name: City, dtype: int64"
      ]
     },
     "execution_count": 107,
     "metadata": {},
     "output_type": "execute_result"
    }
   ],
   "source": [
    "sales.City.value_counts()"
   ]
  },
  {
   "cell_type": "code",
   "execution_count": 108,
   "id": "metallic-combining",
   "metadata": {},
   "outputs": [
    {
     "data": {
      "text/html": [
       "<div>\n",
       "<style scoped>\n",
       "    .dataframe tbody tr th:only-of-type {\n",
       "        vertical-align: middle;\n",
       "    }\n",
       "\n",
       "    .dataframe tbody tr th {\n",
       "        vertical-align: top;\n",
       "    }\n",
       "\n",
       "    .dataframe thead th {\n",
       "        text-align: right;\n",
       "    }\n",
       "</style>\n",
       "<table border=\"1\" class=\"dataframe\">\n",
       "  <thead>\n",
       "    <tr style=\"text-align: right;\">\n",
       "      <th></th>\n",
       "      <th>order_id</th>\n",
       "      <th>Product</th>\n",
       "      <th>quantity_ordered</th>\n",
       "      <th>price_each</th>\n",
       "      <th>order_date</th>\n",
       "      <th>purchase_address</th>\n",
       "      <th>Month</th>\n",
       "      <th>City</th>\n",
       "      <th>Sum</th>\n",
       "    </tr>\n",
       "  </thead>\n",
       "  <tbody>\n",
       "    <tr>\n",
       "      <th>175189</th>\n",
       "      <td>248175</td>\n",
       "      <td>iPhone</td>\n",
       "      <td>1</td>\n",
       "      <td>700.0</td>\n",
       "      <td>2019-09-08 13:58:00</td>\n",
       "      <td>736 4th St, Austin, TX 73301</td>\n",
       "      <td>9</td>\n",
       "      <td>Austin</td>\n",
       "      <td>700.0</td>\n",
       "    </tr>\n",
       "    <tr>\n",
       "      <th>175327</th>\n",
       "      <td>248310</td>\n",
       "      <td>iPhone</td>\n",
       "      <td>1</td>\n",
       "      <td>700.0</td>\n",
       "      <td>2019-09-05 21:00:00</td>\n",
       "      <td>201 Spruce St, Austin, TX 73301</td>\n",
       "      <td>9</td>\n",
       "      <td>Austin</td>\n",
       "      <td>700.0</td>\n",
       "    </tr>\n",
       "    <tr>\n",
       "      <th>175497</th>\n",
       "      <td>248471</td>\n",
       "      <td>iPhone</td>\n",
       "      <td>1</td>\n",
       "      <td>700.0</td>\n",
       "      <td>2019-09-20 14:55:00</td>\n",
       "      <td>763 Johnson St, Austin, TX 73301</td>\n",
       "      <td>9</td>\n",
       "      <td>Austin</td>\n",
       "      <td>700.0</td>\n",
       "    </tr>\n",
       "    <tr>\n",
       "      <th>175927</th>\n",
       "      <td>248888</td>\n",
       "      <td>iPhone</td>\n",
       "      <td>1</td>\n",
       "      <td>700.0</td>\n",
       "      <td>2019-09-14 16:40:00</td>\n",
       "      <td>286 Cedar St, Austin, TX 73301</td>\n",
       "      <td>9</td>\n",
       "      <td>Austin</td>\n",
       "      <td>700.0</td>\n",
       "    </tr>\n",
       "    <tr>\n",
       "      <th>176628</th>\n",
       "      <td>249555</td>\n",
       "      <td>iPhone</td>\n",
       "      <td>1</td>\n",
       "      <td>700.0</td>\n",
       "      <td>2019-09-17 14:33:00</td>\n",
       "      <td>376 5th St, Austin, TX 73301</td>\n",
       "      <td>9</td>\n",
       "      <td>Austin</td>\n",
       "      <td>700.0</td>\n",
       "    </tr>\n",
       "    <tr>\n",
       "      <th>176961</th>\n",
       "      <td>249872</td>\n",
       "      <td>iPhone</td>\n",
       "      <td>1</td>\n",
       "      <td>700.0</td>\n",
       "      <td>2019-09-20 22:23:00</td>\n",
       "      <td>98 Park St, Austin, TX 73301</td>\n",
       "      <td>9</td>\n",
       "      <td>Austin</td>\n",
       "      <td>700.0</td>\n",
       "    </tr>\n",
       "    <tr>\n",
       "      <th>177115</th>\n",
       "      <td>250018</td>\n",
       "      <td>iPhone</td>\n",
       "      <td>1</td>\n",
       "      <td>700.0</td>\n",
       "      <td>2019-09-14 12:16:00</td>\n",
       "      <td>516 Church St, Austin, TX 73301</td>\n",
       "      <td>9</td>\n",
       "      <td>Austin</td>\n",
       "      <td>700.0</td>\n",
       "    </tr>\n",
       "    <tr>\n",
       "      <th>177744</th>\n",
       "      <td>250625</td>\n",
       "      <td>iPhone</td>\n",
       "      <td>1</td>\n",
       "      <td>700.0</td>\n",
       "      <td>2019-09-11 20:18:00</td>\n",
       "      <td>225 Forest St, Austin, TX 73301</td>\n",
       "      <td>9</td>\n",
       "      <td>Austin</td>\n",
       "      <td>700.0</td>\n",
       "    </tr>\n",
       "    <tr>\n",
       "      <th>178073</th>\n",
       "      <td>250939</td>\n",
       "      <td>iPhone</td>\n",
       "      <td>1</td>\n",
       "      <td>700.0</td>\n",
       "      <td>2019-09-24 20:17:00</td>\n",
       "      <td>645 Meadow St, Austin, TX 73301</td>\n",
       "      <td>9</td>\n",
       "      <td>Austin</td>\n",
       "      <td>700.0</td>\n",
       "    </tr>\n",
       "    <tr>\n",
       "      <th>178624</th>\n",
       "      <td>251472</td>\n",
       "      <td>iPhone</td>\n",
       "      <td>1</td>\n",
       "      <td>700.0</td>\n",
       "      <td>2019-09-15 13:54:00</td>\n",
       "      <td>853 Madison St, Austin, TX 73301</td>\n",
       "      <td>9</td>\n",
       "      <td>Austin</td>\n",
       "      <td>700.0</td>\n",
       "    </tr>\n",
       "    <tr>\n",
       "      <th>179238</th>\n",
       "      <td>252066</td>\n",
       "      <td>iPhone</td>\n",
       "      <td>1</td>\n",
       "      <td>700.0</td>\n",
       "      <td>2019-09-29 16:31:00</td>\n",
       "      <td>149 8th St, Austin, TX 73301</td>\n",
       "      <td>9</td>\n",
       "      <td>Austin</td>\n",
       "      <td>700.0</td>\n",
       "    </tr>\n",
       "    <tr>\n",
       "      <th>181081</th>\n",
       "      <td>253829</td>\n",
       "      <td>iPhone</td>\n",
       "      <td>1</td>\n",
       "      <td>700.0</td>\n",
       "      <td>2019-09-25 14:20:00</td>\n",
       "      <td>765 Jackson St, Austin, TX 73301</td>\n",
       "      <td>9</td>\n",
       "      <td>Austin</td>\n",
       "      <td>700.0</td>\n",
       "    </tr>\n",
       "    <tr>\n",
       "      <th>181427</th>\n",
       "      <td>254153</td>\n",
       "      <td>iPhone</td>\n",
       "      <td>1</td>\n",
       "      <td>700.0</td>\n",
       "      <td>2019-09-03 02:24:00</td>\n",
       "      <td>586 Forest St, Austin, TX 73301</td>\n",
       "      <td>9</td>\n",
       "      <td>Austin</td>\n",
       "      <td>700.0</td>\n",
       "    </tr>\n",
       "    <tr>\n",
       "      <th>181978</th>\n",
       "      <td>254685</td>\n",
       "      <td>iPhone</td>\n",
       "      <td>1</td>\n",
       "      <td>700.0</td>\n",
       "      <td>2019-09-17 10:16:00</td>\n",
       "      <td>462 Chestnut St, Austin, TX 73301</td>\n",
       "      <td>9</td>\n",
       "      <td>Austin</td>\n",
       "      <td>700.0</td>\n",
       "    </tr>\n",
       "    <tr>\n",
       "      <th>182394</th>\n",
       "      <td>255076</td>\n",
       "      <td>iPhone</td>\n",
       "      <td>1</td>\n",
       "      <td>700.0</td>\n",
       "      <td>2019-09-22 00:06:00</td>\n",
       "      <td>908 8th St, Austin, TX 73301</td>\n",
       "      <td>9</td>\n",
       "      <td>Austin</td>\n",
       "      <td>700.0</td>\n",
       "    </tr>\n",
       "    <tr>\n",
       "      <th>182615</th>\n",
       "      <td>255287</td>\n",
       "      <td>iPhone</td>\n",
       "      <td>1</td>\n",
       "      <td>700.0</td>\n",
       "      <td>2019-09-20 20:34:00</td>\n",
       "      <td>760 Chestnut St, Austin, TX 73301</td>\n",
       "      <td>9</td>\n",
       "      <td>Austin</td>\n",
       "      <td>700.0</td>\n",
       "    </tr>\n",
       "    <tr>\n",
       "      <th>183359</th>\n",
       "      <td>256008</td>\n",
       "      <td>iPhone</td>\n",
       "      <td>1</td>\n",
       "      <td>700.0</td>\n",
       "      <td>2019-09-20 08:23:00</td>\n",
       "      <td>967 Johnson St, Austin, TX 73301</td>\n",
       "      <td>9</td>\n",
       "      <td>Austin</td>\n",
       "      <td>700.0</td>\n",
       "    </tr>\n",
       "    <tr>\n",
       "      <th>184643</th>\n",
       "      <td>257250</td>\n",
       "      <td>iPhone</td>\n",
       "      <td>1</td>\n",
       "      <td>700.0</td>\n",
       "      <td>2019-09-12 14:34:00</td>\n",
       "      <td>157 10th St, Austin, TX 73301</td>\n",
       "      <td>9</td>\n",
       "      <td>Austin</td>\n",
       "      <td>700.0</td>\n",
       "    </tr>\n",
       "    <tr>\n",
       "      <th>185463</th>\n",
       "      <td>258032</td>\n",
       "      <td>iPhone</td>\n",
       "      <td>1</td>\n",
       "      <td>700.0</td>\n",
       "      <td>2019-09-20 21:04:00</td>\n",
       "      <td>46 1st St, Austin, TX 73301</td>\n",
       "      <td>9</td>\n",
       "      <td>Austin</td>\n",
       "      <td>700.0</td>\n",
       "    </tr>\n",
       "    <tr>\n",
       "      <th>186017</th>\n",
       "      <td>258566</td>\n",
       "      <td>iPhone</td>\n",
       "      <td>1</td>\n",
       "      <td>700.0</td>\n",
       "      <td>2019-09-11 21:35:00</td>\n",
       "      <td>868 Jackson St, Austin, TX 73301</td>\n",
       "      <td>9</td>\n",
       "      <td>Austin</td>\n",
       "      <td>700.0</td>\n",
       "    </tr>\n",
       "    <tr>\n",
       "      <th>186597</th>\n",
       "      <td>259121</td>\n",
       "      <td>iPhone</td>\n",
       "      <td>1</td>\n",
       "      <td>700.0</td>\n",
       "      <td>2019-09-08 22:48:00</td>\n",
       "      <td>190 Meadow St, Austin, TX 73301</td>\n",
       "      <td>9</td>\n",
       "      <td>Austin</td>\n",
       "      <td>700.0</td>\n",
       "    </tr>\n",
       "  </tbody>\n",
       "</table>\n",
       "</div>"
      ],
      "text/plain": [
       "        order_id Product  quantity_ordered  price_each          order_date  \\\n",
       "175189    248175  iPhone                 1       700.0 2019-09-08 13:58:00   \n",
       "175327    248310  iPhone                 1       700.0 2019-09-05 21:00:00   \n",
       "175497    248471  iPhone                 1       700.0 2019-09-20 14:55:00   \n",
       "175927    248888  iPhone                 1       700.0 2019-09-14 16:40:00   \n",
       "176628    249555  iPhone                 1       700.0 2019-09-17 14:33:00   \n",
       "176961    249872  iPhone                 1       700.0 2019-09-20 22:23:00   \n",
       "177115    250018  iPhone                 1       700.0 2019-09-14 12:16:00   \n",
       "177744    250625  iPhone                 1       700.0 2019-09-11 20:18:00   \n",
       "178073    250939  iPhone                 1       700.0 2019-09-24 20:17:00   \n",
       "178624    251472  iPhone                 1       700.0 2019-09-15 13:54:00   \n",
       "179238    252066  iPhone                 1       700.0 2019-09-29 16:31:00   \n",
       "181081    253829  iPhone                 1       700.0 2019-09-25 14:20:00   \n",
       "181427    254153  iPhone                 1       700.0 2019-09-03 02:24:00   \n",
       "181978    254685  iPhone                 1       700.0 2019-09-17 10:16:00   \n",
       "182394    255076  iPhone                 1       700.0 2019-09-22 00:06:00   \n",
       "182615    255287  iPhone                 1       700.0 2019-09-20 20:34:00   \n",
       "183359    256008  iPhone                 1       700.0 2019-09-20 08:23:00   \n",
       "184643    257250  iPhone                 1       700.0 2019-09-12 14:34:00   \n",
       "185463    258032  iPhone                 1       700.0 2019-09-20 21:04:00   \n",
       "186017    258566  iPhone                 1       700.0 2019-09-11 21:35:00   \n",
       "186597    259121  iPhone                 1       700.0 2019-09-08 22:48:00   \n",
       "\n",
       "                         purchase_address  Month    City    Sum  \n",
       "175189       736 4th St, Austin, TX 73301      9  Austin  700.0  \n",
       "175327    201 Spruce St, Austin, TX 73301      9  Austin  700.0  \n",
       "175497   763 Johnson St, Austin, TX 73301      9  Austin  700.0  \n",
       "175927     286 Cedar St, Austin, TX 73301      9  Austin  700.0  \n",
       "176628       376 5th St, Austin, TX 73301      9  Austin  700.0  \n",
       "176961       98 Park St, Austin, TX 73301      9  Austin  700.0  \n",
       "177115    516 Church St, Austin, TX 73301      9  Austin  700.0  \n",
       "177744    225 Forest St, Austin, TX 73301      9  Austin  700.0  \n",
       "178073    645 Meadow St, Austin, TX 73301      9  Austin  700.0  \n",
       "178624   853 Madison St, Austin, TX 73301      9  Austin  700.0  \n",
       "179238       149 8th St, Austin, TX 73301      9  Austin  700.0  \n",
       "181081   765 Jackson St, Austin, TX 73301      9  Austin  700.0  \n",
       "181427    586 Forest St, Austin, TX 73301      9  Austin  700.0  \n",
       "181978  462 Chestnut St, Austin, TX 73301      9  Austin  700.0  \n",
       "182394       908 8th St, Austin, TX 73301      9  Austin  700.0  \n",
       "182615  760 Chestnut St, Austin, TX 73301      9  Austin  700.0  \n",
       "183359   967 Johnson St, Austin, TX 73301      9  Austin  700.0  \n",
       "184643      157 10th St, Austin, TX 73301      9  Austin  700.0  \n",
       "185463        46 1st St, Austin, TX 73301      9  Austin  700.0  \n",
       "186017   868 Jackson St, Austin, TX 73301      9  Austin  700.0  \n",
       "186597    190 Meadow St, Austin, TX 73301      9  Austin  700.0  "
      ]
     },
     "execution_count": 108,
     "metadata": {},
     "output_type": "execute_result"
    }
   ],
   "source": [
    "sales[(sales['City'] == 'Austin') & (sales['Month'] == 9) &(sales['Product'] == 'iPhone')]"
   ]
  },
  {
   "cell_type": "code",
   "execution_count": 109,
   "id": "permanent-barbados",
   "metadata": {},
   "outputs": [
    {
     "data": {
      "text/html": [
       "<div>\n",
       "<style scoped>\n",
       "    .dataframe tbody tr th:only-of-type {\n",
       "        vertical-align: middle;\n",
       "    }\n",
       "\n",
       "    .dataframe tbody tr th {\n",
       "        vertical-align: top;\n",
       "    }\n",
       "\n",
       "    .dataframe thead th {\n",
       "        text-align: right;\n",
       "    }\n",
       "</style>\n",
       "<table border=\"1\" class=\"dataframe\">\n",
       "  <thead>\n",
       "    <tr style=\"text-align: right;\">\n",
       "      <th></th>\n",
       "      <th>order_id</th>\n",
       "      <th>Product</th>\n",
       "      <th>quantity_ordered</th>\n",
       "      <th>price_each</th>\n",
       "      <th>order_date</th>\n",
       "      <th>purchase_address</th>\n",
       "      <th>Month</th>\n",
       "      <th>City</th>\n",
       "      <th>Sum</th>\n",
       "    </tr>\n",
       "  </thead>\n",
       "  <tbody>\n",
       "    <tr>\n",
       "      <th>0</th>\n",
       "      <td>176558</td>\n",
       "      <td>USB-C Charging Cable</td>\n",
       "      <td>2</td>\n",
       "      <td>11.95</td>\n",
       "      <td>2019-04-19 08:46:00</td>\n",
       "      <td>917 1st St, Dallas, TX 75001</td>\n",
       "      <td>4</td>\n",
       "      <td>Dallas</td>\n",
       "      <td>23.9</td>\n",
       "    </tr>\n",
       "  </tbody>\n",
       "</table>\n",
       "</div>"
      ],
      "text/plain": [
       "   order_id               Product  quantity_ordered  price_each  \\\n",
       "0    176558  USB-C Charging Cable                 2       11.95   \n",
       "\n",
       "           order_date              purchase_address  Month    City   Sum  \n",
       "0 2019-04-19 08:46:00  917 1st St, Dallas, TX 75001      4  Dallas  23.9  "
      ]
     },
     "execution_count": 109,
     "metadata": {},
     "output_type": "execute_result"
    }
   ],
   "source": [
    "sales.head(1)"
   ]
  },
  {
   "cell_type": "code",
   "execution_count": 110,
   "id": "developmental-maldives",
   "metadata": {},
   "outputs": [],
   "source": [
    "sales['Day'] = sales['order_date'].dt.day"
   ]
  },
  {
   "cell_type": "code",
   "execution_count": 111,
   "id": "greater-armenia",
   "metadata": {},
   "outputs": [
    {
     "data": {
      "text/html": [
       "<div>\n",
       "<style scoped>\n",
       "    .dataframe tbody tr th:only-of-type {\n",
       "        vertical-align: middle;\n",
       "    }\n",
       "\n",
       "    .dataframe tbody tr th {\n",
       "        vertical-align: top;\n",
       "    }\n",
       "\n",
       "    .dataframe thead th {\n",
       "        text-align: right;\n",
       "    }\n",
       "</style>\n",
       "<table border=\"1\" class=\"dataframe\">\n",
       "  <thead>\n",
       "    <tr style=\"text-align: right;\">\n",
       "      <th></th>\n",
       "      <th>order_id</th>\n",
       "      <th>Product</th>\n",
       "      <th>quantity_ordered</th>\n",
       "      <th>price_each</th>\n",
       "      <th>order_date</th>\n",
       "      <th>purchase_address</th>\n",
       "      <th>Month</th>\n",
       "      <th>City</th>\n",
       "      <th>Sum</th>\n",
       "      <th>Day</th>\n",
       "    </tr>\n",
       "  </thead>\n",
       "  <tbody>\n",
       "    <tr>\n",
       "      <th>0</th>\n",
       "      <td>176558</td>\n",
       "      <td>USB-C Charging Cable</td>\n",
       "      <td>2</td>\n",
       "      <td>11.95</td>\n",
       "      <td>2019-04-19 08:46:00</td>\n",
       "      <td>917 1st St, Dallas, TX 75001</td>\n",
       "      <td>4</td>\n",
       "      <td>Dallas</td>\n",
       "      <td>23.9</td>\n",
       "      <td>19</td>\n",
       "    </tr>\n",
       "  </tbody>\n",
       "</table>\n",
       "</div>"
      ],
      "text/plain": [
       "   order_id               Product  quantity_ordered  price_each  \\\n",
       "0    176558  USB-C Charging Cable                 2       11.95   \n",
       "\n",
       "           order_date              purchase_address  Month    City   Sum  Day  \n",
       "0 2019-04-19 08:46:00  917 1st St, Dallas, TX 75001      4  Dallas  23.9   19  "
      ]
     },
     "execution_count": 111,
     "metadata": {},
     "output_type": "execute_result"
    }
   ],
   "source": [
    "sales.head(1)"
   ]
  },
  {
   "cell_type": "code",
   "execution_count": 112,
   "id": "administrative-principal",
   "metadata": {},
   "outputs": [
    {
     "name": "stdout",
     "output_type": "stream",
     "text": [
      "int64\n"
     ]
    }
   ],
   "source": [
    "print(sales['Day'].dtype)"
   ]
  },
  {
   "cell_type": "code",
   "execution_count": 116,
   "id": "voluntary-interface",
   "metadata": {},
   "outputs": [
    {
     "data": {
      "text/html": [
       "<div>\n",
       "<style scoped>\n",
       "    .dataframe tbody tr th:only-of-type {\n",
       "        vertical-align: middle;\n",
       "    }\n",
       "\n",
       "    .dataframe tbody tr th {\n",
       "        vertical-align: top;\n",
       "    }\n",
       "\n",
       "    .dataframe thead th {\n",
       "        text-align: right;\n",
       "    }\n",
       "</style>\n",
       "<table border=\"1\" class=\"dataframe\">\n",
       "  <thead>\n",
       "    <tr style=\"text-align: right;\">\n",
       "      <th></th>\n",
       "      <th>order_id</th>\n",
       "      <th>Product</th>\n",
       "      <th>quantity_ordered</th>\n",
       "      <th>price_each</th>\n",
       "      <th>order_date</th>\n",
       "      <th>purchase_address</th>\n",
       "      <th>Month</th>\n",
       "      <th>City</th>\n",
       "      <th>Sum</th>\n",
       "      <th>Day</th>\n",
       "    </tr>\n",
       "  </thead>\n",
       "  <tbody>\n",
       "    <tr>\n",
       "      <th>67739</th>\n",
       "      <td>141422</td>\n",
       "      <td>Apple Airpods Headphones</td>\n",
       "      <td>1</td>\n",
       "      <td>150.00</td>\n",
       "      <td>2019-01-16 22:23:00</td>\n",
       "      <td>970 Lakeview St, Boston, MA 02215</td>\n",
       "      <td>1</td>\n",
       "      <td>Boston</td>\n",
       "      <td>150.00</td>\n",
       "      <td>16</td>\n",
       "    </tr>\n",
       "    <tr>\n",
       "      <th>67986</th>\n",
       "      <td>141662</td>\n",
       "      <td>AAA Batteries (4-pack)</td>\n",
       "      <td>1</td>\n",
       "      <td>2.99</td>\n",
       "      <td>2019-01-16 13:06:00</td>\n",
       "      <td>106 Jefferson St, Boston, MA 02215</td>\n",
       "      <td>1</td>\n",
       "      <td>Boston</td>\n",
       "      <td>2.99</td>\n",
       "      <td>16</td>\n",
       "    </tr>\n",
       "    <tr>\n",
       "      <th>67990</th>\n",
       "      <td>141666</td>\n",
       "      <td>AA Batteries (4-pack)</td>\n",
       "      <td>2</td>\n",
       "      <td>3.84</td>\n",
       "      <td>2019-01-16 16:22:00</td>\n",
       "      <td>956 Adams St, Boston, MA 02215</td>\n",
       "      <td>1</td>\n",
       "      <td>Boston</td>\n",
       "      <td>7.68</td>\n",
       "      <td>16</td>\n",
       "    </tr>\n",
       "    <tr>\n",
       "      <th>68290</th>\n",
       "      <td>141951</td>\n",
       "      <td>ThinkPad Laptop</td>\n",
       "      <td>1</td>\n",
       "      <td>999.99</td>\n",
       "      <td>2019-01-16 06:54:00</td>\n",
       "      <td>489 12th St, Boston, MA 02215</td>\n",
       "      <td>1</td>\n",
       "      <td>Boston</td>\n",
       "      <td>999.99</td>\n",
       "      <td>16</td>\n",
       "    </tr>\n",
       "    <tr>\n",
       "      <th>68543</th>\n",
       "      <td>142185</td>\n",
       "      <td>Bose SoundSport Headphones</td>\n",
       "      <td>1</td>\n",
       "      <td>99.99</td>\n",
       "      <td>2019-01-16 14:02:00</td>\n",
       "      <td>208 West St, Boston, MA 02215</td>\n",
       "      <td>1</td>\n",
       "      <td>Boston</td>\n",
       "      <td>99.99</td>\n",
       "      <td>16</td>\n",
       "    </tr>\n",
       "    <tr>\n",
       "      <th>68684</th>\n",
       "      <td>142317</td>\n",
       "      <td>Flatscreen TV</td>\n",
       "      <td>1</td>\n",
       "      <td>300.00</td>\n",
       "      <td>2019-01-16 11:01:00</td>\n",
       "      <td>885 9th St, Boston, MA 02215</td>\n",
       "      <td>1</td>\n",
       "      <td>Boston</td>\n",
       "      <td>300.00</td>\n",
       "      <td>16</td>\n",
       "    </tr>\n",
       "    <tr>\n",
       "      <th>69184</th>\n",
       "      <td>142792</td>\n",
       "      <td>34in Ultrawide Monitor</td>\n",
       "      <td>1</td>\n",
       "      <td>379.99</td>\n",
       "      <td>2019-01-16 08:31:00</td>\n",
       "      <td>387 Maple St, Boston, MA 02215</td>\n",
       "      <td>1</td>\n",
       "      <td>Boston</td>\n",
       "      <td>379.99</td>\n",
       "      <td>16</td>\n",
       "    </tr>\n",
       "    <tr>\n",
       "      <th>69214</th>\n",
       "      <td>142821</td>\n",
       "      <td>USB-C Charging Cable</td>\n",
       "      <td>2</td>\n",
       "      <td>11.95</td>\n",
       "      <td>2019-01-16 20:53:00</td>\n",
       "      <td>37 West St, Boston, MA 02215</td>\n",
       "      <td>1</td>\n",
       "      <td>Boston</td>\n",
       "      <td>23.90</td>\n",
       "      <td>16</td>\n",
       "    </tr>\n",
       "    <tr>\n",
       "      <th>69251</th>\n",
       "      <td>142854</td>\n",
       "      <td>USB-C Charging Cable</td>\n",
       "      <td>1</td>\n",
       "      <td>11.95</td>\n",
       "      <td>2019-01-16 13:27:00</td>\n",
       "      <td>328 Lakeview St, Boston, MA 02215</td>\n",
       "      <td>1</td>\n",
       "      <td>Boston</td>\n",
       "      <td>11.95</td>\n",
       "      <td>16</td>\n",
       "    </tr>\n",
       "    <tr>\n",
       "      <th>69477</th>\n",
       "      <td>143066</td>\n",
       "      <td>USB-C Charging Cable</td>\n",
       "      <td>1</td>\n",
       "      <td>11.95</td>\n",
       "      <td>2019-01-16 23:13:00</td>\n",
       "      <td>855 2nd St, Boston, MA 02215</td>\n",
       "      <td>1</td>\n",
       "      <td>Boston</td>\n",
       "      <td>11.95</td>\n",
       "      <td>16</td>\n",
       "    </tr>\n",
       "    <tr>\n",
       "      <th>70197</th>\n",
       "      <td>143744</td>\n",
       "      <td>USB-C Charging Cable</td>\n",
       "      <td>2</td>\n",
       "      <td>11.95</td>\n",
       "      <td>2019-01-16 11:38:00</td>\n",
       "      <td>1 South St, Boston, MA 02215</td>\n",
       "      <td>1</td>\n",
       "      <td>Boston</td>\n",
       "      <td>23.90</td>\n",
       "      <td>16</td>\n",
       "    </tr>\n",
       "    <tr>\n",
       "      <th>70760</th>\n",
       "      <td>144287</td>\n",
       "      <td>Wired Headphones</td>\n",
       "      <td>1</td>\n",
       "      <td>11.99</td>\n",
       "      <td>2019-01-16 09:45:00</td>\n",
       "      <td>951 Adams St, Boston, MA 02215</td>\n",
       "      <td>1</td>\n",
       "      <td>Boston</td>\n",
       "      <td>11.99</td>\n",
       "      <td>16</td>\n",
       "    </tr>\n",
       "    <tr>\n",
       "      <th>70875</th>\n",
       "      <td>144398</td>\n",
       "      <td>34in Ultrawide Monitor</td>\n",
       "      <td>1</td>\n",
       "      <td>379.99</td>\n",
       "      <td>2019-01-16 08:32:00</td>\n",
       "      <td>824 Forest St, Boston, MA 02215</td>\n",
       "      <td>1</td>\n",
       "      <td>Boston</td>\n",
       "      <td>379.99</td>\n",
       "      <td>16</td>\n",
       "    </tr>\n",
       "    <tr>\n",
       "      <th>70994</th>\n",
       "      <td>144511</td>\n",
       "      <td>AA Batteries (4-pack)</td>\n",
       "      <td>1</td>\n",
       "      <td>3.84</td>\n",
       "      <td>2019-01-16 20:02:00</td>\n",
       "      <td>331 Chestnut St, Boston, MA 02215</td>\n",
       "      <td>1</td>\n",
       "      <td>Boston</td>\n",
       "      <td>3.84</td>\n",
       "      <td>16</td>\n",
       "    </tr>\n",
       "    <tr>\n",
       "      <th>71117</th>\n",
       "      <td>144623</td>\n",
       "      <td>USB-C Charging Cable</td>\n",
       "      <td>1</td>\n",
       "      <td>11.95</td>\n",
       "      <td>2019-01-16 17:01:00</td>\n",
       "      <td>168 Dogwood St, Boston, MA 02215</td>\n",
       "      <td>1</td>\n",
       "      <td>Boston</td>\n",
       "      <td>11.95</td>\n",
       "      <td>16</td>\n",
       "    </tr>\n",
       "    <tr>\n",
       "      <th>71283</th>\n",
       "      <td>144779</td>\n",
       "      <td>Bose SoundSport Headphones</td>\n",
       "      <td>1</td>\n",
       "      <td>99.99</td>\n",
       "      <td>2019-01-16 13:26:00</td>\n",
       "      <td>339 1st St, Boston, MA 02215</td>\n",
       "      <td>1</td>\n",
       "      <td>Boston</td>\n",
       "      <td>99.99</td>\n",
       "      <td>16</td>\n",
       "    </tr>\n",
       "    <tr>\n",
       "      <th>71308</th>\n",
       "      <td>144802</td>\n",
       "      <td>27in FHD Monitor</td>\n",
       "      <td>1</td>\n",
       "      <td>149.99</td>\n",
       "      <td>2019-01-16 12:18:00</td>\n",
       "      <td>333 Hill St, Boston, MA 02215</td>\n",
       "      <td>1</td>\n",
       "      <td>Boston</td>\n",
       "      <td>149.99</td>\n",
       "      <td>16</td>\n",
       "    </tr>\n",
       "    <tr>\n",
       "      <th>71367</th>\n",
       "      <td>144855</td>\n",
       "      <td>USB-C Charging Cable</td>\n",
       "      <td>1</td>\n",
       "      <td>11.95</td>\n",
       "      <td>2019-01-16 16:23:00</td>\n",
       "      <td>968 Jackson St, Boston, MA 02215</td>\n",
       "      <td>1</td>\n",
       "      <td>Boston</td>\n",
       "      <td>11.95</td>\n",
       "      <td>16</td>\n",
       "    </tr>\n",
       "    <tr>\n",
       "      <th>71745</th>\n",
       "      <td>145211</td>\n",
       "      <td>AAA Batteries (4-pack)</td>\n",
       "      <td>4</td>\n",
       "      <td>2.99</td>\n",
       "      <td>2019-01-16 09:13:00</td>\n",
       "      <td>761 West St, Boston, MA 02215</td>\n",
       "      <td>1</td>\n",
       "      <td>Boston</td>\n",
       "      <td>11.96</td>\n",
       "      <td>16</td>\n",
       "    </tr>\n",
       "    <tr>\n",
       "      <th>72119</th>\n",
       "      <td>145578</td>\n",
       "      <td>Bose SoundSport Headphones</td>\n",
       "      <td>1</td>\n",
       "      <td>99.99</td>\n",
       "      <td>2019-01-16 15:01:00</td>\n",
       "      <td>5 Spruce St, Boston, MA 02215</td>\n",
       "      <td>1</td>\n",
       "      <td>Boston</td>\n",
       "      <td>99.99</td>\n",
       "      <td>16</td>\n",
       "    </tr>\n",
       "    <tr>\n",
       "      <th>72856</th>\n",
       "      <td>146280</td>\n",
       "      <td>Bose SoundSport Headphones</td>\n",
       "      <td>1</td>\n",
       "      <td>99.99</td>\n",
       "      <td>2019-01-16 08:28:00</td>\n",
       "      <td>937 Meadow St, Boston, MA 02215</td>\n",
       "      <td>1</td>\n",
       "      <td>Boston</td>\n",
       "      <td>99.99</td>\n",
       "      <td>16</td>\n",
       "    </tr>\n",
       "    <tr>\n",
       "      <th>73103</th>\n",
       "      <td>146519</td>\n",
       "      <td>Apple Airpods Headphones</td>\n",
       "      <td>1</td>\n",
       "      <td>150.00</td>\n",
       "      <td>2019-01-16 14:24:00</td>\n",
       "      <td>392 2nd St, Boston, MA 02215</td>\n",
       "      <td>1</td>\n",
       "      <td>Boston</td>\n",
       "      <td>150.00</td>\n",
       "      <td>16</td>\n",
       "    </tr>\n",
       "    <tr>\n",
       "      <th>73492</th>\n",
       "      <td>146892</td>\n",
       "      <td>27in FHD Monitor</td>\n",
       "      <td>1</td>\n",
       "      <td>149.99</td>\n",
       "      <td>2019-01-16 21:52:00</td>\n",
       "      <td>170 Park St, Boston, MA 02215</td>\n",
       "      <td>1</td>\n",
       "      <td>Boston</td>\n",
       "      <td>149.99</td>\n",
       "      <td>16</td>\n",
       "    </tr>\n",
       "    <tr>\n",
       "      <th>73664</th>\n",
       "      <td>147054</td>\n",
       "      <td>Apple Airpods Headphones</td>\n",
       "      <td>1</td>\n",
       "      <td>150.00</td>\n",
       "      <td>2019-01-16 07:58:00</td>\n",
       "      <td>685 Jackson St, Boston, MA 02215</td>\n",
       "      <td>1</td>\n",
       "      <td>Boston</td>\n",
       "      <td>150.00</td>\n",
       "      <td>16</td>\n",
       "    </tr>\n",
       "    <tr>\n",
       "      <th>73695</th>\n",
       "      <td>147084</td>\n",
       "      <td>iPhone</td>\n",
       "      <td>1</td>\n",
       "      <td>700.00</td>\n",
       "      <td>2019-01-16 11:44:00</td>\n",
       "      <td>305 Spruce St, Boston, MA 02215</td>\n",
       "      <td>1</td>\n",
       "      <td>Boston</td>\n",
       "      <td>700.00</td>\n",
       "      <td>16</td>\n",
       "    </tr>\n",
       "    <tr>\n",
       "      <th>74560</th>\n",
       "      <td>147905</td>\n",
       "      <td>Lightning Charging Cable</td>\n",
       "      <td>1</td>\n",
       "      <td>14.95</td>\n",
       "      <td>2019-01-16 21:56:00</td>\n",
       "      <td>436 12th St, Boston, MA 02215</td>\n",
       "      <td>1</td>\n",
       "      <td>Boston</td>\n",
       "      <td>14.95</td>\n",
       "      <td>16</td>\n",
       "    </tr>\n",
       "    <tr>\n",
       "      <th>74569</th>\n",
       "      <td>147913</td>\n",
       "      <td>AAA Batteries (4-pack)</td>\n",
       "      <td>2</td>\n",
       "      <td>2.99</td>\n",
       "      <td>2019-01-16 20:49:00</td>\n",
       "      <td>32 Center St, Boston, MA 02215</td>\n",
       "      <td>1</td>\n",
       "      <td>Boston</td>\n",
       "      <td>5.98</td>\n",
       "      <td>16</td>\n",
       "    </tr>\n",
       "    <tr>\n",
       "      <th>74627</th>\n",
       "      <td>147970</td>\n",
       "      <td>Apple Airpods Headphones</td>\n",
       "      <td>1</td>\n",
       "      <td>150.00</td>\n",
       "      <td>2019-01-16 12:27:00</td>\n",
       "      <td>256 Park St, Boston, MA 02215</td>\n",
       "      <td>1</td>\n",
       "      <td>Boston</td>\n",
       "      <td>150.00</td>\n",
       "      <td>16</td>\n",
       "    </tr>\n",
       "    <tr>\n",
       "      <th>74652</th>\n",
       "      <td>147994</td>\n",
       "      <td>27in 4K Gaming Monitor</td>\n",
       "      <td>1</td>\n",
       "      <td>389.99</td>\n",
       "      <td>2019-01-16 09:08:00</td>\n",
       "      <td>871 1st St, Boston, MA 02215</td>\n",
       "      <td>1</td>\n",
       "      <td>Boston</td>\n",
       "      <td>389.99</td>\n",
       "      <td>16</td>\n",
       "    </tr>\n",
       "    <tr>\n",
       "      <th>75579</th>\n",
       "      <td>148892</td>\n",
       "      <td>AA Batteries (4-pack)</td>\n",
       "      <td>2</td>\n",
       "      <td>3.84</td>\n",
       "      <td>2019-01-16 18:13:00</td>\n",
       "      <td>924 Spruce St, Boston, MA 02215</td>\n",
       "      <td>1</td>\n",
       "      <td>Boston</td>\n",
       "      <td>7.68</td>\n",
       "      <td>16</td>\n",
       "    </tr>\n",
       "    <tr>\n",
       "      <th>76320</th>\n",
       "      <td>149595</td>\n",
       "      <td>USB-C Charging Cable</td>\n",
       "      <td>1</td>\n",
       "      <td>11.95</td>\n",
       "      <td>2019-01-16 13:12:00</td>\n",
       "      <td>328 Lincoln St, Boston, MA 02215</td>\n",
       "      <td>1</td>\n",
       "      <td>Boston</td>\n",
       "      <td>11.95</td>\n",
       "      <td>16</td>\n",
       "    </tr>\n",
       "    <tr>\n",
       "      <th>76756</th>\n",
       "      <td>150010</td>\n",
       "      <td>27in FHD Monitor</td>\n",
       "      <td>1</td>\n",
       "      <td>149.99</td>\n",
       "      <td>2019-01-16 14:45:00</td>\n",
       "      <td>914 Madison St, Boston, MA 02215</td>\n",
       "      <td>1</td>\n",
       "      <td>Boston</td>\n",
       "      <td>149.99</td>\n",
       "      <td>16</td>\n",
       "    </tr>\n",
       "    <tr>\n",
       "      <th>76822</th>\n",
       "      <td>150071</td>\n",
       "      <td>USB-C Charging Cable</td>\n",
       "      <td>1</td>\n",
       "      <td>11.95</td>\n",
       "      <td>2019-01-16 06:07:00</td>\n",
       "      <td>931 Chestnut St, Boston, MA 02215</td>\n",
       "      <td>1</td>\n",
       "      <td>Boston</td>\n",
       "      <td>11.95</td>\n",
       "      <td>16</td>\n",
       "    </tr>\n",
       "    <tr>\n",
       "      <th>77077</th>\n",
       "      <td>150315</td>\n",
       "      <td>Bose SoundSport Headphones</td>\n",
       "      <td>1</td>\n",
       "      <td>99.99</td>\n",
       "      <td>2019-01-16 12:22:00</td>\n",
       "      <td>792 4th St, Boston, MA 02215</td>\n",
       "      <td>1</td>\n",
       "      <td>Boston</td>\n",
       "      <td>99.99</td>\n",
       "      <td>16</td>\n",
       "    </tr>\n",
       "    <tr>\n",
       "      <th>77078</th>\n",
       "      <td>150316</td>\n",
       "      <td>AA Batteries (4-pack)</td>\n",
       "      <td>2</td>\n",
       "      <td>3.84</td>\n",
       "      <td>2019-01-16 16:57:00</td>\n",
       "      <td>67 Dogwood St, Boston, MA 02215</td>\n",
       "      <td>1</td>\n",
       "      <td>Boston</td>\n",
       "      <td>7.68</td>\n",
       "      <td>16</td>\n",
       "    </tr>\n",
       "  </tbody>\n",
       "</table>\n",
       "</div>"
      ],
      "text/plain": [
       "       order_id                     Product  quantity_ordered  price_each  \\\n",
       "67739    141422    Apple Airpods Headphones                 1      150.00   \n",
       "67986    141662      AAA Batteries (4-pack)                 1        2.99   \n",
       "67990    141666       AA Batteries (4-pack)                 2        3.84   \n",
       "68290    141951             ThinkPad Laptop                 1      999.99   \n",
       "68543    142185  Bose SoundSport Headphones                 1       99.99   \n",
       "68684    142317               Flatscreen TV                 1      300.00   \n",
       "69184    142792      34in Ultrawide Monitor                 1      379.99   \n",
       "69214    142821        USB-C Charging Cable                 2       11.95   \n",
       "69251    142854        USB-C Charging Cable                 1       11.95   \n",
       "69477    143066        USB-C Charging Cable                 1       11.95   \n",
       "70197    143744        USB-C Charging Cable                 2       11.95   \n",
       "70760    144287            Wired Headphones                 1       11.99   \n",
       "70875    144398      34in Ultrawide Monitor                 1      379.99   \n",
       "70994    144511       AA Batteries (4-pack)                 1        3.84   \n",
       "71117    144623        USB-C Charging Cable                 1       11.95   \n",
       "71283    144779  Bose SoundSport Headphones                 1       99.99   \n",
       "71308    144802            27in FHD Monitor                 1      149.99   \n",
       "71367    144855        USB-C Charging Cable                 1       11.95   \n",
       "71745    145211      AAA Batteries (4-pack)                 4        2.99   \n",
       "72119    145578  Bose SoundSport Headphones                 1       99.99   \n",
       "72856    146280  Bose SoundSport Headphones                 1       99.99   \n",
       "73103    146519    Apple Airpods Headphones                 1      150.00   \n",
       "73492    146892            27in FHD Monitor                 1      149.99   \n",
       "73664    147054    Apple Airpods Headphones                 1      150.00   \n",
       "73695    147084                      iPhone                 1      700.00   \n",
       "74560    147905    Lightning Charging Cable                 1       14.95   \n",
       "74569    147913      AAA Batteries (4-pack)                 2        2.99   \n",
       "74627    147970    Apple Airpods Headphones                 1      150.00   \n",
       "74652    147994      27in 4K Gaming Monitor                 1      389.99   \n",
       "75579    148892       AA Batteries (4-pack)                 2        3.84   \n",
       "76320    149595        USB-C Charging Cable                 1       11.95   \n",
       "76756    150010            27in FHD Monitor                 1      149.99   \n",
       "76822    150071        USB-C Charging Cable                 1       11.95   \n",
       "77077    150315  Bose SoundSport Headphones                 1       99.99   \n",
       "77078    150316       AA Batteries (4-pack)                 2        3.84   \n",
       "\n",
       "               order_date                    purchase_address  Month    City  \\\n",
       "67739 2019-01-16 22:23:00   970 Lakeview St, Boston, MA 02215      1  Boston   \n",
       "67986 2019-01-16 13:06:00  106 Jefferson St, Boston, MA 02215      1  Boston   \n",
       "67990 2019-01-16 16:22:00      956 Adams St, Boston, MA 02215      1  Boston   \n",
       "68290 2019-01-16 06:54:00       489 12th St, Boston, MA 02215      1  Boston   \n",
       "68543 2019-01-16 14:02:00       208 West St, Boston, MA 02215      1  Boston   \n",
       "68684 2019-01-16 11:01:00        885 9th St, Boston, MA 02215      1  Boston   \n",
       "69184 2019-01-16 08:31:00      387 Maple St, Boston, MA 02215      1  Boston   \n",
       "69214 2019-01-16 20:53:00        37 West St, Boston, MA 02215      1  Boston   \n",
       "69251 2019-01-16 13:27:00   328 Lakeview St, Boston, MA 02215      1  Boston   \n",
       "69477 2019-01-16 23:13:00        855 2nd St, Boston, MA 02215      1  Boston   \n",
       "70197 2019-01-16 11:38:00        1 South St, Boston, MA 02215      1  Boston   \n",
       "70760 2019-01-16 09:45:00      951 Adams St, Boston, MA 02215      1  Boston   \n",
       "70875 2019-01-16 08:32:00     824 Forest St, Boston, MA 02215      1  Boston   \n",
       "70994 2019-01-16 20:02:00   331 Chestnut St, Boston, MA 02215      1  Boston   \n",
       "71117 2019-01-16 17:01:00    168 Dogwood St, Boston, MA 02215      1  Boston   \n",
       "71283 2019-01-16 13:26:00        339 1st St, Boston, MA 02215      1  Boston   \n",
       "71308 2019-01-16 12:18:00       333 Hill St, Boston, MA 02215      1  Boston   \n",
       "71367 2019-01-16 16:23:00    968 Jackson St, Boston, MA 02215      1  Boston   \n",
       "71745 2019-01-16 09:13:00       761 West St, Boston, MA 02215      1  Boston   \n",
       "72119 2019-01-16 15:01:00       5 Spruce St, Boston, MA 02215      1  Boston   \n",
       "72856 2019-01-16 08:28:00     937 Meadow St, Boston, MA 02215      1  Boston   \n",
       "73103 2019-01-16 14:24:00        392 2nd St, Boston, MA 02215      1  Boston   \n",
       "73492 2019-01-16 21:52:00       170 Park St, Boston, MA 02215      1  Boston   \n",
       "73664 2019-01-16 07:58:00    685 Jackson St, Boston, MA 02215      1  Boston   \n",
       "73695 2019-01-16 11:44:00     305 Spruce St, Boston, MA 02215      1  Boston   \n",
       "74560 2019-01-16 21:56:00       436 12th St, Boston, MA 02215      1  Boston   \n",
       "74569 2019-01-16 20:49:00      32 Center St, Boston, MA 02215      1  Boston   \n",
       "74627 2019-01-16 12:27:00       256 Park St, Boston, MA 02215      1  Boston   \n",
       "74652 2019-01-16 09:08:00        871 1st St, Boston, MA 02215      1  Boston   \n",
       "75579 2019-01-16 18:13:00     924 Spruce St, Boston, MA 02215      1  Boston   \n",
       "76320 2019-01-16 13:12:00    328 Lincoln St, Boston, MA 02215      1  Boston   \n",
       "76756 2019-01-16 14:45:00    914 Madison St, Boston, MA 02215      1  Boston   \n",
       "76822 2019-01-16 06:07:00   931 Chestnut St, Boston, MA 02215      1  Boston   \n",
       "77077 2019-01-16 12:22:00        792 4th St, Boston, MA 02215      1  Boston   \n",
       "77078 2019-01-16 16:57:00     67 Dogwood St, Boston, MA 02215      1  Boston   \n",
       "\n",
       "          Sum  Day  \n",
       "67739  150.00   16  \n",
       "67986    2.99   16  \n",
       "67990    7.68   16  \n",
       "68290  999.99   16  \n",
       "68543   99.99   16  \n",
       "68684  300.00   16  \n",
       "69184  379.99   16  \n",
       "69214   23.90   16  \n",
       "69251   11.95   16  \n",
       "69477   11.95   16  \n",
       "70197   23.90   16  \n",
       "70760   11.99   16  \n",
       "70875  379.99   16  \n",
       "70994    3.84   16  \n",
       "71117   11.95   16  \n",
       "71283   99.99   16  \n",
       "71308  149.99   16  \n",
       "71367   11.95   16  \n",
       "71745   11.96   16  \n",
       "72119   99.99   16  \n",
       "72856   99.99   16  \n",
       "73103  150.00   16  \n",
       "73492  149.99   16  \n",
       "73664  150.00   16  \n",
       "73695  700.00   16  \n",
       "74560   14.95   16  \n",
       "74569    5.98   16  \n",
       "74627  150.00   16  \n",
       "74652  389.99   16  \n",
       "75579    7.68   16  \n",
       "76320   11.95   16  \n",
       "76756  149.99   16  \n",
       "76822   11.95   16  \n",
       "77077   99.99   16  \n",
       "77078    7.68   16  "
      ]
     },
     "execution_count": 116,
     "metadata": {},
     "output_type": "execute_result"
    }
   ],
   "source": [
    "sales[(sales['Day'] == 16 )& (sales['Month']== 1) &(sales['City'] == 'Boston') ]"
   ]
  },
  {
   "cell_type": "code",
   "execution_count": 117,
   "id": "seasonal-married",
   "metadata": {},
   "outputs": [
    {
     "data": {
      "text/html": [
       "<div>\n",
       "<style scoped>\n",
       "    .dataframe tbody tr th:only-of-type {\n",
       "        vertical-align: middle;\n",
       "    }\n",
       "\n",
       "    .dataframe tbody tr th {\n",
       "        vertical-align: top;\n",
       "    }\n",
       "\n",
       "    .dataframe thead th {\n",
       "        text-align: right;\n",
       "    }\n",
       "</style>\n",
       "<table border=\"1\" class=\"dataframe\">\n",
       "  <thead>\n",
       "    <tr style=\"text-align: right;\">\n",
       "      <th></th>\n",
       "      <th>order_id</th>\n",
       "      <th>Product</th>\n",
       "      <th>quantity_ordered</th>\n",
       "      <th>price_each</th>\n",
       "      <th>order_date</th>\n",
       "      <th>purchase_address</th>\n",
       "      <th>Month</th>\n",
       "      <th>City</th>\n",
       "      <th>Sum</th>\n",
       "      <th>Day</th>\n",
       "    </tr>\n",
       "  </thead>\n",
       "  <tbody>\n",
       "    <tr>\n",
       "      <th>0</th>\n",
       "      <td>176558</td>\n",
       "      <td>USB-C Charging Cable</td>\n",
       "      <td>2</td>\n",
       "      <td>11.95</td>\n",
       "      <td>2019-04-19 08:46:00</td>\n",
       "      <td>917 1st St, Dallas, TX 75001</td>\n",
       "      <td>4</td>\n",
       "      <td>Dallas</td>\n",
       "      <td>23.9</td>\n",
       "      <td>19</td>\n",
       "    </tr>\n",
       "  </tbody>\n",
       "</table>\n",
       "</div>"
      ],
      "text/plain": [
       "   order_id               Product  quantity_ordered  price_each  \\\n",
       "0    176558  USB-C Charging Cable                 2       11.95   \n",
       "\n",
       "           order_date              purchase_address  Month    City   Sum  Day  \n",
       "0 2019-04-19 08:46:00  917 1st St, Dallas, TX 75001      4  Dallas  23.9   19  "
      ]
     },
     "execution_count": 117,
     "metadata": {},
     "output_type": "execute_result"
    }
   ],
   "source": [
    "sales.head(1)"
   ]
  },
  {
   "cell_type": "code",
   "execution_count": 118,
   "id": "attractive-treasurer",
   "metadata": {},
   "outputs": [],
   "source": [
    "sales['Time']=sales['order_date'].dt.hour "
   ]
  },
  {
   "cell_type": "code",
   "execution_count": 119,
   "id": "knowing-childhood",
   "metadata": {},
   "outputs": [
    {
     "data": {
      "text/html": [
       "<div>\n",
       "<style scoped>\n",
       "    .dataframe tbody tr th:only-of-type {\n",
       "        vertical-align: middle;\n",
       "    }\n",
       "\n",
       "    .dataframe tbody tr th {\n",
       "        vertical-align: top;\n",
       "    }\n",
       "\n",
       "    .dataframe thead th {\n",
       "        text-align: right;\n",
       "    }\n",
       "</style>\n",
       "<table border=\"1\" class=\"dataframe\">\n",
       "  <thead>\n",
       "    <tr style=\"text-align: right;\">\n",
       "      <th></th>\n",
       "      <th>order_id</th>\n",
       "      <th>Product</th>\n",
       "      <th>quantity_ordered</th>\n",
       "      <th>price_each</th>\n",
       "      <th>order_date</th>\n",
       "      <th>purchase_address</th>\n",
       "      <th>Month</th>\n",
       "      <th>City</th>\n",
       "      <th>Sum</th>\n",
       "      <th>Day</th>\n",
       "      <th>Time</th>\n",
       "    </tr>\n",
       "  </thead>\n",
       "  <tbody>\n",
       "    <tr>\n",
       "      <th>0</th>\n",
       "      <td>176558</td>\n",
       "      <td>USB-C Charging Cable</td>\n",
       "      <td>2</td>\n",
       "      <td>11.95</td>\n",
       "      <td>2019-04-19 08:46:00</td>\n",
       "      <td>917 1st St, Dallas, TX 75001</td>\n",
       "      <td>4</td>\n",
       "      <td>Dallas</td>\n",
       "      <td>23.9</td>\n",
       "      <td>19</td>\n",
       "      <td>8</td>\n",
       "    </tr>\n",
       "  </tbody>\n",
       "</table>\n",
       "</div>"
      ],
      "text/plain": [
       "   order_id               Product  quantity_ordered  price_each  \\\n",
       "0    176558  USB-C Charging Cable                 2       11.95   \n",
       "\n",
       "           order_date              purchase_address  Month    City   Sum  Day  \\\n",
       "0 2019-04-19 08:46:00  917 1st St, Dallas, TX 75001      4  Dallas  23.9   19   \n",
       "\n",
       "   Time  \n",
       "0     8  "
      ]
     },
     "execution_count": 119,
     "metadata": {},
     "output_type": "execute_result"
    }
   ],
   "source": [
    "sales.head(1)"
   ]
  },
  {
   "cell_type": "code",
   "execution_count": 120,
   "id": "developing-hindu",
   "metadata": {},
   "outputs": [
    {
     "data": {
      "text/html": [
       "<div>\n",
       "<style scoped>\n",
       "    .dataframe tbody tr th:only-of-type {\n",
       "        vertical-align: middle;\n",
       "    }\n",
       "\n",
       "    .dataframe tbody tr th {\n",
       "        vertical-align: top;\n",
       "    }\n",
       "\n",
       "    .dataframe thead th {\n",
       "        text-align: right;\n",
       "    }\n",
       "</style>\n",
       "<table border=\"1\" class=\"dataframe\">\n",
       "  <thead>\n",
       "    <tr style=\"text-align: right;\">\n",
       "      <th></th>\n",
       "      <th>order_id</th>\n",
       "      <th>Product</th>\n",
       "      <th>quantity_ordered</th>\n",
       "      <th>price_each</th>\n",
       "      <th>order_date</th>\n",
       "      <th>purchase_address</th>\n",
       "      <th>Month</th>\n",
       "      <th>City</th>\n",
       "      <th>Sum</th>\n",
       "      <th>Day</th>\n",
       "      <th>Time</th>\n",
       "    </tr>\n",
       "  </thead>\n",
       "  <tbody>\n",
       "    <tr>\n",
       "      <th>1160</th>\n",
       "      <td>177660</td>\n",
       "      <td>27in 4K Gaming Monitor</td>\n",
       "      <td>1</td>\n",
       "      <td>389.99</td>\n",
       "      <td>2019-04-20 09:40:00</td>\n",
       "      <td>951 River St, San Francisco, CA 94016</td>\n",
       "      <td>4</td>\n",
       "      <td>San Francisco</td>\n",
       "      <td>389.99</td>\n",
       "      <td>20</td>\n",
       "      <td>9</td>\n",
       "    </tr>\n",
       "    <tr>\n",
       "      <th>1353</th>\n",
       "      <td>177843</td>\n",
       "      <td>Vareebadd Phone</td>\n",
       "      <td>1</td>\n",
       "      <td>400.00</td>\n",
       "      <td>2019-04-20 09:42:00</td>\n",
       "      <td>14 5th St, Los Angeles, CA 90001</td>\n",
       "      <td>4</td>\n",
       "      <td>Los Angeles</td>\n",
       "      <td>400.00</td>\n",
       "      <td>20</td>\n",
       "      <td>9</td>\n",
       "    </tr>\n",
       "    <tr>\n",
       "      <th>2000</th>\n",
       "      <td>178462</td>\n",
       "      <td>Flatscreen TV</td>\n",
       "      <td>1</td>\n",
       "      <td>300.00</td>\n",
       "      <td>2019-04-20 09:47:00</td>\n",
       "      <td>553 Hickory St, San Francisco, CA 94016</td>\n",
       "      <td>4</td>\n",
       "      <td>San Francisco</td>\n",
       "      <td>300.00</td>\n",
       "      <td>20</td>\n",
       "      <td>9</td>\n",
       "    </tr>\n",
       "    <tr>\n",
       "      <th>2720</th>\n",
       "      <td>179163</td>\n",
       "      <td>AAA Batteries (4-pack)</td>\n",
       "      <td>1</td>\n",
       "      <td>2.99</td>\n",
       "      <td>2019-04-20 09:33:00</td>\n",
       "      <td>669 Maple St, New York City, NY 10001</td>\n",
       "      <td>4</td>\n",
       "      <td>New York City</td>\n",
       "      <td>2.99</td>\n",
       "      <td>20</td>\n",
       "      <td>9</td>\n",
       "    </tr>\n",
       "    <tr>\n",
       "      <th>3410</th>\n",
       "      <td>179826</td>\n",
       "      <td>AAA Batteries (4-pack)</td>\n",
       "      <td>1</td>\n",
       "      <td>2.99</td>\n",
       "      <td>2019-04-20 09:06:00</td>\n",
       "      <td>922 10th St, Boston, MA 02215</td>\n",
       "      <td>4</td>\n",
       "      <td>Boston</td>\n",
       "      <td>2.99</td>\n",
       "      <td>20</td>\n",
       "      <td>9</td>\n",
       "    </tr>\n",
       "    <tr>\n",
       "      <th>...</th>\n",
       "      <td>...</td>\n",
       "      <td>...</td>\n",
       "      <td>...</td>\n",
       "      <td>...</td>\n",
       "      <td>...</td>\n",
       "      <td>...</td>\n",
       "      <td>...</td>\n",
       "      <td>...</td>\n",
       "      <td>...</td>\n",
       "      <td>...</td>\n",
       "      <td>...</td>\n",
       "    </tr>\n",
       "    <tr>\n",
       "      <th>184247</th>\n",
       "      <td>256867</td>\n",
       "      <td>Lightning Charging Cable</td>\n",
       "      <td>1</td>\n",
       "      <td>14.95</td>\n",
       "      <td>2019-09-20 09:38:00</td>\n",
       "      <td>787 Sunset St, Dallas, TX 75001</td>\n",
       "      <td>9</td>\n",
       "      <td>Dallas</td>\n",
       "      <td>14.95</td>\n",
       "      <td>20</td>\n",
       "      <td>9</td>\n",
       "    </tr>\n",
       "    <tr>\n",
       "      <th>184248</th>\n",
       "      <td>256867</td>\n",
       "      <td>ThinkPad Laptop</td>\n",
       "      <td>1</td>\n",
       "      <td>999.99</td>\n",
       "      <td>2019-09-20 09:38:00</td>\n",
       "      <td>787 Sunset St, Dallas, TX 75001</td>\n",
       "      <td>9</td>\n",
       "      <td>Dallas</td>\n",
       "      <td>999.99</td>\n",
       "      <td>20</td>\n",
       "      <td>9</td>\n",
       "    </tr>\n",
       "    <tr>\n",
       "      <th>184424</th>\n",
       "      <td>257037</td>\n",
       "      <td>Lightning Charging Cable</td>\n",
       "      <td>1</td>\n",
       "      <td>14.95</td>\n",
       "      <td>2019-09-20 09:45:00</td>\n",
       "      <td>929 12th St, Dallas, TX 75001</td>\n",
       "      <td>9</td>\n",
       "      <td>Dallas</td>\n",
       "      <td>14.95</td>\n",
       "      <td>20</td>\n",
       "      <td>9</td>\n",
       "    </tr>\n",
       "    <tr>\n",
       "      <th>185476</th>\n",
       "      <td>258044</td>\n",
       "      <td>AA Batteries (4-pack)</td>\n",
       "      <td>1</td>\n",
       "      <td>3.84</td>\n",
       "      <td>2019-09-20 09:59:00</td>\n",
       "      <td>640 Forest St, New York City, NY 10001</td>\n",
       "      <td>9</td>\n",
       "      <td>New York City</td>\n",
       "      <td>3.84</td>\n",
       "      <td>20</td>\n",
       "      <td>9</td>\n",
       "    </tr>\n",
       "    <tr>\n",
       "      <th>186204</th>\n",
       "      <td>258745</td>\n",
       "      <td>AAA Batteries (4-pack)</td>\n",
       "      <td>1</td>\n",
       "      <td>2.99</td>\n",
       "      <td>2019-09-20 09:36:00</td>\n",
       "      <td>560 13th St, San Francisco, CA 94016</td>\n",
       "      <td>9</td>\n",
       "      <td>San Francisco</td>\n",
       "      <td>2.99</td>\n",
       "      <td>20</td>\n",
       "      <td>9</td>\n",
       "    </tr>\n",
       "  </tbody>\n",
       "</table>\n",
       "<p>319 rows × 11 columns</p>\n",
       "</div>"
      ],
      "text/plain": [
       "        order_id                   Product  quantity_ordered  price_each  \\\n",
       "1160      177660    27in 4K Gaming Monitor                 1      389.99   \n",
       "1353      177843           Vareebadd Phone                 1      400.00   \n",
       "2000      178462             Flatscreen TV                 1      300.00   \n",
       "2720      179163    AAA Batteries (4-pack)                 1        2.99   \n",
       "3410      179826    AAA Batteries (4-pack)                 1        2.99   \n",
       "...          ...                       ...               ...         ...   \n",
       "184247    256867  Lightning Charging Cable                 1       14.95   \n",
       "184248    256867           ThinkPad Laptop                 1      999.99   \n",
       "184424    257037  Lightning Charging Cable                 1       14.95   \n",
       "185476    258044     AA Batteries (4-pack)                 1        3.84   \n",
       "186204    258745    AAA Batteries (4-pack)                 1        2.99   \n",
       "\n",
       "                order_date                         purchase_address  Month  \\\n",
       "1160   2019-04-20 09:40:00    951 River St, San Francisco, CA 94016      4   \n",
       "1353   2019-04-20 09:42:00         14 5th St, Los Angeles, CA 90001      4   \n",
       "2000   2019-04-20 09:47:00  553 Hickory St, San Francisco, CA 94016      4   \n",
       "2720   2019-04-20 09:33:00    669 Maple St, New York City, NY 10001      4   \n",
       "3410   2019-04-20 09:06:00            922 10th St, Boston, MA 02215      4   \n",
       "...                    ...                                      ...    ...   \n",
       "184247 2019-09-20 09:38:00          787 Sunset St, Dallas, TX 75001      9   \n",
       "184248 2019-09-20 09:38:00          787 Sunset St, Dallas, TX 75001      9   \n",
       "184424 2019-09-20 09:45:00            929 12th St, Dallas, TX 75001      9   \n",
       "185476 2019-09-20 09:59:00   640 Forest St, New York City, NY 10001      9   \n",
       "186204 2019-09-20 09:36:00     560 13th St, San Francisco, CA 94016      9   \n",
       "\n",
       "                 City     Sum  Day  Time  \n",
       "1160    San Francisco  389.99   20     9  \n",
       "1353      Los Angeles  400.00   20     9  \n",
       "2000    San Francisco  300.00   20     9  \n",
       "2720    New York City    2.99   20     9  \n",
       "3410           Boston    2.99   20     9  \n",
       "...               ...     ...  ...   ...  \n",
       "184247         Dallas   14.95   20     9  \n",
       "184248         Dallas  999.99   20     9  \n",
       "184424         Dallas   14.95   20     9  \n",
       "185476  New York City    3.84   20     9  \n",
       "186204  San Francisco    2.99   20     9  \n",
       "\n",
       "[319 rows x 11 columns]"
      ]
     },
     "execution_count": 120,
     "metadata": {},
     "output_type": "execute_result"
    }
   ],
   "source": [
    "sales[(sales['Time'] == 9) &(sales['Day'] == 20)]"
   ]
  },
  {
   "cell_type": "code",
   "execution_count": null,
   "id": "acceptable-average",
   "metadata": {},
   "outputs": [],
   "source": []
  }
 ],
 "metadata": {
  "kernelspec": {
   "display_name": "Python 3",
   "language": "python",
   "name": "python3"
  },
  "language_info": {
   "codemirror_mode": {
    "name": "ipython",
    "version": 3
   },
   "file_extension": ".py",
   "mimetype": "text/x-python",
   "name": "python",
   "nbconvert_exporter": "python",
   "pygments_lexer": "ipython3",
   "version": "3.9.1"
  }
 },
 "nbformat": 4,
 "nbformat_minor": 5
}
