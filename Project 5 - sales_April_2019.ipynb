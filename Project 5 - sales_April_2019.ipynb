{
 "cells": [
  {
   "cell_type": "code",
   "execution_count": 1,
   "id": "employed-joshua",
   "metadata": {},
   "outputs": [],
   "source": [
    "import pandas as pd"
   ]
  },
  {
   "cell_type": "code",
   "execution_count": 2,
   "id": "wrong-player",
   "metadata": {},
   "outputs": [],
   "source": [
    "pd.options.mode.chained_assignment= None"
   ]
  },
  {
   "cell_type": "code",
   "execution_count": 3,
   "id": "acknowledged-stable",
   "metadata": {},
   "outputs": [],
   "source": [
    "# pd.options.display.max_rows = 18400"
   ]
  },
  {
   "cell_type": "code",
   "execution_count": 4,
   "id": "heated-sheriff",
   "metadata": {},
   "outputs": [],
   "source": [
    "sales= pd.read_csv('Sales_April_2019.csv')"
   ]
  },
  {
   "cell_type": "code",
   "execution_count": 5,
   "id": "corrected-blind",
   "metadata": {},
   "outputs": [
    {
     "data": {
      "text/html": [
       "<div>\n",
       "<style scoped>\n",
       "    .dataframe tbody tr th:only-of-type {\n",
       "        vertical-align: middle;\n",
       "    }\n",
       "\n",
       "    .dataframe tbody tr th {\n",
       "        vertical-align: top;\n",
       "    }\n",
       "\n",
       "    .dataframe thead th {\n",
       "        text-align: right;\n",
       "    }\n",
       "</style>\n",
       "<table border=\"1\" class=\"dataframe\">\n",
       "  <thead>\n",
       "    <tr style=\"text-align: right;\">\n",
       "      <th></th>\n",
       "      <th>Order ID</th>\n",
       "      <th>Product</th>\n",
       "      <th>Quantity Ordered</th>\n",
       "      <th>Price Each</th>\n",
       "      <th>Order Date</th>\n",
       "      <th>Purchase Address</th>\n",
       "    </tr>\n",
       "  </thead>\n",
       "  <tbody>\n",
       "    <tr>\n",
       "      <th>0</th>\n",
       "      <td>176558</td>\n",
       "      <td>USB-C Charging Cable</td>\n",
       "      <td>2</td>\n",
       "      <td>11.95</td>\n",
       "      <td>4/19/2019 8:46</td>\n",
       "      <td>917 1st St, Dallas, TX 75001</td>\n",
       "    </tr>\n",
       "    <tr>\n",
       "      <th>1</th>\n",
       "      <td>NaN</td>\n",
       "      <td>NaN</td>\n",
       "      <td>NaN</td>\n",
       "      <td>NaN</td>\n",
       "      <td>NaN</td>\n",
       "      <td>NaN</td>\n",
       "    </tr>\n",
       "  </tbody>\n",
       "</table>\n",
       "</div>"
      ],
      "text/plain": [
       "  Order ID               Product Quantity Ordered Price Each      Order Date  \\\n",
       "0   176558  USB-C Charging Cable                2      11.95  4/19/2019 8:46   \n",
       "1      NaN                   NaN              NaN        NaN             NaN   \n",
       "\n",
       "               Purchase Address  \n",
       "0  917 1st St, Dallas, TX 75001  \n",
       "1                           NaN  "
      ]
     },
     "execution_count": 5,
     "metadata": {},
     "output_type": "execute_result"
    }
   ],
   "source": [
    "sales.head(2)"
   ]
  },
  {
   "cell_type": "code",
   "execution_count": 6,
   "id": "danish-geography",
   "metadata": {},
   "outputs": [
    {
     "data": {
      "text/plain": [
       "(18383, 6)"
      ]
     },
     "execution_count": 6,
     "metadata": {},
     "output_type": "execute_result"
    }
   ],
   "source": [
    "sales.shape"
   ]
  },
  {
   "cell_type": "code",
   "execution_count": 7,
   "id": "freelance-reform",
   "metadata": {},
   "outputs": [
    {
     "name": "stdout",
     "output_type": "stream",
     "text": [
      "<class 'pandas.core.frame.DataFrame'>\n",
      "RangeIndex: 18383 entries, 0 to 18382\n",
      "Data columns (total 6 columns):\n",
      " #   Column            Non-Null Count  Dtype \n",
      "---  ------            --------------  ----- \n",
      " 0   Order ID          18324 non-null  object\n",
      " 1   Product           18324 non-null  object\n",
      " 2   Quantity Ordered  18324 non-null  object\n",
      " 3   Price Each        18324 non-null  object\n",
      " 4   Order Date        18324 non-null  object\n",
      " 5   Purchase Address  18324 non-null  object\n",
      "dtypes: object(6)\n",
      "memory usage: 861.8+ KB\n"
     ]
    }
   ],
   "source": [
    "sales.info()"
   ]
  },
  {
   "cell_type": "code",
   "execution_count": 8,
   "id": "grave-johnston",
   "metadata": {},
   "outputs": [
    {
     "data": {
      "text/html": [
       "<div>\n",
       "<style scoped>\n",
       "    .dataframe tbody tr th:only-of-type {\n",
       "        vertical-align: middle;\n",
       "    }\n",
       "\n",
       "    .dataframe tbody tr th {\n",
       "        vertical-align: top;\n",
       "    }\n",
       "\n",
       "    .dataframe thead th {\n",
       "        text-align: right;\n",
       "    }\n",
       "</style>\n",
       "<table border=\"1\" class=\"dataframe\">\n",
       "  <thead>\n",
       "    <tr style=\"text-align: right;\">\n",
       "      <th></th>\n",
       "      <th>Order ID</th>\n",
       "      <th>Product</th>\n",
       "      <th>Quantity Ordered</th>\n",
       "      <th>Price Each</th>\n",
       "      <th>Order Date</th>\n",
       "      <th>Purchase Address</th>\n",
       "    </tr>\n",
       "  </thead>\n",
       "  <tbody>\n",
       "    <tr>\n",
       "      <th>count</th>\n",
       "      <td>18324</td>\n",
       "      <td>18324</td>\n",
       "      <td>18324</td>\n",
       "      <td>18324</td>\n",
       "      <td>18324</td>\n",
       "      <td>18324</td>\n",
       "    </tr>\n",
       "    <tr>\n",
       "      <th>unique</th>\n",
       "      <td>17538</td>\n",
       "      <td>20</td>\n",
       "      <td>8</td>\n",
       "      <td>18</td>\n",
       "      <td>13584</td>\n",
       "      <td>17120</td>\n",
       "    </tr>\n",
       "    <tr>\n",
       "      <th>top</th>\n",
       "      <td>Order ID</td>\n",
       "      <td>Lightning Charging Cable</td>\n",
       "      <td>1</td>\n",
       "      <td>14.95</td>\n",
       "      <td>Order Date</td>\n",
       "      <td>Purchase Address</td>\n",
       "    </tr>\n",
       "    <tr>\n",
       "      <th>freq</th>\n",
       "      <td>35</td>\n",
       "      <td>2201</td>\n",
       "      <td>16558</td>\n",
       "      <td>2201</td>\n",
       "      <td>35</td>\n",
       "      <td>35</td>\n",
       "    </tr>\n",
       "  </tbody>\n",
       "</table>\n",
       "</div>"
      ],
      "text/plain": [
       "        Order ID                   Product Quantity Ordered Price Each  \\\n",
       "count      18324                     18324            18324      18324   \n",
       "unique     17538                        20                8         18   \n",
       "top     Order ID  Lightning Charging Cable                1      14.95   \n",
       "freq          35                      2201            16558       2201   \n",
       "\n",
       "        Order Date  Purchase Address  \n",
       "count        18324             18324  \n",
       "unique       13584             17120  \n",
       "top     Order Date  Purchase Address  \n",
       "freq            35                35  "
      ]
     },
     "execution_count": 8,
     "metadata": {},
     "output_type": "execute_result"
    }
   ],
   "source": [
    "sales.describe()"
   ]
  },
  {
   "cell_type": "code",
   "execution_count": 9,
   "id": "moved-situation",
   "metadata": {},
   "outputs": [
    {
     "data": {
      "text/plain": [
       "Order ID            18324\n",
       "Product             18324\n",
       "Quantity Ordered    18324\n",
       "Price Each          18324\n",
       "Order Date          18324\n",
       "Purchase Address    18324\n",
       "dtype: int64"
      ]
     },
     "execution_count": 9,
     "metadata": {},
     "output_type": "execute_result"
    }
   ],
   "source": [
    "sales.count()"
   ]
  },
  {
   "cell_type": "code",
   "execution_count": 10,
   "id": "proud-priority",
   "metadata": {},
   "outputs": [
    {
     "data": {
      "text/plain": [
       "Order ID            59\n",
       "Product             59\n",
       "Quantity Ordered    59\n",
       "Price Each          59\n",
       "Order Date          59\n",
       "Purchase Address    59\n",
       "dtype: int64"
      ]
     },
     "execution_count": 10,
     "metadata": {},
     "output_type": "execute_result"
    }
   ],
   "source": [
    "sales.isnull().sum()"
   ]
  },
  {
   "cell_type": "code",
   "execution_count": 11,
   "id": "interested-transition",
   "metadata": {},
   "outputs": [],
   "source": [
    "sales.dropna(inplace=True)"
   ]
  },
  {
   "cell_type": "code",
   "execution_count": 12,
   "id": "confirmed-emergency",
   "metadata": {},
   "outputs": [
    {
     "data": {
      "text/plain": [
       "Order ID            0\n",
       "Product             0\n",
       "Quantity Ordered    0\n",
       "Price Each          0\n",
       "Order Date          0\n",
       "Purchase Address    0\n",
       "dtype: int64"
      ]
     },
     "execution_count": 12,
     "metadata": {},
     "output_type": "execute_result"
    }
   ],
   "source": [
    "sales.isnull().sum()"
   ]
  },
  {
   "cell_type": "code",
   "execution_count": 13,
   "id": "documented-character",
   "metadata": {},
   "outputs": [
    {
     "data": {
      "text/plain": [
       "(18324, 6)"
      ]
     },
     "execution_count": 13,
     "metadata": {},
     "output_type": "execute_result"
    }
   ],
   "source": [
    "sales.shape"
   ]
  },
  {
   "cell_type": "code",
   "execution_count": 14,
   "id": "familiar-letter",
   "metadata": {},
   "outputs": [
    {
     "data": {
      "text/html": [
       "<div>\n",
       "<style scoped>\n",
       "    .dataframe tbody tr th:only-of-type {\n",
       "        vertical-align: middle;\n",
       "    }\n",
       "\n",
       "    .dataframe tbody tr th {\n",
       "        vertical-align: top;\n",
       "    }\n",
       "\n",
       "    .dataframe thead th {\n",
       "        text-align: right;\n",
       "    }\n",
       "</style>\n",
       "<table border=\"1\" class=\"dataframe\">\n",
       "  <thead>\n",
       "    <tr style=\"text-align: right;\">\n",
       "      <th></th>\n",
       "      <th>Order ID</th>\n",
       "      <th>Product</th>\n",
       "      <th>Quantity Ordered</th>\n",
       "      <th>Price Each</th>\n",
       "      <th>Order Date</th>\n",
       "      <th>Purchase Address</th>\n",
       "    </tr>\n",
       "  </thead>\n",
       "  <tbody>\n",
       "    <tr>\n",
       "      <th>0</th>\n",
       "      <td>176558</td>\n",
       "      <td>USB-C Charging Cable</td>\n",
       "      <td>2</td>\n",
       "      <td>11.95</td>\n",
       "      <td>4/19/2019 8:46</td>\n",
       "      <td>917 1st St, Dallas, TX 75001</td>\n",
       "    </tr>\n",
       "    <tr>\n",
       "      <th>2</th>\n",
       "      <td>176559</td>\n",
       "      <td>Bose SoundSport Headphones</td>\n",
       "      <td>1</td>\n",
       "      <td>99.99</td>\n",
       "      <td>4/7/2019 22:30</td>\n",
       "      <td>682 Chestnut St, Boston, MA 02215</td>\n",
       "    </tr>\n",
       "  </tbody>\n",
       "</table>\n",
       "</div>"
      ],
      "text/plain": [
       "  Order ID                     Product Quantity Ordered Price Each  \\\n",
       "0   176558        USB-C Charging Cable                2      11.95   \n",
       "2   176559  Bose SoundSport Headphones                1      99.99   \n",
       "\n",
       "       Order Date                   Purchase Address  \n",
       "0  4/19/2019 8:46       917 1st St, Dallas, TX 75001  \n",
       "2  4/7/2019 22:30  682 Chestnut St, Boston, MA 02215  "
      ]
     },
     "execution_count": 14,
     "metadata": {},
     "output_type": "execute_result"
    }
   ],
   "source": [
    "sales.head(2)"
   ]
  },
  {
   "cell_type": "markdown",
   "id": "ancient-numbers",
   "metadata": {},
   "source": [
    "### Order ID"
   ]
  },
  {
   "cell_type": "code",
   "execution_count": 15,
   "id": "prime-rates",
   "metadata": {},
   "outputs": [],
   "source": [
    "# sales.Order ID.value_counts()"
   ]
  },
  {
   "cell_type": "code",
   "execution_count": 16,
   "id": "quarterly-associate",
   "metadata": {},
   "outputs": [],
   "source": [
    "sales.rename(columns={'Order ID' : 'Order_ID'},inplace=True)"
   ]
  },
  {
   "cell_type": "code",
   "execution_count": 17,
   "id": "associate-justice",
   "metadata": {},
   "outputs": [
    {
     "data": {
      "text/plain": [
       "Order ID    35\n",
       "193511       4\n",
       "178158       4\n",
       "185452       3\n",
       "176797       3\n",
       "            ..\n",
       "193779       1\n",
       "191490       1\n",
       "180799       1\n",
       "177926       1\n",
       "177834       1\n",
       "Name: Order_ID, Length: 17538, dtype: int64"
      ]
     },
     "execution_count": 17,
     "metadata": {},
     "output_type": "execute_result"
    }
   ],
   "source": [
    "sales.Order_ID.value_counts(dropna=False)"
   ]
  },
  {
   "cell_type": "code",
   "execution_count": 18,
   "id": "experimental-commercial",
   "metadata": {},
   "outputs": [],
   "source": [
    "import numpy as np"
   ]
  },
  {
   "cell_type": "code",
   "execution_count": 19,
   "id": "knowing-pharmaceutical",
   "metadata": {},
   "outputs": [],
   "source": [
    "sales.Order_ID.replace(to_replace='Order ID',value=np.nan,inplace=True)"
   ]
  },
  {
   "cell_type": "code",
   "execution_count": 20,
   "id": "developmental-knife",
   "metadata": {},
   "outputs": [
    {
     "data": {
      "text/plain": [
       "NaN       35\n",
       "178158     4\n",
       "193511     4\n",
       "191433     3\n",
       "187636     3\n",
       "          ..\n",
       "184845     1\n",
       "182016     1\n",
       "193779     1\n",
       "191490     1\n",
       "177834     1\n",
       "Name: Order_ID, Length: 17538, dtype: int64"
      ]
     },
     "execution_count": 20,
     "metadata": {},
     "output_type": "execute_result"
    }
   ],
   "source": [
    "sales.Order_ID.value_counts(dropna=False)"
   ]
  },
  {
   "cell_type": "code",
   "execution_count": 21,
   "id": "curious-montana",
   "metadata": {},
   "outputs": [],
   "source": [
    "sales.dropna(inplace=True)"
   ]
  },
  {
   "cell_type": "code",
   "execution_count": 22,
   "id": "committed-haven",
   "metadata": {},
   "outputs": [
    {
     "data": {
      "text/plain": [
       "178158    4\n",
       "193511    4\n",
       "193961    3\n",
       "191963    3\n",
       "191193    3\n",
       "         ..\n",
       "182016    1\n",
       "193779    1\n",
       "191490    1\n",
       "180799    1\n",
       "177834    1\n",
       "Name: Order_ID, Length: 17537, dtype: int64"
      ]
     },
     "execution_count": 22,
     "metadata": {},
     "output_type": "execute_result"
    }
   ],
   "source": [
    "sales.Order_ID.value_counts(dropna=False)"
   ]
  },
  {
   "cell_type": "code",
   "execution_count": 23,
   "id": "minute-dublin",
   "metadata": {},
   "outputs": [
    {
     "name": "stdout",
     "output_type": "stream",
     "text": [
      "object\n"
     ]
    }
   ],
   "source": [
    "print(sales['Order_ID'].dtype)"
   ]
  },
  {
   "cell_type": "code",
   "execution_count": 24,
   "id": "banned-mozambique",
   "metadata": {},
   "outputs": [],
   "source": [
    "sales.Order_ID=pd.to_numeric(sales.Order_ID)"
   ]
  },
  {
   "cell_type": "code",
   "execution_count": 25,
   "id": "palestinian-booth",
   "metadata": {},
   "outputs": [
    {
     "name": "stdout",
     "output_type": "stream",
     "text": [
      "int64\n"
     ]
    }
   ],
   "source": [
    "print(sales['Order_ID'].dtype)"
   ]
  },
  {
   "cell_type": "code",
   "execution_count": 26,
   "id": "precise-tokyo",
   "metadata": {},
   "outputs": [
    {
     "data": {
      "text/html": [
       "<div>\n",
       "<style scoped>\n",
       "    .dataframe tbody tr th:only-of-type {\n",
       "        vertical-align: middle;\n",
       "    }\n",
       "\n",
       "    .dataframe tbody tr th {\n",
       "        vertical-align: top;\n",
       "    }\n",
       "\n",
       "    .dataframe thead th {\n",
       "        text-align: right;\n",
       "    }\n",
       "</style>\n",
       "<table border=\"1\" class=\"dataframe\">\n",
       "  <thead>\n",
       "    <tr style=\"text-align: right;\">\n",
       "      <th></th>\n",
       "      <th>Order_ID</th>\n",
       "      <th>Product</th>\n",
       "      <th>Quantity Ordered</th>\n",
       "      <th>Price Each</th>\n",
       "      <th>Order Date</th>\n",
       "      <th>Purchase Address</th>\n",
       "    </tr>\n",
       "  </thead>\n",
       "  <tbody>\n",
       "    <tr>\n",
       "      <th>0</th>\n",
       "      <td>176558</td>\n",
       "      <td>USB-C Charging Cable</td>\n",
       "      <td>2</td>\n",
       "      <td>11.95</td>\n",
       "      <td>4/19/2019 8:46</td>\n",
       "      <td>917 1st St, Dallas, TX 75001</td>\n",
       "    </tr>\n",
       "    <tr>\n",
       "      <th>2</th>\n",
       "      <td>176559</td>\n",
       "      <td>Bose SoundSport Headphones</td>\n",
       "      <td>1</td>\n",
       "      <td>99.99</td>\n",
       "      <td>4/7/2019 22:30</td>\n",
       "      <td>682 Chestnut St, Boston, MA 02215</td>\n",
       "    </tr>\n",
       "  </tbody>\n",
       "</table>\n",
       "</div>"
      ],
      "text/plain": [
       "   Order_ID                     Product Quantity Ordered Price Each  \\\n",
       "0    176558        USB-C Charging Cable                2      11.95   \n",
       "2    176559  Bose SoundSport Headphones                1      99.99   \n",
       "\n",
       "       Order Date                   Purchase Address  \n",
       "0  4/19/2019 8:46       917 1st St, Dallas, TX 75001  \n",
       "2  4/7/2019 22:30  682 Chestnut St, Boston, MA 02215  "
      ]
     },
     "execution_count": 26,
     "metadata": {},
     "output_type": "execute_result"
    }
   ],
   "source": [
    "sales.head(2)"
   ]
  },
  {
   "cell_type": "markdown",
   "id": "distant-estimate",
   "metadata": {},
   "source": [
    "### Product"
   ]
  },
  {
   "cell_type": "code",
   "execution_count": 27,
   "id": "celtic-accounting",
   "metadata": {},
   "outputs": [
    {
     "data": {
      "text/plain": [
       "Lightning Charging Cable      2201\n",
       "USB-C Charging Cable          2079\n",
       "AA Batteries (4-pack)         2063\n",
       "AAA Batteries (4-pack)        1989\n",
       "Wired Headphones              1890\n",
       "Apple Airpods Headphones      1515\n",
       "Bose SoundSport Headphones    1280\n",
       "27in FHD Monitor               734\n",
       "iPhone                         693\n",
       "34in Ultrawide Monitor         650\n",
       "Google Phone                   581\n",
       "27in 4K Gaming Monitor         563\n",
       "Flatscreen TV                  458\n",
       "Macbook Pro Laptop             453\n",
       "ThinkPad Laptop                392\n",
       "20in Monitor                   390\n",
       "Vareebadd Phone                220\n",
       "LG Dryer                        77\n",
       "LG Washing Machine              61\n",
       "Name: Product, dtype: int64"
      ]
     },
     "execution_count": 27,
     "metadata": {},
     "output_type": "execute_result"
    }
   ],
   "source": [
    "sales.Product.value_counts(dropna=False)"
   ]
  },
  {
   "cell_type": "code",
   "execution_count": 28,
   "id": "legitimate-punishment",
   "metadata": {},
   "outputs": [
    {
     "name": "stdout",
     "output_type": "stream",
     "text": [
      "object\n"
     ]
    }
   ],
   "source": [
    "print(sales['Product'].dtype)"
   ]
  },
  {
   "cell_type": "code",
   "execution_count": 29,
   "id": "brief-duncan",
   "metadata": {},
   "outputs": [
    {
     "data": {
      "text/plain": [
       "0"
      ]
     },
     "execution_count": 29,
     "metadata": {},
     "output_type": "execute_result"
    }
   ],
   "source": [
    "sales.iloc[:,1].isnull().sum()"
   ]
  },
  {
   "cell_type": "code",
   "execution_count": 30,
   "id": "missing-channels",
   "metadata": {},
   "outputs": [
    {
     "data": {
      "text/html": [
       "<div>\n",
       "<style scoped>\n",
       "    .dataframe tbody tr th:only-of-type {\n",
       "        vertical-align: middle;\n",
       "    }\n",
       "\n",
       "    .dataframe tbody tr th {\n",
       "        vertical-align: top;\n",
       "    }\n",
       "\n",
       "    .dataframe thead th {\n",
       "        text-align: right;\n",
       "    }\n",
       "</style>\n",
       "<table border=\"1\" class=\"dataframe\">\n",
       "  <thead>\n",
       "    <tr style=\"text-align: right;\">\n",
       "      <th></th>\n",
       "      <th>Order_ID</th>\n",
       "      <th>Product</th>\n",
       "      <th>Quantity Ordered</th>\n",
       "      <th>Price Each</th>\n",
       "      <th>Order Date</th>\n",
       "      <th>Purchase Address</th>\n",
       "    </tr>\n",
       "  </thead>\n",
       "  <tbody>\n",
       "    <tr>\n",
       "      <th>0</th>\n",
       "      <td>176558</td>\n",
       "      <td>USB-C Charging Cable</td>\n",
       "      <td>2</td>\n",
       "      <td>11.95</td>\n",
       "      <td>4/19/2019 8:46</td>\n",
       "      <td>917 1st St, Dallas, TX 75001</td>\n",
       "    </tr>\n",
       "    <tr>\n",
       "      <th>2</th>\n",
       "      <td>176559</td>\n",
       "      <td>Bose SoundSport Headphones</td>\n",
       "      <td>1</td>\n",
       "      <td>99.99</td>\n",
       "      <td>4/7/2019 22:30</td>\n",
       "      <td>682 Chestnut St, Boston, MA 02215</td>\n",
       "    </tr>\n",
       "  </tbody>\n",
       "</table>\n",
       "</div>"
      ],
      "text/plain": [
       "   Order_ID                     Product Quantity Ordered Price Each  \\\n",
       "0    176558        USB-C Charging Cable                2      11.95   \n",
       "2    176559  Bose SoundSport Headphones                1      99.99   \n",
       "\n",
       "       Order Date                   Purchase Address  \n",
       "0  4/19/2019 8:46       917 1st St, Dallas, TX 75001  \n",
       "2  4/7/2019 22:30  682 Chestnut St, Boston, MA 02215  "
      ]
     },
     "execution_count": 30,
     "metadata": {},
     "output_type": "execute_result"
    }
   ],
   "source": [
    "sales.head(2)"
   ]
  },
  {
   "cell_type": "markdown",
   "id": "downtown-society",
   "metadata": {},
   "source": [
    "### Quantity Ordered"
   ]
  },
  {
   "cell_type": "code",
   "execution_count": 31,
   "id": "aware-reward",
   "metadata": {},
   "outputs": [],
   "source": [
    "sales.rename(columns={'Quantity Ordered' : 'Quantity_Ordered'},inplace=True)"
   ]
  },
  {
   "cell_type": "code",
   "execution_count": 32,
   "id": "changed-korea",
   "metadata": {},
   "outputs": [
    {
     "data": {
      "text/plain": [
       "1    16558\n",
       "2     1328\n",
       "3      299\n",
       "4       72\n",
       "5       24\n",
       "6        7\n",
       "7        1\n",
       "Name: Quantity_Ordered, dtype: int64"
      ]
     },
     "execution_count": 32,
     "metadata": {},
     "output_type": "execute_result"
    }
   ],
   "source": [
    "sales.Quantity_Ordered.value_counts()"
   ]
  },
  {
   "cell_type": "code",
   "execution_count": 33,
   "id": "prompt-metro",
   "metadata": {},
   "outputs": [
    {
     "data": {
      "text/plain": [
       "0"
      ]
     },
     "execution_count": 33,
     "metadata": {},
     "output_type": "execute_result"
    }
   ],
   "source": [
    "sales.iloc[:,2].isnull().sum()"
   ]
  },
  {
   "cell_type": "code",
   "execution_count": 34,
   "id": "ecological-allowance",
   "metadata": {},
   "outputs": [
    {
     "name": "stdout",
     "output_type": "stream",
     "text": [
      "object\n"
     ]
    }
   ],
   "source": [
    "print(sales['Quantity_Ordered'].dtype)"
   ]
  },
  {
   "cell_type": "code",
   "execution_count": 35,
   "id": "growing-bosnia",
   "metadata": {},
   "outputs": [],
   "source": [
    "sales.Quantity_Ordered=sales.Quantity_Ordered.astype('int')"
   ]
  },
  {
   "cell_type": "code",
   "execution_count": 36,
   "id": "protective-irrigation",
   "metadata": {},
   "outputs": [
    {
     "name": "stdout",
     "output_type": "stream",
     "text": [
      "int32\n"
     ]
    }
   ],
   "source": [
    "print(sales.iloc[:,2].dtype)"
   ]
  },
  {
   "cell_type": "code",
   "execution_count": 37,
   "id": "planned-hartford",
   "metadata": {},
   "outputs": [
    {
     "data": {
      "text/html": [
       "<div>\n",
       "<style scoped>\n",
       "    .dataframe tbody tr th:only-of-type {\n",
       "        vertical-align: middle;\n",
       "    }\n",
       "\n",
       "    .dataframe tbody tr th {\n",
       "        vertical-align: top;\n",
       "    }\n",
       "\n",
       "    .dataframe thead th {\n",
       "        text-align: right;\n",
       "    }\n",
       "</style>\n",
       "<table border=\"1\" class=\"dataframe\">\n",
       "  <thead>\n",
       "    <tr style=\"text-align: right;\">\n",
       "      <th></th>\n",
       "      <th>Order_ID</th>\n",
       "      <th>Product</th>\n",
       "      <th>Quantity_Ordered</th>\n",
       "      <th>Price Each</th>\n",
       "      <th>Order Date</th>\n",
       "      <th>Purchase Address</th>\n",
       "    </tr>\n",
       "  </thead>\n",
       "  <tbody>\n",
       "    <tr>\n",
       "      <th>0</th>\n",
       "      <td>176558</td>\n",
       "      <td>USB-C Charging Cable</td>\n",
       "      <td>2</td>\n",
       "      <td>11.95</td>\n",
       "      <td>4/19/2019 8:46</td>\n",
       "      <td>917 1st St, Dallas, TX 75001</td>\n",
       "    </tr>\n",
       "    <tr>\n",
       "      <th>2</th>\n",
       "      <td>176559</td>\n",
       "      <td>Bose SoundSport Headphones</td>\n",
       "      <td>1</td>\n",
       "      <td>99.99</td>\n",
       "      <td>4/7/2019 22:30</td>\n",
       "      <td>682 Chestnut St, Boston, MA 02215</td>\n",
       "    </tr>\n",
       "  </tbody>\n",
       "</table>\n",
       "</div>"
      ],
      "text/plain": [
       "   Order_ID                     Product  Quantity_Ordered Price Each  \\\n",
       "0    176558        USB-C Charging Cable                 2      11.95   \n",
       "2    176559  Bose SoundSport Headphones                 1      99.99   \n",
       "\n",
       "       Order Date                   Purchase Address  \n",
       "0  4/19/2019 8:46       917 1st St, Dallas, TX 75001  \n",
       "2  4/7/2019 22:30  682 Chestnut St, Boston, MA 02215  "
      ]
     },
     "execution_count": 37,
     "metadata": {},
     "output_type": "execute_result"
    }
   ],
   "source": [
    "sales.head(2)"
   ]
  },
  {
   "cell_type": "markdown",
   "id": "editorial-throat",
   "metadata": {},
   "source": [
    "### Price Each"
   ]
  },
  {
   "cell_type": "code",
   "execution_count": 38,
   "id": "silent-corner",
   "metadata": {},
   "outputs": [],
   "source": [
    "sales.rename(columns={'Price Each':'Price_Each'},inplace=True)"
   ]
  },
  {
   "cell_type": "code",
   "execution_count": 39,
   "id": "mental-polls",
   "metadata": {},
   "outputs": [
    {
     "data": {
      "text/plain": [
       "14.95     2201\n",
       "11.95     2079\n",
       "3.84      2063\n",
       "2.99      1989\n",
       "11.99     1890\n",
       "150       1515\n",
       "99.99     1280\n",
       "149.99     734\n",
       "600        719\n",
       "700        693\n",
       "379.99     650\n",
       "389.99     563\n",
       "300        458\n",
       "1700       453\n",
       "999.99     392\n",
       "109.99     390\n",
       "400        220\n",
       "Name: Price_Each, dtype: int64"
      ]
     },
     "execution_count": 39,
     "metadata": {},
     "output_type": "execute_result"
    }
   ],
   "source": [
    "sales.Price_Each.value_counts()"
   ]
  },
  {
   "cell_type": "code",
   "execution_count": 40,
   "id": "loose-hammer",
   "metadata": {},
   "outputs": [
    {
     "data": {
      "text/plain": [
       "0"
      ]
     },
     "execution_count": 40,
     "metadata": {},
     "output_type": "execute_result"
    }
   ],
   "source": [
    "sales.iloc[:,3].isnull().sum()"
   ]
  },
  {
   "cell_type": "code",
   "execution_count": 41,
   "id": "golden-kansas",
   "metadata": {},
   "outputs": [
    {
     "name": "stdout",
     "output_type": "stream",
     "text": [
      "object\n"
     ]
    }
   ],
   "source": [
    "print(sales.iloc[:,3].dtype)"
   ]
  },
  {
   "cell_type": "code",
   "execution_count": 42,
   "id": "worst-blackberry",
   "metadata": {},
   "outputs": [],
   "source": [
    "sales['Price_Each']=sales.Price_Each.astype('float')"
   ]
  },
  {
   "cell_type": "code",
   "execution_count": 43,
   "id": "global-photography",
   "metadata": {},
   "outputs": [
    {
     "name": "stdout",
     "output_type": "stream",
     "text": [
      "float64\n"
     ]
    }
   ],
   "source": [
    "print(sales.iloc[:,3].dtype)"
   ]
  },
  {
   "cell_type": "code",
   "execution_count": 44,
   "id": "brief-founder",
   "metadata": {},
   "outputs": [
    {
     "data": {
      "text/html": [
       "<div>\n",
       "<style scoped>\n",
       "    .dataframe tbody tr th:only-of-type {\n",
       "        vertical-align: middle;\n",
       "    }\n",
       "\n",
       "    .dataframe tbody tr th {\n",
       "        vertical-align: top;\n",
       "    }\n",
       "\n",
       "    .dataframe thead th {\n",
       "        text-align: right;\n",
       "    }\n",
       "</style>\n",
       "<table border=\"1\" class=\"dataframe\">\n",
       "  <thead>\n",
       "    <tr style=\"text-align: right;\">\n",
       "      <th></th>\n",
       "      <th>Order_ID</th>\n",
       "      <th>Product</th>\n",
       "      <th>Quantity_Ordered</th>\n",
       "      <th>Price_Each</th>\n",
       "      <th>Order Date</th>\n",
       "      <th>Purchase Address</th>\n",
       "    </tr>\n",
       "  </thead>\n",
       "  <tbody>\n",
       "    <tr>\n",
       "      <th>0</th>\n",
       "      <td>176558</td>\n",
       "      <td>USB-C Charging Cable</td>\n",
       "      <td>2</td>\n",
       "      <td>11.95</td>\n",
       "      <td>4/19/2019 8:46</td>\n",
       "      <td>917 1st St, Dallas, TX 75001</td>\n",
       "    </tr>\n",
       "    <tr>\n",
       "      <th>2</th>\n",
       "      <td>176559</td>\n",
       "      <td>Bose SoundSport Headphones</td>\n",
       "      <td>1</td>\n",
       "      <td>99.99</td>\n",
       "      <td>4/7/2019 22:30</td>\n",
       "      <td>682 Chestnut St, Boston, MA 02215</td>\n",
       "    </tr>\n",
       "  </tbody>\n",
       "</table>\n",
       "</div>"
      ],
      "text/plain": [
       "   Order_ID                     Product  Quantity_Ordered  Price_Each  \\\n",
       "0    176558        USB-C Charging Cable                 2       11.95   \n",
       "2    176559  Bose SoundSport Headphones                 1       99.99   \n",
       "\n",
       "       Order Date                   Purchase Address  \n",
       "0  4/19/2019 8:46       917 1st St, Dallas, TX 75001  \n",
       "2  4/7/2019 22:30  682 Chestnut St, Boston, MA 02215  "
      ]
     },
     "execution_count": 44,
     "metadata": {},
     "output_type": "execute_result"
    }
   ],
   "source": [
    "sales.head(2)"
   ]
  },
  {
   "cell_type": "markdown",
   "id": "mature-former",
   "metadata": {},
   "source": [
    "### Order Date"
   ]
  },
  {
   "cell_type": "code",
   "execution_count": 45,
   "id": "received-velvet",
   "metadata": {},
   "outputs": [],
   "source": [
    "sales.rename(columns={'Order Date':'Order_Date'},inplace=True)"
   ]
  },
  {
   "cell_type": "code",
   "execution_count": 46,
   "id": "imported-consent",
   "metadata": {},
   "outputs": [
    {
     "data": {
      "text/plain": [
       "4/2/2019 13:24     7\n",
       "4/25/2019 15:27    6\n",
       "4/25/2019 19:01    6\n",
       "4/17/2019 10:07    6\n",
       "4/4/2019 11:09     6\n",
       "                  ..\n",
       "4/10/2019 3:43     1\n",
       "4/17/2019 20:59    1\n",
       "4/20/2019 6:54     1\n",
       "4/20/2019 1:00     1\n",
       "4/12/2019 12:52    1\n",
       "Name: Order_Date, Length: 13583, dtype: int64"
      ]
     },
     "execution_count": 46,
     "metadata": {},
     "output_type": "execute_result"
    }
   ],
   "source": [
    "sales.Order_Date.value_counts()"
   ]
  },
  {
   "cell_type": "code",
   "execution_count": 47,
   "id": "academic-parish",
   "metadata": {},
   "outputs": [
    {
     "data": {
      "text/plain": [
       "0"
      ]
     },
     "execution_count": 47,
     "metadata": {},
     "output_type": "execute_result"
    }
   ],
   "source": [
    "sales.iloc[:,4].isnull().sum()"
   ]
  },
  {
   "cell_type": "code",
   "execution_count": 48,
   "id": "theoretical-delicious",
   "metadata": {},
   "outputs": [
    {
     "name": "stdout",
     "output_type": "stream",
     "text": [
      "object\n"
     ]
    }
   ],
   "source": [
    "print(sales.iloc[:,4].dtype)"
   ]
  },
  {
   "cell_type": "code",
   "execution_count": 49,
   "id": "magnetic-posting",
   "metadata": {},
   "outputs": [],
   "source": [
    "sales['Order_Date'] = pd.to_datetime(sales['Order_Date'])"
   ]
  },
  {
   "cell_type": "code",
   "execution_count": 50,
   "id": "italic-fiber",
   "metadata": {},
   "outputs": [
    {
     "data": {
      "text/html": [
       "<div>\n",
       "<style scoped>\n",
       "    .dataframe tbody tr th:only-of-type {\n",
       "        vertical-align: middle;\n",
       "    }\n",
       "\n",
       "    .dataframe tbody tr th {\n",
       "        vertical-align: top;\n",
       "    }\n",
       "\n",
       "    .dataframe thead th {\n",
       "        text-align: right;\n",
       "    }\n",
       "</style>\n",
       "<table border=\"1\" class=\"dataframe\">\n",
       "  <thead>\n",
       "    <tr style=\"text-align: right;\">\n",
       "      <th></th>\n",
       "      <th>Order_ID</th>\n",
       "      <th>Product</th>\n",
       "      <th>Quantity_Ordered</th>\n",
       "      <th>Price_Each</th>\n",
       "      <th>Order_Date</th>\n",
       "      <th>Purchase Address</th>\n",
       "    </tr>\n",
       "  </thead>\n",
       "  <tbody>\n",
       "    <tr>\n",
       "      <th>0</th>\n",
       "      <td>176558</td>\n",
       "      <td>USB-C Charging Cable</td>\n",
       "      <td>2</td>\n",
       "      <td>11.95</td>\n",
       "      <td>2019-04-19 08:46:00</td>\n",
       "      <td>917 1st St, Dallas, TX 75001</td>\n",
       "    </tr>\n",
       "  </tbody>\n",
       "</table>\n",
       "</div>"
      ],
      "text/plain": [
       "   Order_ID               Product  Quantity_Ordered  Price_Each  \\\n",
       "0    176558  USB-C Charging Cable                 2       11.95   \n",
       "\n",
       "           Order_Date              Purchase Address  \n",
       "0 2019-04-19 08:46:00  917 1st St, Dallas, TX 75001  "
      ]
     },
     "execution_count": 50,
     "metadata": {},
     "output_type": "execute_result"
    }
   ],
   "source": [
    "sales.head(1)"
   ]
  },
  {
   "cell_type": "code",
   "execution_count": 51,
   "id": "broken-composer",
   "metadata": {},
   "outputs": [
    {
     "name": "stdout",
     "output_type": "stream",
     "text": [
      "datetime64[ns]\n"
     ]
    }
   ],
   "source": [
    "print(sales.iloc[:,4].dtype)"
   ]
  },
  {
   "cell_type": "code",
   "execution_count": 52,
   "id": "piano-harmony",
   "metadata": {},
   "outputs": [
    {
     "data": {
      "text/html": [
       "<div>\n",
       "<style scoped>\n",
       "    .dataframe tbody tr th:only-of-type {\n",
       "        vertical-align: middle;\n",
       "    }\n",
       "\n",
       "    .dataframe tbody tr th {\n",
       "        vertical-align: top;\n",
       "    }\n",
       "\n",
       "    .dataframe thead th {\n",
       "        text-align: right;\n",
       "    }\n",
       "</style>\n",
       "<table border=\"1\" class=\"dataframe\">\n",
       "  <thead>\n",
       "    <tr style=\"text-align: right;\">\n",
       "      <th></th>\n",
       "      <th>Order_ID</th>\n",
       "      <th>Product</th>\n",
       "      <th>Quantity_Ordered</th>\n",
       "      <th>Price_Each</th>\n",
       "      <th>Order_Date</th>\n",
       "      <th>Purchase Address</th>\n",
       "    </tr>\n",
       "  </thead>\n",
       "  <tbody>\n",
       "    <tr>\n",
       "      <th>0</th>\n",
       "      <td>176558</td>\n",
       "      <td>USB-C Charging Cable</td>\n",
       "      <td>2</td>\n",
       "      <td>11.95</td>\n",
       "      <td>2019-04-19 08:46:00</td>\n",
       "      <td>917 1st St, Dallas, TX 75001</td>\n",
       "    </tr>\n",
       "    <tr>\n",
       "      <th>2</th>\n",
       "      <td>176559</td>\n",
       "      <td>Bose SoundSport Headphones</td>\n",
       "      <td>1</td>\n",
       "      <td>99.99</td>\n",
       "      <td>2019-04-07 22:30:00</td>\n",
       "      <td>682 Chestnut St, Boston, MA 02215</td>\n",
       "    </tr>\n",
       "  </tbody>\n",
       "</table>\n",
       "</div>"
      ],
      "text/plain": [
       "   Order_ID                     Product  Quantity_Ordered  Price_Each  \\\n",
       "0    176558        USB-C Charging Cable                 2       11.95   \n",
       "2    176559  Bose SoundSport Headphones                 1       99.99   \n",
       "\n",
       "           Order_Date                   Purchase Address  \n",
       "0 2019-04-19 08:46:00       917 1st St, Dallas, TX 75001  \n",
       "2 2019-04-07 22:30:00  682 Chestnut St, Boston, MA 02215  "
      ]
     },
     "execution_count": 52,
     "metadata": {},
     "output_type": "execute_result"
    }
   ],
   "source": [
    "sales.head(2)"
   ]
  },
  {
   "cell_type": "markdown",
   "id": "optimum-compatibility",
   "metadata": {},
   "source": [
    "### Purchase Address"
   ]
  },
  {
   "cell_type": "code",
   "execution_count": 53,
   "id": "swedish-daughter",
   "metadata": {},
   "outputs": [],
   "source": [
    "sales.rename(columns={'Purchase Address':'Purchase_Address'},inplace=True)"
   ]
  },
  {
   "cell_type": "code",
   "execution_count": 54,
   "id": "assigned-perry",
   "metadata": {},
   "outputs": [
    {
     "data": {
      "text/plain": [
       "197 Center St, San Francisco, CA 94016     4\n",
       "821 Elm St, Austin, TX 73301               4\n",
       "122 West St, San Francisco, CA 94016       3\n",
       "127 Main St, Los Angeles, CA 90001         3\n",
       "1 Hickory St, Atlanta, GA 30301            3\n",
       "                                          ..\n",
       "74 Chestnut St, Seattle, WA 98101          1\n",
       "962 7th St, Los Angeles, CA 90001          1\n",
       "369 Madison St, San Francisco, CA 94016    1\n",
       "138 Lake St, Dallas, TX 75001              1\n",
       "563 Meadow St, Boston, MA 02215            1\n",
       "Name: Purchase_Address, Length: 17119, dtype: int64"
      ]
     },
     "execution_count": 54,
     "metadata": {},
     "output_type": "execute_result"
    }
   ],
   "source": [
    "sales.Purchase_Address.value_counts()"
   ]
  },
  {
   "cell_type": "code",
   "execution_count": 55,
   "id": "alive-princeton",
   "metadata": {},
   "outputs": [
    {
     "data": {
      "text/plain": [
       "0"
      ]
     },
     "execution_count": 55,
     "metadata": {},
     "output_type": "execute_result"
    }
   ],
   "source": [
    "sales.iloc[:,5].isnull().sum()"
   ]
  },
  {
   "cell_type": "code",
   "execution_count": 56,
   "id": "underlying-welcome",
   "metadata": {},
   "outputs": [
    {
     "name": "stdout",
     "output_type": "stream",
     "text": [
      "object\n"
     ]
    }
   ],
   "source": [
    "print(sales.iloc[:,5].dtype)"
   ]
  },
  {
   "cell_type": "code",
   "execution_count": 57,
   "id": "norwegian-summary",
   "metadata": {},
   "outputs": [
    {
     "data": {
      "text/html": [
       "<div>\n",
       "<style scoped>\n",
       "    .dataframe tbody tr th:only-of-type {\n",
       "        vertical-align: middle;\n",
       "    }\n",
       "\n",
       "    .dataframe tbody tr th {\n",
       "        vertical-align: top;\n",
       "    }\n",
       "\n",
       "    .dataframe thead th {\n",
       "        text-align: right;\n",
       "    }\n",
       "</style>\n",
       "<table border=\"1\" class=\"dataframe\">\n",
       "  <thead>\n",
       "    <tr style=\"text-align: right;\">\n",
       "      <th></th>\n",
       "      <th>Order_ID</th>\n",
       "      <th>Product</th>\n",
       "      <th>Quantity_Ordered</th>\n",
       "      <th>Price_Each</th>\n",
       "      <th>Order_Date</th>\n",
       "      <th>Purchase_Address</th>\n",
       "    </tr>\n",
       "  </thead>\n",
       "  <tbody>\n",
       "    <tr>\n",
       "      <th>0</th>\n",
       "      <td>176558</td>\n",
       "      <td>USB-C Charging Cable</td>\n",
       "      <td>2</td>\n",
       "      <td>11.95</td>\n",
       "      <td>2019-04-19 08:46:00</td>\n",
       "      <td>917 1st St, Dallas, TX 75001</td>\n",
       "    </tr>\n",
       "    <tr>\n",
       "      <th>2</th>\n",
       "      <td>176559</td>\n",
       "      <td>Bose SoundSport Headphones</td>\n",
       "      <td>1</td>\n",
       "      <td>99.99</td>\n",
       "      <td>2019-04-07 22:30:00</td>\n",
       "      <td>682 Chestnut St, Boston, MA 02215</td>\n",
       "    </tr>\n",
       "  </tbody>\n",
       "</table>\n",
       "</div>"
      ],
      "text/plain": [
       "   Order_ID                     Product  Quantity_Ordered  Price_Each  \\\n",
       "0    176558        USB-C Charging Cable                 2       11.95   \n",
       "2    176559  Bose SoundSport Headphones                 1       99.99   \n",
       "\n",
       "           Order_Date                   Purchase_Address  \n",
       "0 2019-04-19 08:46:00       917 1st St, Dallas, TX 75001  \n",
       "2 2019-04-07 22:30:00  682 Chestnut St, Boston, MA 02215  "
      ]
     },
     "execution_count": 57,
     "metadata": {},
     "output_type": "execute_result"
    }
   ],
   "source": [
    "sales.head(2)"
   ]
  },
  {
   "cell_type": "markdown",
   "id": "organic-bachelor",
   "metadata": {},
   "source": [
    "### Iterate Day from Order_Date"
   ]
  },
  {
   "cell_type": "code",
   "execution_count": 58,
   "id": "wireless-brief",
   "metadata": {},
   "outputs": [],
   "source": [
    "sales['Day'] = sales['Order_Date'].dt.day"
   ]
  },
  {
   "cell_type": "code",
   "execution_count": 59,
   "id": "subtle-prague",
   "metadata": {},
   "outputs": [
    {
     "data": {
      "text/html": [
       "<div>\n",
       "<style scoped>\n",
       "    .dataframe tbody tr th:only-of-type {\n",
       "        vertical-align: middle;\n",
       "    }\n",
       "\n",
       "    .dataframe tbody tr th {\n",
       "        vertical-align: top;\n",
       "    }\n",
       "\n",
       "    .dataframe thead th {\n",
       "        text-align: right;\n",
       "    }\n",
       "</style>\n",
       "<table border=\"1\" class=\"dataframe\">\n",
       "  <thead>\n",
       "    <tr style=\"text-align: right;\">\n",
       "      <th></th>\n",
       "      <th>Order_ID</th>\n",
       "      <th>Product</th>\n",
       "      <th>Quantity_Ordered</th>\n",
       "      <th>Price_Each</th>\n",
       "      <th>Order_Date</th>\n",
       "      <th>Purchase_Address</th>\n",
       "      <th>Day</th>\n",
       "    </tr>\n",
       "  </thead>\n",
       "  <tbody>\n",
       "    <tr>\n",
       "      <th>0</th>\n",
       "      <td>176558</td>\n",
       "      <td>USB-C Charging Cable</td>\n",
       "      <td>2</td>\n",
       "      <td>11.95</td>\n",
       "      <td>2019-04-19 08:46:00</td>\n",
       "      <td>917 1st St, Dallas, TX 75001</td>\n",
       "      <td>19</td>\n",
       "    </tr>\n",
       "    <tr>\n",
       "      <th>2</th>\n",
       "      <td>176559</td>\n",
       "      <td>Bose SoundSport Headphones</td>\n",
       "      <td>1</td>\n",
       "      <td>99.99</td>\n",
       "      <td>2019-04-07 22:30:00</td>\n",
       "      <td>682 Chestnut St, Boston, MA 02215</td>\n",
       "      <td>7</td>\n",
       "    </tr>\n",
       "    <tr>\n",
       "      <th>3</th>\n",
       "      <td>176560</td>\n",
       "      <td>Google Phone</td>\n",
       "      <td>1</td>\n",
       "      <td>600.00</td>\n",
       "      <td>2019-04-12 14:38:00</td>\n",
       "      <td>669 Spruce St, Los Angeles, CA 90001</td>\n",
       "      <td>12</td>\n",
       "    </tr>\n",
       "    <tr>\n",
       "      <th>4</th>\n",
       "      <td>176560</td>\n",
       "      <td>Wired Headphones</td>\n",
       "      <td>1</td>\n",
       "      <td>11.99</td>\n",
       "      <td>2019-04-12 14:38:00</td>\n",
       "      <td>669 Spruce St, Los Angeles, CA 90001</td>\n",
       "      <td>12</td>\n",
       "    </tr>\n",
       "    <tr>\n",
       "      <th>5</th>\n",
       "      <td>176561</td>\n",
       "      <td>Wired Headphones</td>\n",
       "      <td>1</td>\n",
       "      <td>11.99</td>\n",
       "      <td>2019-04-30 09:27:00</td>\n",
       "      <td>333 8th St, Los Angeles, CA 90001</td>\n",
       "      <td>30</td>\n",
       "    </tr>\n",
       "  </tbody>\n",
       "</table>\n",
       "</div>"
      ],
      "text/plain": [
       "   Order_ID                     Product  Quantity_Ordered  Price_Each  \\\n",
       "0    176558        USB-C Charging Cable                 2       11.95   \n",
       "2    176559  Bose SoundSport Headphones                 1       99.99   \n",
       "3    176560                Google Phone                 1      600.00   \n",
       "4    176560            Wired Headphones                 1       11.99   \n",
       "5    176561            Wired Headphones                 1       11.99   \n",
       "\n",
       "           Order_Date                      Purchase_Address  Day  \n",
       "0 2019-04-19 08:46:00          917 1st St, Dallas, TX 75001   19  \n",
       "2 2019-04-07 22:30:00     682 Chestnut St, Boston, MA 02215    7  \n",
       "3 2019-04-12 14:38:00  669 Spruce St, Los Angeles, CA 90001   12  \n",
       "4 2019-04-12 14:38:00  669 Spruce St, Los Angeles, CA 90001   12  \n",
       "5 2019-04-30 09:27:00     333 8th St, Los Angeles, CA 90001   30  "
      ]
     },
     "execution_count": 59,
     "metadata": {},
     "output_type": "execute_result"
    }
   ],
   "source": [
    "sales.head()"
   ]
  },
  {
   "cell_type": "markdown",
   "id": "italian-tribute",
   "metadata": {},
   "source": [
    "### Iterate City from Purchase_Address"
   ]
  },
  {
   "cell_type": "code",
   "execution_count": 60,
   "id": "quarterly-marina",
   "metadata": {},
   "outputs": [],
   "source": [
    "def get_city(address):\n",
    "    return address.split(',')[1]\n",
    "\n",
    "sales['City']=sales['Purchase_Address'].apply(lambda x:get_city(x))"
   ]
  },
  {
   "cell_type": "code",
   "execution_count": 61,
   "id": "sized-mortgage",
   "metadata": {},
   "outputs": [
    {
     "data": {
      "text/html": [
       "<div>\n",
       "<style scoped>\n",
       "    .dataframe tbody tr th:only-of-type {\n",
       "        vertical-align: middle;\n",
       "    }\n",
       "\n",
       "    .dataframe tbody tr th {\n",
       "        vertical-align: top;\n",
       "    }\n",
       "\n",
       "    .dataframe thead th {\n",
       "        text-align: right;\n",
       "    }\n",
       "</style>\n",
       "<table border=\"1\" class=\"dataframe\">\n",
       "  <thead>\n",
       "    <tr style=\"text-align: right;\">\n",
       "      <th></th>\n",
       "      <th>Order_ID</th>\n",
       "      <th>Product</th>\n",
       "      <th>Quantity_Ordered</th>\n",
       "      <th>Price_Each</th>\n",
       "      <th>Order_Date</th>\n",
       "      <th>Purchase_Address</th>\n",
       "      <th>Day</th>\n",
       "      <th>City</th>\n",
       "    </tr>\n",
       "  </thead>\n",
       "  <tbody>\n",
       "    <tr>\n",
       "      <th>0</th>\n",
       "      <td>176558</td>\n",
       "      <td>USB-C Charging Cable</td>\n",
       "      <td>2</td>\n",
       "      <td>11.95</td>\n",
       "      <td>2019-04-19 08:46:00</td>\n",
       "      <td>917 1st St, Dallas, TX 75001</td>\n",
       "      <td>19</td>\n",
       "      <td>Dallas</td>\n",
       "    </tr>\n",
       "    <tr>\n",
       "      <th>2</th>\n",
       "      <td>176559</td>\n",
       "      <td>Bose SoundSport Headphones</td>\n",
       "      <td>1</td>\n",
       "      <td>99.99</td>\n",
       "      <td>2019-04-07 22:30:00</td>\n",
       "      <td>682 Chestnut St, Boston, MA 02215</td>\n",
       "      <td>7</td>\n",
       "      <td>Boston</td>\n",
       "    </tr>\n",
       "  </tbody>\n",
       "</table>\n",
       "</div>"
      ],
      "text/plain": [
       "   Order_ID                     Product  Quantity_Ordered  Price_Each  \\\n",
       "0    176558        USB-C Charging Cable                 2       11.95   \n",
       "2    176559  Bose SoundSport Headphones                 1       99.99   \n",
       "\n",
       "           Order_Date                   Purchase_Address  Day     City  \n",
       "0 2019-04-19 08:46:00       917 1st St, Dallas, TX 75001   19   Dallas  \n",
       "2 2019-04-07 22:30:00  682 Chestnut St, Boston, MA 02215    7   Boston  "
      ]
     },
     "execution_count": 61,
     "metadata": {},
     "output_type": "execute_result"
    }
   ],
   "source": [
    "sales.head(2)"
   ]
  },
  {
   "cell_type": "code",
   "execution_count": 62,
   "id": "objective-diagnosis",
   "metadata": {},
   "outputs": [
    {
     "data": {
      "text/plain": [
       "21    672\n",
       "18    660\n",
       "17    655\n",
       "13    635\n",
       "27    631\n",
       "10    631\n",
       "24    630\n",
       "30    628\n",
       "4     627\n",
       "11    627\n",
       "12    623\n",
       "9     618\n",
       "1     615\n",
       "6     613\n",
       "16    612\n",
       "5     611\n",
       "8     610\n",
       "14    608\n",
       "3     599\n",
       "28    592\n",
       "25    591\n",
       "29    590\n",
       "23    589\n",
       "2     588\n",
       "20    587\n",
       "15    585\n",
       "26    578\n",
       "7     572\n",
       "19    562\n",
       "22    550\n",
       "Name: Day, dtype: int64"
      ]
     },
     "execution_count": 62,
     "metadata": {},
     "output_type": "execute_result"
    }
   ],
   "source": [
    "sales.iloc[:,6].value_counts(dropna=False)"
   ]
  },
  {
   "cell_type": "code",
   "execution_count": 63,
   "id": "successful-wichita",
   "metadata": {},
   "outputs": [
    {
     "data": {
      "text/html": [
       "<div>\n",
       "<style scoped>\n",
       "    .dataframe tbody tr th:only-of-type {\n",
       "        vertical-align: middle;\n",
       "    }\n",
       "\n",
       "    .dataframe tbody tr th {\n",
       "        vertical-align: top;\n",
       "    }\n",
       "\n",
       "    .dataframe thead th {\n",
       "        text-align: right;\n",
       "    }\n",
       "</style>\n",
       "<table border=\"1\" class=\"dataframe\">\n",
       "  <thead>\n",
       "    <tr style=\"text-align: right;\">\n",
       "      <th></th>\n",
       "      <th>Order_ID</th>\n",
       "      <th>Product</th>\n",
       "      <th>Quantity_Ordered</th>\n",
       "      <th>Price_Each</th>\n",
       "      <th>Order_Date</th>\n",
       "      <th>Purchase_Address</th>\n",
       "      <th>Day</th>\n",
       "      <th>City</th>\n",
       "    </tr>\n",
       "  </thead>\n",
       "  <tbody>\n",
       "    <tr>\n",
       "      <th>0</th>\n",
       "      <td>176558</td>\n",
       "      <td>USB-C Charging Cable</td>\n",
       "      <td>2</td>\n",
       "      <td>11.95</td>\n",
       "      <td>2019-04-19 08:46:00</td>\n",
       "      <td>917 1st St, Dallas, TX 75001</td>\n",
       "      <td>19</td>\n",
       "      <td>Dallas</td>\n",
       "    </tr>\n",
       "    <tr>\n",
       "      <th>2</th>\n",
       "      <td>176559</td>\n",
       "      <td>Bose SoundSport Headphones</td>\n",
       "      <td>1</td>\n",
       "      <td>99.99</td>\n",
       "      <td>2019-04-07 22:30:00</td>\n",
       "      <td>682 Chestnut St, Boston, MA 02215</td>\n",
       "      <td>7</td>\n",
       "      <td>Boston</td>\n",
       "    </tr>\n",
       "  </tbody>\n",
       "</table>\n",
       "</div>"
      ],
      "text/plain": [
       "   Order_ID                     Product  Quantity_Ordered  Price_Each  \\\n",
       "0    176558        USB-C Charging Cable                 2       11.95   \n",
       "2    176559  Bose SoundSport Headphones                 1       99.99   \n",
       "\n",
       "           Order_Date                   Purchase_Address  Day     City  \n",
       "0 2019-04-19 08:46:00       917 1st St, Dallas, TX 75001   19   Dallas  \n",
       "2 2019-04-07 22:30:00  682 Chestnut St, Boston, MA 02215    7   Boston  "
      ]
     },
     "execution_count": 63,
     "metadata": {},
     "output_type": "execute_result"
    }
   ],
   "source": [
    "sales.head(2)"
   ]
  },
  {
   "cell_type": "code",
   "execution_count": 64,
   "id": "looking-binding",
   "metadata": {},
   "outputs": [
    {
     "data": {
      "text/plain": [
       "array([' Dallas', ' Boston', ' Los Angeles', ' San Francisco', ' Seattle',\n",
       "       ' Atlanta', ' New York City', ' Portland', ' Austin'], dtype=object)"
      ]
     },
     "execution_count": 64,
     "metadata": {},
     "output_type": "execute_result"
    }
   ],
   "source": [
    "sales.iloc[:,7].unique()"
   ]
  },
  {
   "cell_type": "code",
   "execution_count": 65,
   "id": "substantial-nigeria",
   "metadata": {},
   "outputs": [],
   "source": [
    "sales.City=sales.City.str.strip()"
   ]
  },
  {
   "cell_type": "code",
   "execution_count": 66,
   "id": "precise-reset",
   "metadata": {},
   "outputs": [
    {
     "data": {
      "text/html": [
       "<div>\n",
       "<style scoped>\n",
       "    .dataframe tbody tr th:only-of-type {\n",
       "        vertical-align: middle;\n",
       "    }\n",
       "\n",
       "    .dataframe tbody tr th {\n",
       "        vertical-align: top;\n",
       "    }\n",
       "\n",
       "    .dataframe thead th {\n",
       "        text-align: right;\n",
       "    }\n",
       "</style>\n",
       "<table border=\"1\" class=\"dataframe\">\n",
       "  <thead>\n",
       "    <tr style=\"text-align: right;\">\n",
       "      <th></th>\n",
       "      <th>Order_ID</th>\n",
       "      <th>Product</th>\n",
       "      <th>Quantity_Ordered</th>\n",
       "      <th>Price_Each</th>\n",
       "      <th>Order_Date</th>\n",
       "      <th>Purchase_Address</th>\n",
       "      <th>Day</th>\n",
       "      <th>City</th>\n",
       "    </tr>\n",
       "  </thead>\n",
       "  <tbody>\n",
       "    <tr>\n",
       "      <th>0</th>\n",
       "      <td>176558</td>\n",
       "      <td>USB-C Charging Cable</td>\n",
       "      <td>2</td>\n",
       "      <td>11.95</td>\n",
       "      <td>2019-04-19 08:46:00</td>\n",
       "      <td>917 1st St, Dallas, TX 75001</td>\n",
       "      <td>19</td>\n",
       "      <td>Dallas</td>\n",
       "    </tr>\n",
       "    <tr>\n",
       "      <th>13</th>\n",
       "      <td>176569</td>\n",
       "      <td>27in 4K Gaming Monitor</td>\n",
       "      <td>1</td>\n",
       "      <td>389.99</td>\n",
       "      <td>2019-04-16 19:23:00</td>\n",
       "      <td>657 Hill St, Dallas, TX 75001</td>\n",
       "      <td>16</td>\n",
       "      <td>Dallas</td>\n",
       "    </tr>\n",
       "  </tbody>\n",
       "</table>\n",
       "</div>"
      ],
      "text/plain": [
       "    Order_ID                 Product  Quantity_Ordered  Price_Each  \\\n",
       "0     176558    USB-C Charging Cable                 2       11.95   \n",
       "13    176569  27in 4K Gaming Monitor                 1      389.99   \n",
       "\n",
       "            Order_Date               Purchase_Address  Day    City  \n",
       "0  2019-04-19 08:46:00   917 1st St, Dallas, TX 75001   19  Dallas  \n",
       "13 2019-04-16 19:23:00  657 Hill St, Dallas, TX 75001   16  Dallas  "
      ]
     },
     "execution_count": 66,
     "metadata": {},
     "output_type": "execute_result"
    }
   ],
   "source": [
    "sales[sales.iloc[:,7]=='Dallas'].head(2)"
   ]
  },
  {
   "cell_type": "code",
   "execution_count": 67,
   "id": "champion-sydney",
   "metadata": {},
   "outputs": [
    {
     "data": {
      "text/html": [
       "<div>\n",
       "<style scoped>\n",
       "    .dataframe tbody tr th:only-of-type {\n",
       "        vertical-align: middle;\n",
       "    }\n",
       "\n",
       "    .dataframe tbody tr th {\n",
       "        vertical-align: top;\n",
       "    }\n",
       "\n",
       "    .dataframe thead th {\n",
       "        text-align: right;\n",
       "    }\n",
       "</style>\n",
       "<table border=\"1\" class=\"dataframe\">\n",
       "  <thead>\n",
       "    <tr style=\"text-align: right;\">\n",
       "      <th></th>\n",
       "      <th>Order_ID</th>\n",
       "      <th>Product</th>\n",
       "      <th>Quantity_Ordered</th>\n",
       "      <th>Price_Each</th>\n",
       "      <th>Order_Date</th>\n",
       "      <th>Purchase_Address</th>\n",
       "      <th>Day</th>\n",
       "      <th>City</th>\n",
       "    </tr>\n",
       "  </thead>\n",
       "  <tbody>\n",
       "    <tr>\n",
       "      <th>31</th>\n",
       "      <td>176585</td>\n",
       "      <td>Bose SoundSport Headphones</td>\n",
       "      <td>1</td>\n",
       "      <td>99.99</td>\n",
       "      <td>2019-04-07 11:31:00</td>\n",
       "      <td>823 Highland St, Boston, MA 02215</td>\n",
       "      <td>7</td>\n",
       "      <td>Boston</td>\n",
       "    </tr>\n",
       "    <tr>\n",
       "      <th>1302</th>\n",
       "      <td>177795</td>\n",
       "      <td>Apple Airpods Headphones</td>\n",
       "      <td>1</td>\n",
       "      <td>150.00</td>\n",
       "      <td>2019-04-27 19:45:00</td>\n",
       "      <td>740 14th St, Seattle, WA 98101</td>\n",
       "      <td>27</td>\n",
       "      <td>Seattle</td>\n",
       "    </tr>\n",
       "    <tr>\n",
       "      <th>1684</th>\n",
       "      <td>178158</td>\n",
       "      <td>USB-C Charging Cable</td>\n",
       "      <td>1</td>\n",
       "      <td>11.95</td>\n",
       "      <td>2019-04-28 21:13:00</td>\n",
       "      <td>197 Center St, San Francisco, CA 94016</td>\n",
       "      <td>28</td>\n",
       "      <td>San Francisco</td>\n",
       "    </tr>\n",
       "    <tr>\n",
       "      <th>3805</th>\n",
       "      <td>180207</td>\n",
       "      <td>Apple Airpods Headphones</td>\n",
       "      <td>1</td>\n",
       "      <td>150.00</td>\n",
       "      <td>2019-04-13 01:46:00</td>\n",
       "      <td>196 7th St, Los Angeles, CA 90001</td>\n",
       "      <td>13</td>\n",
       "      <td>Los Angeles</td>\n",
       "    </tr>\n",
       "    <tr>\n",
       "      <th>4196</th>\n",
       "      <td>180576</td>\n",
       "      <td>Lightning Charging Cable</td>\n",
       "      <td>1</td>\n",
       "      <td>14.95</td>\n",
       "      <td>2019-04-18 17:23:00</td>\n",
       "      <td>431 Park St, Dallas, TX 75001</td>\n",
       "      <td>18</td>\n",
       "      <td>Dallas</td>\n",
       "    </tr>\n",
       "    <tr>\n",
       "      <th>4376</th>\n",
       "      <td>180746</td>\n",
       "      <td>AAA Batteries (4-pack)</td>\n",
       "      <td>1</td>\n",
       "      <td>2.99</td>\n",
       "      <td>2019-04-30 12:05:00</td>\n",
       "      <td>398 West St, New York City, NY 10001</td>\n",
       "      <td>30</td>\n",
       "      <td>New York City</td>\n",
       "    </tr>\n",
       "    <tr>\n",
       "      <th>4450</th>\n",
       "      <td>180817</td>\n",
       "      <td>Lightning Charging Cable</td>\n",
       "      <td>1</td>\n",
       "      <td>14.95</td>\n",
       "      <td>2019-04-13 18:33:00</td>\n",
       "      <td>563 13th St, Los Angeles, CA 90001</td>\n",
       "      <td>13</td>\n",
       "      <td>Los Angeles</td>\n",
       "    </tr>\n",
       "    <tr>\n",
       "      <th>4734</th>\n",
       "      <td>181084</td>\n",
       "      <td>Flatscreen TV</td>\n",
       "      <td>1</td>\n",
       "      <td>300.00</td>\n",
       "      <td>2019-04-07 21:36:00</td>\n",
       "      <td>1 Walnut St, Boston, MA 02215</td>\n",
       "      <td>7</td>\n",
       "      <td>Boston</td>\n",
       "    </tr>\n",
       "    <tr>\n",
       "      <th>4906</th>\n",
       "      <td>181246</td>\n",
       "      <td>Wired Headphones</td>\n",
       "      <td>1</td>\n",
       "      <td>11.99</td>\n",
       "      <td>2019-04-09 13:58:00</td>\n",
       "      <td>342 Hickory St, San Francisco, CA 94016</td>\n",
       "      <td>9</td>\n",
       "      <td>San Francisco</td>\n",
       "    </tr>\n",
       "    <tr>\n",
       "      <th>5773</th>\n",
       "      <td>182077</td>\n",
       "      <td>AAA Batteries (4-pack)</td>\n",
       "      <td>1</td>\n",
       "      <td>2.99</td>\n",
       "      <td>2019-04-13 22:08:00</td>\n",
       "      <td>730 4th St, New York City, NY 10001</td>\n",
       "      <td>13</td>\n",
       "      <td>New York City</td>\n",
       "    </tr>\n",
       "    <tr>\n",
       "      <th>6242</th>\n",
       "      <td>182523</td>\n",
       "      <td>Lightning Charging Cable</td>\n",
       "      <td>1</td>\n",
       "      <td>14.95</td>\n",
       "      <td>2019-04-24 21:16:00</td>\n",
       "      <td>990 River St, Boston, MA 02215</td>\n",
       "      <td>24</td>\n",
       "      <td>Boston</td>\n",
       "    </tr>\n",
       "    <tr>\n",
       "      <th>6646</th>\n",
       "      <td>182904</td>\n",
       "      <td>Lightning Charging Cable</td>\n",
       "      <td>1</td>\n",
       "      <td>14.95</td>\n",
       "      <td>2019-04-09 22:15:00</td>\n",
       "      <td>410 Wilson St, Atlanta, GA 30301</td>\n",
       "      <td>9</td>\n",
       "      <td>Atlanta</td>\n",
       "    </tr>\n",
       "    <tr>\n",
       "      <th>7372</th>\n",
       "      <td>183587</td>\n",
       "      <td>AAA Batteries (4-pack)</td>\n",
       "      <td>1</td>\n",
       "      <td>2.99</td>\n",
       "      <td>2019-04-15 00:21:00</td>\n",
       "      <td>384 Sunset St, Los Angeles, CA 90001</td>\n",
       "      <td>15</td>\n",
       "      <td>Los Angeles</td>\n",
       "    </tr>\n",
       "    <tr>\n",
       "      <th>8540</th>\n",
       "      <td>184717</td>\n",
       "      <td>USB-C Charging Cable</td>\n",
       "      <td>1</td>\n",
       "      <td>11.95</td>\n",
       "      <td>2019-04-04 10:17:00</td>\n",
       "      <td>439 Forest St, Atlanta, GA 30301</td>\n",
       "      <td>4</td>\n",
       "      <td>Atlanta</td>\n",
       "    </tr>\n",
       "    <tr>\n",
       "      <th>9044</th>\n",
       "      <td>185193</td>\n",
       "      <td>Lightning Charging Cable</td>\n",
       "      <td>1</td>\n",
       "      <td>14.95</td>\n",
       "      <td>2019-04-16 21:38:00</td>\n",
       "      <td>714 13th St, San Francisco, CA 94016</td>\n",
       "      <td>16</td>\n",
       "      <td>San Francisco</td>\n",
       "    </tr>\n",
       "    <tr>\n",
       "      <th>9899</th>\n",
       "      <td>186008</td>\n",
       "      <td>Bose SoundSport Headphones</td>\n",
       "      <td>1</td>\n",
       "      <td>99.99</td>\n",
       "      <td>2019-04-17 19:36:00</td>\n",
       "      <td>432 Park St, New York City, NY 10001</td>\n",
       "      <td>17</td>\n",
       "      <td>New York City</td>\n",
       "    </tr>\n",
       "    <tr>\n",
       "      <th>11334</th>\n",
       "      <td>187379</td>\n",
       "      <td>USB-C Charging Cable</td>\n",
       "      <td>1</td>\n",
       "      <td>11.95</td>\n",
       "      <td>2019-04-10 19:06:00</td>\n",
       "      <td>504 10th St, Los Angeles, CA 90001</td>\n",
       "      <td>10</td>\n",
       "      <td>Los Angeles</td>\n",
       "    </tr>\n",
       "    <tr>\n",
       "      <th>12871</th>\n",
       "      <td>188827</td>\n",
       "      <td>USB-C Charging Cable</td>\n",
       "      <td>1</td>\n",
       "      <td>11.95</td>\n",
       "      <td>2019-04-17 18:17:00</td>\n",
       "      <td>900 Spruce St, New York City, NY 10001</td>\n",
       "      <td>17</td>\n",
       "      <td>New York City</td>\n",
       "    </tr>\n",
       "    <tr>\n",
       "      <th>14202</th>\n",
       "      <td>190099</td>\n",
       "      <td>AA Batteries (4-pack)</td>\n",
       "      <td>1</td>\n",
       "      <td>3.84</td>\n",
       "      <td>2019-04-18 08:07:00</td>\n",
       "      <td>845 Sunset St, Los Angeles, CA 90001</td>\n",
       "      <td>18</td>\n",
       "      <td>Los Angeles</td>\n",
       "    </tr>\n",
       "    <tr>\n",
       "      <th>14677</th>\n",
       "      <td>190553</td>\n",
       "      <td>Lightning Charging Cable</td>\n",
       "      <td>1</td>\n",
       "      <td>14.95</td>\n",
       "      <td>2019-04-10 17:38:00</td>\n",
       "      <td>548 Madison St, New York City, NY 10001</td>\n",
       "      <td>10</td>\n",
       "      <td>New York City</td>\n",
       "    </tr>\n",
       "    <tr>\n",
       "      <th>17164</th>\n",
       "      <td>192939</td>\n",
       "      <td>34in Ultrawide Monitor</td>\n",
       "      <td>1</td>\n",
       "      <td>379.99</td>\n",
       "      <td>2019-04-29 21:07:00</td>\n",
       "      <td>519 Adams St, Seattle, WA 98101</td>\n",
       "      <td>29</td>\n",
       "      <td>Seattle</td>\n",
       "    </tr>\n",
       "    <tr>\n",
       "      <th>18194</th>\n",
       "      <td>193916</td>\n",
       "      <td>20in Monitor</td>\n",
       "      <td>1</td>\n",
       "      <td>109.99</td>\n",
       "      <td>2019-04-18 12:59:00</td>\n",
       "      <td>653 Cherry St, Dallas, TX 75001</td>\n",
       "      <td>18</td>\n",
       "      <td>Dallas</td>\n",
       "    </tr>\n",
       "  </tbody>\n",
       "</table>\n",
       "</div>"
      ],
      "text/plain": [
       "       Order_ID                     Product  Quantity_Ordered  Price_Each  \\\n",
       "31       176585  Bose SoundSport Headphones                 1       99.99   \n",
       "1302     177795    Apple Airpods Headphones                 1      150.00   \n",
       "1684     178158        USB-C Charging Cable                 1       11.95   \n",
       "3805     180207    Apple Airpods Headphones                 1      150.00   \n",
       "4196     180576    Lightning Charging Cable                 1       14.95   \n",
       "4376     180746      AAA Batteries (4-pack)                 1        2.99   \n",
       "4450     180817    Lightning Charging Cable                 1       14.95   \n",
       "4734     181084               Flatscreen TV                 1      300.00   \n",
       "4906     181246            Wired Headphones                 1       11.99   \n",
       "5773     182077      AAA Batteries (4-pack)                 1        2.99   \n",
       "6242     182523    Lightning Charging Cable                 1       14.95   \n",
       "6646     182904    Lightning Charging Cable                 1       14.95   \n",
       "7372     183587      AAA Batteries (4-pack)                 1        2.99   \n",
       "8540     184717        USB-C Charging Cable                 1       11.95   \n",
       "9044     185193    Lightning Charging Cable                 1       14.95   \n",
       "9899     186008  Bose SoundSport Headphones                 1       99.99   \n",
       "11334    187379        USB-C Charging Cable                 1       11.95   \n",
       "12871    188827        USB-C Charging Cable                 1       11.95   \n",
       "14202    190099       AA Batteries (4-pack)                 1        3.84   \n",
       "14677    190553    Lightning Charging Cable                 1       14.95   \n",
       "17164    192939      34in Ultrawide Monitor                 1      379.99   \n",
       "18194    193916                20in Monitor                 1      109.99   \n",
       "\n",
       "               Order_Date                         Purchase_Address  Day  \\\n",
       "31    2019-04-07 11:31:00        823 Highland St, Boston, MA 02215    7   \n",
       "1302  2019-04-27 19:45:00           740 14th St, Seattle, WA 98101   27   \n",
       "1684  2019-04-28 21:13:00   197 Center St, San Francisco, CA 94016   28   \n",
       "3805  2019-04-13 01:46:00        196 7th St, Los Angeles, CA 90001   13   \n",
       "4196  2019-04-18 17:23:00            431 Park St, Dallas, TX 75001   18   \n",
       "4376  2019-04-30 12:05:00     398 West St, New York City, NY 10001   30   \n",
       "4450  2019-04-13 18:33:00       563 13th St, Los Angeles, CA 90001   13   \n",
       "4734  2019-04-07 21:36:00            1 Walnut St, Boston, MA 02215    7   \n",
       "4906  2019-04-09 13:58:00  342 Hickory St, San Francisco, CA 94016    9   \n",
       "5773  2019-04-13 22:08:00      730 4th St, New York City, NY 10001   13   \n",
       "6242  2019-04-24 21:16:00           990 River St, Boston, MA 02215   24   \n",
       "6646  2019-04-09 22:15:00         410 Wilson St, Atlanta, GA 30301    9   \n",
       "7372  2019-04-15 00:21:00     384 Sunset St, Los Angeles, CA 90001   15   \n",
       "8540  2019-04-04 10:17:00         439 Forest St, Atlanta, GA 30301    4   \n",
       "9044  2019-04-16 21:38:00     714 13th St, San Francisco, CA 94016   16   \n",
       "9899  2019-04-17 19:36:00     432 Park St, New York City, NY 10001   17   \n",
       "11334 2019-04-10 19:06:00       504 10th St, Los Angeles, CA 90001   10   \n",
       "12871 2019-04-17 18:17:00   900 Spruce St, New York City, NY 10001   17   \n",
       "14202 2019-04-18 08:07:00     845 Sunset St, Los Angeles, CA 90001   18   \n",
       "14677 2019-04-10 17:38:00  548 Madison St, New York City, NY 10001   10   \n",
       "17164 2019-04-29 21:07:00          519 Adams St, Seattle, WA 98101   29   \n",
       "18194 2019-04-18 12:59:00          653 Cherry St, Dallas, TX 75001   18   \n",
       "\n",
       "                City  \n",
       "31            Boston  \n",
       "1302         Seattle  \n",
       "1684   San Francisco  \n",
       "3805     Los Angeles  \n",
       "4196          Dallas  \n",
       "4376   New York City  \n",
       "4450     Los Angeles  \n",
       "4734          Boston  \n",
       "4906   San Francisco  \n",
       "5773   New York City  \n",
       "6242          Boston  \n",
       "6646         Atlanta  \n",
       "7372     Los Angeles  \n",
       "8540         Atlanta  \n",
       "9044   San Francisco  \n",
       "9899   New York City  \n",
       "11334    Los Angeles  \n",
       "12871  New York City  \n",
       "14202    Los Angeles  \n",
       "14677  New York City  \n",
       "17164        Seattle  \n",
       "18194         Dallas  "
      ]
     },
     "execution_count": 67,
     "metadata": {},
     "output_type": "execute_result"
    }
   ],
   "source": [
    "sales[sales.duplicated(keep='first')]"
   ]
  },
  {
   "cell_type": "code",
   "execution_count": 68,
   "id": "regular-width",
   "metadata": {},
   "outputs": [],
   "source": [
    "sales.drop_duplicates(keep='first',inplace=True)"
   ]
  },
  {
   "cell_type": "code",
   "execution_count": 69,
   "id": "acquired-adventure",
   "metadata": {},
   "outputs": [
    {
     "data": {
      "text/html": [
       "<div>\n",
       "<style scoped>\n",
       "    .dataframe tbody tr th:only-of-type {\n",
       "        vertical-align: middle;\n",
       "    }\n",
       "\n",
       "    .dataframe tbody tr th {\n",
       "        vertical-align: top;\n",
       "    }\n",
       "\n",
       "    .dataframe thead th {\n",
       "        text-align: right;\n",
       "    }\n",
       "</style>\n",
       "<table border=\"1\" class=\"dataframe\">\n",
       "  <thead>\n",
       "    <tr style=\"text-align: right;\">\n",
       "      <th></th>\n",
       "      <th>Order_ID</th>\n",
       "      <th>Product</th>\n",
       "      <th>Quantity_Ordered</th>\n",
       "      <th>Price_Each</th>\n",
       "      <th>Order_Date</th>\n",
       "      <th>Purchase_Address</th>\n",
       "      <th>Day</th>\n",
       "      <th>City</th>\n",
       "    </tr>\n",
       "  </thead>\n",
       "  <tbody>\n",
       "  </tbody>\n",
       "</table>\n",
       "</div>"
      ],
      "text/plain": [
       "Empty DataFrame\n",
       "Columns: [Order_ID, Product, Quantity_Ordered, Price_Each, Order_Date, Purchase_Address, Day, City]\n",
       "Index: []"
      ]
     },
     "execution_count": 69,
     "metadata": {},
     "output_type": "execute_result"
    }
   ],
   "source": [
    "sales[sales.duplicated(keep='first')]"
   ]
  },
  {
   "cell_type": "markdown",
   "id": "dense-lebanon",
   "metadata": {},
   "source": [
    "### Data Analysis"
   ]
  },
  {
   "cell_type": "code",
   "execution_count": 70,
   "id": "demographic-hypothetical",
   "metadata": {},
   "outputs": [
    {
     "data": {
      "text/html": [
       "<div>\n",
       "<style scoped>\n",
       "    .dataframe tbody tr th:only-of-type {\n",
       "        vertical-align: middle;\n",
       "    }\n",
       "\n",
       "    .dataframe tbody tr th {\n",
       "        vertical-align: top;\n",
       "    }\n",
       "\n",
       "    .dataframe thead th {\n",
       "        text-align: right;\n",
       "    }\n",
       "</style>\n",
       "<table border=\"1\" class=\"dataframe\">\n",
       "  <thead>\n",
       "    <tr style=\"text-align: right;\">\n",
       "      <th></th>\n",
       "      <th>Order_ID</th>\n",
       "      <th>Product</th>\n",
       "      <th>Quantity_Ordered</th>\n",
       "      <th>Price_Each</th>\n",
       "      <th>Order_Date</th>\n",
       "      <th>Purchase_Address</th>\n",
       "      <th>Day</th>\n",
       "      <th>City</th>\n",
       "    </tr>\n",
       "  </thead>\n",
       "  <tbody>\n",
       "    <tr>\n",
       "      <th>2908</th>\n",
       "      <td>179343</td>\n",
       "      <td>Flatscreen TV</td>\n",
       "      <td>1</td>\n",
       "      <td>300.0</td>\n",
       "      <td>2019-04-21 19:33:00</td>\n",
       "      <td>683 5th St, Dallas, TX 75001</td>\n",
       "      <td>21</td>\n",
       "      <td>Dallas</td>\n",
       "    </tr>\n",
       "    <tr>\n",
       "      <th>7382</th>\n",
       "      <td>183597</td>\n",
       "      <td>Flatscreen TV</td>\n",
       "      <td>1</td>\n",
       "      <td>300.0</td>\n",
       "      <td>2019-04-21 13:31:00</td>\n",
       "      <td>335 Washington St, Dallas, TX 75001</td>\n",
       "      <td>21</td>\n",
       "      <td>Dallas</td>\n",
       "    </tr>\n",
       "    <tr>\n",
       "      <th>13108</th>\n",
       "      <td>189053</td>\n",
       "      <td>Flatscreen TV</td>\n",
       "      <td>1</td>\n",
       "      <td>300.0</td>\n",
       "      <td>2019-04-21 17:09:00</td>\n",
       "      <td>410 6th St, Dallas, TX 75001</td>\n",
       "      <td>21</td>\n",
       "      <td>Dallas</td>\n",
       "    </tr>\n",
       "  </tbody>\n",
       "</table>\n",
       "</div>"
      ],
      "text/plain": [
       "       Order_ID        Product  Quantity_Ordered  Price_Each  \\\n",
       "2908     179343  Flatscreen TV                 1       300.0   \n",
       "7382     183597  Flatscreen TV                 1       300.0   \n",
       "13108    189053  Flatscreen TV                 1       300.0   \n",
       "\n",
       "               Order_Date                     Purchase_Address  Day    City  \n",
       "2908  2019-04-21 19:33:00         683 5th St, Dallas, TX 75001   21  Dallas  \n",
       "7382  2019-04-21 13:31:00  335 Washington St, Dallas, TX 75001   21  Dallas  \n",
       "13108 2019-04-21 17:09:00         410 6th St, Dallas, TX 75001   21  Dallas  "
      ]
     },
     "execution_count": 70,
     "metadata": {},
     "output_type": "execute_result"
    }
   ],
   "source": [
    "sales[(sales.iloc[:,7] == 'Dallas') & (sales.iloc[:,6] == 21) & (sales.iloc[:,1] =='Flatscreen TV')]"
   ]
  },
  {
   "cell_type": "markdown",
   "id": "flush-idaho",
   "metadata": {},
   "source": [
    "### Calculate the Sales"
   ]
  },
  {
   "cell_type": "code",
   "execution_count": 71,
   "id": "synthetic-remark",
   "metadata": {},
   "outputs": [],
   "source": [
    "sales['Sales'] = sales['Quantity_Ordered'] * sales['Price_Each'] "
   ]
  },
  {
   "cell_type": "code",
   "execution_count": 72,
   "id": "preceding-turtle",
   "metadata": {},
   "outputs": [
    {
     "data": {
      "text/html": [
       "<div>\n",
       "<style scoped>\n",
       "    .dataframe tbody tr th:only-of-type {\n",
       "        vertical-align: middle;\n",
       "    }\n",
       "\n",
       "    .dataframe tbody tr th {\n",
       "        vertical-align: top;\n",
       "    }\n",
       "\n",
       "    .dataframe thead th {\n",
       "        text-align: right;\n",
       "    }\n",
       "</style>\n",
       "<table border=\"1\" class=\"dataframe\">\n",
       "  <thead>\n",
       "    <tr style=\"text-align: right;\">\n",
       "      <th></th>\n",
       "      <th>Order_ID</th>\n",
       "      <th>Product</th>\n",
       "      <th>Quantity_Ordered</th>\n",
       "      <th>Price_Each</th>\n",
       "      <th>Order_Date</th>\n",
       "      <th>Purchase_Address</th>\n",
       "      <th>Day</th>\n",
       "      <th>City</th>\n",
       "      <th>Sales</th>\n",
       "    </tr>\n",
       "  </thead>\n",
       "  <tbody>\n",
       "    <tr>\n",
       "      <th>0</th>\n",
       "      <td>176558</td>\n",
       "      <td>USB-C Charging Cable</td>\n",
       "      <td>2</td>\n",
       "      <td>11.95</td>\n",
       "      <td>2019-04-19 08:46:00</td>\n",
       "      <td>917 1st St, Dallas, TX 75001</td>\n",
       "      <td>19</td>\n",
       "      <td>Dallas</td>\n",
       "      <td>23.90</td>\n",
       "    </tr>\n",
       "    <tr>\n",
       "      <th>2</th>\n",
       "      <td>176559</td>\n",
       "      <td>Bose SoundSport Headphones</td>\n",
       "      <td>1</td>\n",
       "      <td>99.99</td>\n",
       "      <td>2019-04-07 22:30:00</td>\n",
       "      <td>682 Chestnut St, Boston, MA 02215</td>\n",
       "      <td>7</td>\n",
       "      <td>Boston</td>\n",
       "      <td>99.99</td>\n",
       "    </tr>\n",
       "  </tbody>\n",
       "</table>\n",
       "</div>"
      ],
      "text/plain": [
       "   Order_ID                     Product  Quantity_Ordered  Price_Each  \\\n",
       "0    176558        USB-C Charging Cable                 2       11.95   \n",
       "2    176559  Bose SoundSport Headphones                 1       99.99   \n",
       "\n",
       "           Order_Date                   Purchase_Address  Day    City  Sales  \n",
       "0 2019-04-19 08:46:00       917 1st St, Dallas, TX 75001   19  Dallas  23.90  \n",
       "2 2019-04-07 22:30:00  682 Chestnut St, Boston, MA 02215    7  Boston  99.99  "
      ]
     },
     "execution_count": 72,
     "metadata": {},
     "output_type": "execute_result"
    }
   ],
   "source": [
    "sales.head(2)"
   ]
  },
  {
   "cell_type": "code",
   "execution_count": 73,
   "id": "therapeutic-market",
   "metadata": {},
   "outputs": [
    {
     "data": {
      "text/plain": [
       "(18267, 9)"
      ]
     },
     "execution_count": 73,
     "metadata": {},
     "output_type": "execute_result"
    }
   ],
   "source": [
    "sales.shape"
   ]
  },
  {
   "cell_type": "code",
   "execution_count": 74,
   "id": "worthy-moldova",
   "metadata": {},
   "outputs": [
    {
     "name": "stdout",
     "output_type": "stream",
     "text": [
      "<class 'pandas.core.frame.DataFrame'>\n",
      "Int64Index: 18267 entries, 0 to 18382\n",
      "Data columns (total 9 columns):\n",
      " #   Column            Non-Null Count  Dtype         \n",
      "---  ------            --------------  -----         \n",
      " 0   Order_ID          18267 non-null  int64         \n",
      " 1   Product           18267 non-null  object        \n",
      " 2   Quantity_Ordered  18267 non-null  int32         \n",
      " 3   Price_Each        18267 non-null  float64       \n",
      " 4   Order_Date        18267 non-null  datetime64[ns]\n",
      " 5   Purchase_Address  18267 non-null  object        \n",
      " 6   Day               18267 non-null  int64         \n",
      " 7   City              18267 non-null  object        \n",
      " 8   Sales             18267 non-null  float64       \n",
      "dtypes: datetime64[ns](1), float64(2), int32(1), int64(2), object(3)\n",
      "memory usage: 1.3+ MB\n"
     ]
    }
   ],
   "source": [
    "sales.info()"
   ]
  },
  {
   "cell_type": "code",
   "execution_count": 75,
   "id": "stainless-louisville",
   "metadata": {},
   "outputs": [
    {
     "data": {
      "text/html": [
       "<div>\n",
       "<style scoped>\n",
       "    .dataframe tbody tr th:only-of-type {\n",
       "        vertical-align: middle;\n",
       "    }\n",
       "\n",
       "    .dataframe tbody tr th {\n",
       "        vertical-align: top;\n",
       "    }\n",
       "\n",
       "    .dataframe thead th {\n",
       "        text-align: right;\n",
       "    }\n",
       "</style>\n",
       "<table border=\"1\" class=\"dataframe\">\n",
       "  <thead>\n",
       "    <tr style=\"text-align: right;\">\n",
       "      <th></th>\n",
       "      <th>Order_ID</th>\n",
       "      <th>Quantity_Ordered</th>\n",
       "      <th>Price_Each</th>\n",
       "      <th>Day</th>\n",
       "      <th>Sales</th>\n",
       "    </tr>\n",
       "  </thead>\n",
       "  <tbody>\n",
       "    <tr>\n",
       "      <th>count</th>\n",
       "      <td>18267.000000</td>\n",
       "      <td>18267.000000</td>\n",
       "      <td>18267.000000</td>\n",
       "      <td>18267.000000</td>\n",
       "      <td>18267.000000</td>\n",
       "    </tr>\n",
       "    <tr>\n",
       "      <th>mean</th>\n",
       "      <td>185330.420595</td>\n",
       "      <td>1.124760</td>\n",
       "      <td>184.573645</td>\n",
       "      <td>15.471506</td>\n",
       "      <td>185.832750</td>\n",
       "    </tr>\n",
       "    <tr>\n",
       "      <th>std</th>\n",
       "      <td>5061.670698</td>\n",
       "      <td>0.436651</td>\n",
       "      <td>331.069060</td>\n",
       "      <td>8.630009</td>\n",
       "      <td>332.381465</td>\n",
       "    </tr>\n",
       "    <tr>\n",
       "      <th>min</th>\n",
       "      <td>176558.000000</td>\n",
       "      <td>1.000000</td>\n",
       "      <td>2.990000</td>\n",
       "      <td>1.000000</td>\n",
       "      <td>2.990000</td>\n",
       "    </tr>\n",
       "    <tr>\n",
       "      <th>25%</th>\n",
       "      <td>180953.500000</td>\n",
       "      <td>1.000000</td>\n",
       "      <td>11.950000</td>\n",
       "      <td>8.000000</td>\n",
       "      <td>11.950000</td>\n",
       "    </tr>\n",
       "    <tr>\n",
       "      <th>50%</th>\n",
       "      <td>185332.000000</td>\n",
       "      <td>1.000000</td>\n",
       "      <td>14.950000</td>\n",
       "      <td>15.000000</td>\n",
       "      <td>14.950000</td>\n",
       "    </tr>\n",
       "    <tr>\n",
       "      <th>75%</th>\n",
       "      <td>189707.500000</td>\n",
       "      <td>1.000000</td>\n",
       "      <td>150.000000</td>\n",
       "      <td>23.000000</td>\n",
       "      <td>150.000000</td>\n",
       "    </tr>\n",
       "    <tr>\n",
       "      <th>max</th>\n",
       "      <td>194094.000000</td>\n",
       "      <td>7.000000</td>\n",
       "      <td>1700.000000</td>\n",
       "      <td>30.000000</td>\n",
       "      <td>3400.000000</td>\n",
       "    </tr>\n",
       "  </tbody>\n",
       "</table>\n",
       "</div>"
      ],
      "text/plain": [
       "            Order_ID  Quantity_Ordered    Price_Each           Day  \\\n",
       "count   18267.000000      18267.000000  18267.000000  18267.000000   \n",
       "mean   185330.420595          1.124760    184.573645     15.471506   \n",
       "std      5061.670698          0.436651    331.069060      8.630009   \n",
       "min    176558.000000          1.000000      2.990000      1.000000   \n",
       "25%    180953.500000          1.000000     11.950000      8.000000   \n",
       "50%    185332.000000          1.000000     14.950000     15.000000   \n",
       "75%    189707.500000          1.000000    150.000000     23.000000   \n",
       "max    194094.000000          7.000000   1700.000000     30.000000   \n",
       "\n",
       "              Sales  \n",
       "count  18267.000000  \n",
       "mean     185.832750  \n",
       "std      332.381465  \n",
       "min        2.990000  \n",
       "25%       11.950000  \n",
       "50%       14.950000  \n",
       "75%      150.000000  \n",
       "max     3400.000000  "
      ]
     },
     "execution_count": 75,
     "metadata": {},
     "output_type": "execute_result"
    }
   ],
   "source": [
    "sales.describe()"
   ]
  },
  {
   "cell_type": "code",
   "execution_count": 76,
   "id": "conservative-april",
   "metadata": {},
   "outputs": [
    {
     "data": {
      "text/plain": [
       "Order_ID            0\n",
       "Product             0\n",
       "Quantity_Ordered    0\n",
       "Price_Each          0\n",
       "Order_Date          0\n",
       "Purchase_Address    0\n",
       "Day                 0\n",
       "City                0\n",
       "Sales               0\n",
       "dtype: int64"
      ]
     },
     "execution_count": 76,
     "metadata": {},
     "output_type": "execute_result"
    }
   ],
   "source": [
    "sales.isnull().sum()"
   ]
  },
  {
   "cell_type": "code",
   "execution_count": 77,
   "id": "disciplinary-taste",
   "metadata": {},
   "outputs": [
    {
     "data": {
      "text/plain": [
       "Order_ID            18267\n",
       "Product             18267\n",
       "Quantity_Ordered    18267\n",
       "Price_Each          18267\n",
       "Order_Date          18267\n",
       "Purchase_Address    18267\n",
       "Day                 18267\n",
       "City                18267\n",
       "Sales               18267\n",
       "dtype: int64"
      ]
     },
     "execution_count": 77,
     "metadata": {},
     "output_type": "execute_result"
    }
   ],
   "source": [
    "sales.count()"
   ]
  },
  {
   "cell_type": "code",
   "execution_count": null,
   "id": "insured-chamber",
   "metadata": {},
   "outputs": [],
   "source": []
  }
 ],
 "metadata": {
  "kernelspec": {
   "display_name": "Python 3",
   "language": "python",
   "name": "python3"
  },
  "language_info": {
   "codemirror_mode": {
    "name": "ipython",
    "version": 3
   },
   "file_extension": ".py",
   "mimetype": "text/x-python",
   "name": "python",
   "nbconvert_exporter": "python",
   "pygments_lexer": "ipython3",
   "version": "3.9.1"
  }
 },
 "nbformat": 4,
 "nbformat_minor": 5
}
